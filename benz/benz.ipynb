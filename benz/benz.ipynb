{
 "cells": [
  {
   "cell_type": "code",
   "execution_count": 1,
   "metadata": {
    "_cell_guid": "b1076dfc-b9ad-4769-8c92-a6c4dae69d19",
    "_uuid": "8f2839f25d086af736a60e9eeb907d3b93b6e0e5",
    "execution": {
     "iopub.execute_input": "2021-02-20T16:22:37.962599Z",
     "iopub.status.busy": "2021-02-20T16:22:37.961774Z",
     "iopub.status.idle": "2021-02-20T16:22:37.969952Z",
     "shell.execute_reply": "2021-02-20T16:22:37.969031Z"
    },
    "papermill": {
     "duration": 0.026402,
     "end_time": "2021-02-20T16:22:37.970211",
     "exception": false,
     "start_time": "2021-02-20T16:22:37.943809",
     "status": "completed"
    },
    "tags": []
   },
   "outputs": [
    {
     "name": "stdout",
     "output_type": "stream",
     "text": [
      "/kaggle/input/mercedes-benz-greener-manufacturing/train.csv.zip\n",
      "/kaggle/input/mercedes-benz-greener-manufacturing/sample_submission.csv.zip\n",
      "/kaggle/input/mercedes-benz-greener-manufacturing/test.csv.zip\n"
     ]
    }
   ],
   "source": [
    "# This Python 3 environment comes with many helpful analytics libraries installed\n",
    "# It is defined by the kaggle/python Docker image: https://github.com/kaggle/docker-python\n",
    "# For example, here's several helpful packages to load\n",
    "\n",
    "import numpy as np # linear algebra\n",
    "import pandas as pd # data processing, CSV file I/O (e.g. pd.read_csv)\n",
    "\n",
    "# Input data files are available in the read-only \"../input/\" directory\n",
    "# For example, running this (by clicking run or pressing Shift+Enter) will list all files under the input directory\n",
    "\n",
    "import os\n",
    "for dirname, _, filenames in os.walk('/kaggle/input'):\n",
    "    for filename in filenames:\n",
    "        print(os.path.join(dirname, filename))\n",
    "\n",
    "# You can write up to 20GB to the current directory (/kaggle/working/) that gets preserved as output when you create a version using \"Save & Run All\" \n",
    "# You can also write temporary files to /kaggle/temp/, but they won't be saved outside of the current session"
   ]
  },
  {
   "cell_type": "code",
   "execution_count": 2,
   "metadata": {
    "execution": {
     "iopub.execute_input": "2021-02-20T16:22:37.997549Z",
     "iopub.status.busy": "2021-02-20T16:22:37.996843Z",
     "iopub.status.idle": "2021-02-20T16:22:38.361174Z",
     "shell.execute_reply": "2021-02-20T16:22:38.360487Z"
    },
    "papermill": {
     "duration": 0.380092,
     "end_time": "2021-02-20T16:22:38.361399",
     "exception": false,
     "start_time": "2021-02-20T16:22:37.981307",
     "status": "completed"
    },
    "tags": []
   },
   "outputs": [],
   "source": [
    "pd.options.display.max_columns = 1000\n",
    "train = pd.read_csv(\"/kaggle/input/mercedes-benz-greener-manufacturing/train.csv.zip\")\n",
    "test = pd.read_csv(\"/kaggle/input/mercedes-benz-greener-manufacturing/test.csv.zip\")"
   ]
  },
  {
   "cell_type": "code",
   "execution_count": 3,
   "metadata": {
    "execution": {
     "iopub.execute_input": "2021-02-20T16:22:38.403111Z",
     "iopub.status.busy": "2021-02-20T16:22:38.401716Z",
     "iopub.status.idle": "2021-02-20T16:22:38.460366Z",
     "shell.execute_reply": "2021-02-20T16:22:38.459683Z"
    },
    "papermill": {
     "duration": 0.087881,
     "end_time": "2021-02-20T16:22:38.460513",
     "exception": false,
     "start_time": "2021-02-20T16:22:38.372632",
     "status": "completed"
    },
    "tags": []
   },
   "outputs": [],
   "source": [
    "all_data = pd.concat([train,test])\n",
    "all_data2 = all_data.drop([\"y\"],1)\n",
    "# y값이 예측해야하는 target컬럼"
   ]
  },
  {
   "cell_type": "code",
   "execution_count": 4,
   "metadata": {
    "execution": {
     "iopub.execute_input": "2021-02-20T16:22:38.486469Z",
     "iopub.status.busy": "2021-02-20T16:22:38.485577Z",
     "iopub.status.idle": "2021-02-20T16:22:39.427641Z",
     "shell.execute_reply": "2021-02-20T16:22:39.426947Z"
    },
    "papermill": {
     "duration": 0.956976,
     "end_time": "2021-02-20T16:22:39.427790",
     "exception": false,
     "start_time": "2021-02-20T16:22:38.470814",
     "status": "completed"
    },
    "tags": []
   },
   "outputs": [],
   "source": [
    "from sklearn.preprocessing import LabelEncoder\n",
    "le = LabelEncoder()"
   ]
  },
  {
   "cell_type": "code",
   "execution_count": 5,
   "metadata": {
    "execution": {
     "iopub.execute_input": "2021-02-20T16:22:39.452724Z",
     "iopub.status.busy": "2021-02-20T16:22:39.452067Z",
     "iopub.status.idle": "2021-02-20T16:22:39.455819Z",
     "shell.execute_reply": "2021-02-20T16:22:39.455303Z"
    },
    "papermill": {
     "duration": 0.017719,
     "end_time": "2021-02-20T16:22:39.455978",
     "exception": false,
     "start_time": "2021-02-20T16:22:39.438259",
     "status": "completed"
    },
    "tags": []
   },
   "outputs": [],
   "source": [
    "# le.classes_\n",
    "# le"
   ]
  },
  {
   "cell_type": "code",
   "execution_count": 6,
   "metadata": {
    "execution": {
     "iopub.execute_input": "2021-02-20T16:22:39.485429Z",
     "iopub.status.busy": "2021-02-20T16:22:39.484618Z",
     "iopub.status.idle": "2021-02-20T16:22:39.520222Z",
     "shell.execute_reply": "2021-02-20T16:22:39.519555Z"
    },
    "papermill": {
     "duration": 0.053993,
     "end_time": "2021-02-20T16:22:39.520376",
     "exception": false,
     "start_time": "2021-02-20T16:22:39.466383",
     "status": "completed"
    },
    "tags": []
   },
   "outputs": [],
   "source": [
    "# 데이터타입이 object인 컬럼만 뽑아\n",
    "cate_cols = all_data2.columns[all_data2.dtypes == 'object']\n",
    "for i in cate_cols:\n",
    "    all_data2[i] = le.fit_transform(list(all_data2[i]))\n",
    "    # label encoding 해준다."
   ]
  },
  {
   "cell_type": "code",
   "execution_count": 7,
   "metadata": {
    "execution": {
     "iopub.execute_input": "2021-02-20T16:22:39.547497Z",
     "iopub.status.busy": "2021-02-20T16:22:39.546610Z",
     "iopub.status.idle": "2021-02-20T16:22:39.549487Z",
     "shell.execute_reply": "2021-02-20T16:22:39.548814Z"
    },
    "papermill": {
     "duration": 0.01865,
     "end_time": "2021-02-20T16:22:39.549628",
     "exception": false,
     "start_time": "2021-02-20T16:22:39.530978",
     "status": "completed"
    },
    "tags": []
   },
   "outputs": [],
   "source": [
    "# all data -> Train, Test로 분리\n",
    "train2 = all_data2[:len(train)]\n",
    "test2 = all_data2[len(train):]"
   ]
  },
  {
   "cell_type": "code",
   "execution_count": 8,
   "metadata": {
    "execution": {
     "iopub.execute_input": "2021-02-20T16:22:39.577963Z",
     "iopub.status.busy": "2021-02-20T16:22:39.577107Z",
     "iopub.status.idle": "2021-02-20T16:22:46.571627Z",
     "shell.execute_reply": "2021-02-20T16:22:46.572161Z"
    },
    "papermill": {
     "duration": 7.011985,
     "end_time": "2021-02-20T16:22:46.572417",
     "exception": false,
     "start_time": "2021-02-20T16:22:39.560432",
     "status": "completed"
    },
    "tags": []
   },
   "outputs": [],
   "source": [
    "from xgboost import XGBRegressor\n",
    "# xgb = XGBRegressor(learning_rate=0.1)\n",
    "# xgb = XGBRegressor(learning_rate=0.1,max_depth=3,)\n",
    "# xgb = XGBRegressor(learning_rate=0.1,max_depth=3,colsample_bytree=0.5)\n",
    "# xgb = XGBRegressor(learning_rate=0.1,max_depth=3,colsample_bytree=0.5,n_estimators=80)\n",
    "## max_depth = 6보다 3, n_estimator d\n",
    "## subsample = 기본값 1로 설정되어있다.\n",
    "\n",
    "# lr을 0.01로 해서 한 결과가 더 성능이 좋게 나온다.\n",
    "xgb = XGBRegressor(learning_rate=0.01,max_depth=3,colsample_bytree=0.5,n_estimators=800)\n",
    "# 앙상블 효과를 줘서 좋은 결과를 가져오도록 하였다. (n_estimator 800번)\n",
    "xgb.fit(train2, train[\"y\"])\n",
    "result2 = xgb.predict(test2)"
   ]
  },
  {
   "cell_type": "code",
   "execution_count": 9,
   "metadata": {
    "execution": {
     "iopub.execute_input": "2021-02-20T16:22:46.602907Z",
     "iopub.status.busy": "2021-02-20T16:22:46.602213Z",
     "iopub.status.idle": "2021-02-20T16:22:46.605282Z",
     "shell.execute_reply": "2021-02-20T16:22:46.604572Z"
    },
    "papermill": {
     "duration": 0.018627,
     "end_time": "2021-02-20T16:22:46.605447",
     "exception": false,
     "start_time": "2021-02-20T16:22:46.586820",
     "status": "completed"
    },
    "tags": []
   },
   "outputs": [],
   "source": [
    "# learning_rate=0.1,max_depth=3,colsample_bytree=0.5,subsample = 1, n_estimators=80\n",
    "\n",
    "# 나머지를 다 정해준다음, learning_rate를 마지막에 설정해주는것이 좋다.\n",
    "# 처음 tuning할 떄는 learning rate를 0.1로 나머지들 값을 찾아준 후, lr를 바꿔주는 것이 좋다.\n",
    "# max_depth : decision tree에서 노드의 깊이를 조절해주는 것, default값이 기본적으로 6이다.\n",
    "# colsample_bytree : =1 - 칼럼을 다 사용, =0.8 - 칼럼을 80%만 사용한다. 1보다 0.8, 0.9정도로 놓고 해야 과적합 줄여주고, 앙상블 효과를 주기 때문에 성능이 높아지는 경우가 많다\n",
    "# subsample : =1 모든 데이터 활용(default), 0.8, 0.9 이런식으로 설정 가능\n",
    "# n_estimators : default 100이며, 의사결정나무를 100번 실행한다 (이전 실행 결과를 다음 모듈 input으로 활용하여 100번 실행)\n",
    "\n",
    "# 모두 과적합을 방지하기 위한 장치들"
   ]
  },
  {
   "cell_type": "code",
   "execution_count": 10,
   "metadata": {
    "execution": {
     "iopub.execute_input": "2021-02-20T16:22:46.632732Z",
     "iopub.status.busy": "2021-02-20T16:22:46.632039Z",
     "iopub.status.idle": "2021-02-20T16:22:46.635113Z",
     "shell.execute_reply": "2021-02-20T16:22:46.635623Z"
    },
    "papermill": {
     "duration": 0.019173,
     "end_time": "2021-02-20T16:22:46.635806",
     "exception": false,
     "start_time": "2021-02-20T16:22:46.616633",
     "status": "completed"
    },
    "tags": []
   },
   "outputs": [],
   "source": [
    "# 이제 Learning rate를 조절해서 결과를 확인해보자.\n",
    "# Learning rate를 바꿀때, n_estimator도 비례하게 변경해줘야한다.\n",
    "# xgb = XGBRegressor(learning_rate=0.1,max_depth=3,colsample_bytree=0.5,n_estimators=80)\n",
    "# xgb = XGBRegressor(learning_rate=0.01,max_depth=3,colsample_bytree=0.5,n_estimators=800)\n",
    "# lr이 0.1일때, 80번으로, 0.01일때 800번으로 이렇게 반비례하게 설정 변환해줘야한다."
   ]
  },
  {
   "cell_type": "code",
   "execution_count": 11,
   "metadata": {
    "execution": {
     "iopub.execute_input": "2021-02-20T16:22:46.663560Z",
     "iopub.status.busy": "2021-02-20T16:22:46.662789Z",
     "iopub.status.idle": "2021-02-20T16:22:46.699054Z",
     "shell.execute_reply": "2021-02-20T16:22:46.698386Z"
    },
    "papermill": {
     "duration": 0.051982,
     "end_time": "2021-02-20T16:22:46.699231",
     "exception": false,
     "start_time": "2021-02-20T16:22:46.647249",
     "status": "completed"
    },
    "tags": []
   },
   "outputs": [],
   "source": [
    "sub = pd.read_csv(\"/kaggle/input/mercedes-benz-greener-manufacturing/sample_submission.csv.zip\")\n",
    "sub['y'] = result2\n",
    "sub.to_csv(\"sub_0824.csv\",index = 0)"
   ]
  },
  {
   "cell_type": "code",
   "execution_count": 12,
   "metadata": {
    "execution": {
     "iopub.execute_input": "2021-02-20T16:22:46.731292Z",
     "iopub.status.busy": "2021-02-20T16:22:46.730270Z",
     "iopub.status.idle": "2021-02-20T16:22:46.746454Z",
     "shell.execute_reply": "2021-02-20T16:22:46.745759Z"
    },
    "papermill": {
     "duration": 0.035452,
     "end_time": "2021-02-20T16:22:46.746618",
     "exception": false,
     "start_time": "2021-02-20T16:22:46.711166",
     "status": "completed"
    },
    "tags": []
   },
   "outputs": [
    {
     "data": {
      "text/html": [
       "<div>\n",
       "<style scoped>\n",
       "    .dataframe tbody tr th:only-of-type {\n",
       "        vertical-align: middle;\n",
       "    }\n",
       "\n",
       "    .dataframe tbody tr th {\n",
       "        vertical-align: top;\n",
       "    }\n",
       "\n",
       "    .dataframe thead th {\n",
       "        text-align: right;\n",
       "    }\n",
       "</style>\n",
       "<table border=\"1\" class=\"dataframe\">\n",
       "  <thead>\n",
       "    <tr style=\"text-align: right;\">\n",
       "      <th></th>\n",
       "      <th>ID</th>\n",
       "      <th>y</th>\n",
       "    </tr>\n",
       "  </thead>\n",
       "  <tbody>\n",
       "    <tr>\n",
       "      <th>0</th>\n",
       "      <td>1</td>\n",
       "      <td>83.972076</td>\n",
       "    </tr>\n",
       "    <tr>\n",
       "      <th>1</th>\n",
       "      <td>2</td>\n",
       "      <td>102.263741</td>\n",
       "    </tr>\n",
       "    <tr>\n",
       "      <th>2</th>\n",
       "      <td>3</td>\n",
       "      <td>84.074417</td>\n",
       "    </tr>\n",
       "    <tr>\n",
       "      <th>3</th>\n",
       "      <td>4</td>\n",
       "      <td>78.722122</td>\n",
       "    </tr>\n",
       "    <tr>\n",
       "      <th>4</th>\n",
       "      <td>5</td>\n",
       "      <td>113.861000</td>\n",
       "    </tr>\n",
       "    <tr>\n",
       "      <th>...</th>\n",
       "      <td>...</td>\n",
       "      <td>...</td>\n",
       "    </tr>\n",
       "    <tr>\n",
       "      <th>4204</th>\n",
       "      <td>8410</td>\n",
       "      <td>102.140999</td>\n",
       "    </tr>\n",
       "    <tr>\n",
       "      <th>4205</th>\n",
       "      <td>8411</td>\n",
       "      <td>92.601723</td>\n",
       "    </tr>\n",
       "    <tr>\n",
       "      <th>4206</th>\n",
       "      <td>8413</td>\n",
       "      <td>92.706245</td>\n",
       "    </tr>\n",
       "    <tr>\n",
       "      <th>4207</th>\n",
       "      <td>8414</td>\n",
       "      <td>111.808594</td>\n",
       "    </tr>\n",
       "    <tr>\n",
       "      <th>4208</th>\n",
       "      <td>8416</td>\n",
       "      <td>94.261703</td>\n",
       "    </tr>\n",
       "  </tbody>\n",
       "</table>\n",
       "<p>4209 rows × 2 columns</p>\n",
       "</div>"
      ],
      "text/plain": [
       "        ID           y\n",
       "0        1   83.972076\n",
       "1        2  102.263741\n",
       "2        3   84.074417\n",
       "3        4   78.722122\n",
       "4        5  113.861000\n",
       "...    ...         ...\n",
       "4204  8410  102.140999\n",
       "4205  8411   92.601723\n",
       "4206  8413   92.706245\n",
       "4207  8414  111.808594\n",
       "4208  8416   94.261703\n",
       "\n",
       "[4209 rows x 2 columns]"
      ]
     },
     "execution_count": 12,
     "metadata": {},
     "output_type": "execute_result"
    }
   ],
   "source": [
    "sub"
   ]
  },
  {
   "cell_type": "code",
   "execution_count": 13,
   "metadata": {
    "execution": {
     "iopub.execute_input": "2021-02-20T16:22:46.778641Z",
     "iopub.status.busy": "2021-02-20T16:22:46.777921Z",
     "iopub.status.idle": "2021-02-20T16:22:46.783108Z",
     "shell.execute_reply": "2021-02-20T16:22:46.782501Z"
    },
    "papermill": {
     "duration": 0.024519,
     "end_time": "2021-02-20T16:22:46.783274",
     "exception": false,
     "start_time": "2021-02-20T16:22:46.758755",
     "status": "completed"
    },
    "tags": []
   },
   "outputs": [
    {
     "ename": "SyntaxError",
     "evalue": "invalid syntax (<ipython-input-13-fc5e77bcbee3>, line 9)",
     "output_type": "error",
     "traceback": [
      "\u001b[0;36m  File \u001b[0;32m\"<ipython-input-13-fc5e77bcbee3>\"\u001b[0;36m, line \u001b[0;32m9\u001b[0m\n\u001b[0;31m    result_A +=\u001b[0m\n\u001b[0m                ^\u001b[0m\n\u001b[0;31mSyntaxError\u001b[0m\u001b[0;31m:\u001b[0m invalid syntax\n"
     ]
    }
   ],
   "source": [
    "# random_seed 를 활용해 여러번 돌려 앙상블 효과를 줘서 더 성능을 높여줄 수 있다.\n",
    "# random state 값을 고정하여 -> xgboost에서 램던하게 변화하는 값이 있는데 해당 값을 고정해준다.\n",
    "random_seed = [1111,2222,3333,4444,5555,6666,7777,8888,9999,1000]\n",
    "result = 0\n",
    "\n",
    "for i in random_seef[:7]:\n",
    "    xgb = XGBRegressor(learning_rate=0.01, max_depth=3,colsample_bytree=0.5,n_estimators=800,random_state=i)\n",
    "    xgb.fit(train2, train[\"y\"])\n",
    "    result_A += "
   ]
  },
  {
   "cell_type": "code",
   "execution_count": 14,
   "metadata": {
    "execution": {
     "iopub.execute_input": "2021-02-20T16:22:46.819653Z",
     "iopub.status.busy": "2021-02-20T16:22:46.818693Z",
     "iopub.status.idle": "2021-02-20T16:23:41.471290Z",
     "shell.execute_reply": "2021-02-20T16:23:41.472006Z"
    },
    "papermill": {
     "duration": 54.674893,
     "end_time": "2021-02-20T16:23:41.472346",
     "exception": false,
     "start_time": "2021-02-20T16:22:46.797453",
     "status": "completed"
    },
    "tags": []
   },
   "outputs": [
    {
     "name": "stdout",
     "output_type": "stream",
     "text": [
      "|   iter    |  target   | colsam... | max_depth | subsample |\n",
      "-------------------------------------------------------------\n",
      "| \u001b[0m 1       \u001b[0m | \u001b[0m-8.651   \u001b[0m | \u001b[0m 0.6537  \u001b[0m | \u001b[0m 10.74   \u001b[0m | \u001b[0m 0.5098  \u001b[0m |\n",
      "| \u001b[95m 2       \u001b[0m | \u001b[95m-8.444   \u001b[0m | \u001b[95m 0.6255  \u001b[0m | \u001b[95m 7.312   \u001b[0m | \u001b[95m 0.762   \u001b[0m |\n",
      "| \u001b[95m 3       \u001b[0m | \u001b[95m-8.323   \u001b[0m | \u001b[95m 0.9681  \u001b[0m | \u001b[95m 3.545   \u001b[0m | \u001b[95m 0.6929  \u001b[0m |\n",
      "| \u001b[0m 4       \u001b[0m | \u001b[0m-8.521   \u001b[0m | \u001b[0m 0.6167  \u001b[0m | \u001b[0m 9.875   \u001b[0m | \u001b[0m 0.6039  \u001b[0m |\n",
      "| \u001b[0m 5       \u001b[0m | \u001b[0m-8.347   \u001b[0m | \u001b[0m 0.8951  \u001b[0m | \u001b[0m 4.344   \u001b[0m | \u001b[0m 0.7072  \u001b[0m |\n",
      "| \u001b[0m 6       \u001b[0m | \u001b[0m-8.961   \u001b[0m | \u001b[0m 1.0     \u001b[0m | \u001b[0m 15.0    \u001b[0m | \u001b[0m 1.0     \u001b[0m |\n",
      "| \u001b[95m 7       \u001b[0m | \u001b[95m-8.31    \u001b[0m | \u001b[95m 0.5     \u001b[0m | \u001b[95m 3.0     \u001b[0m | \u001b[95m 1.0     \u001b[0m |\n",
      "| \u001b[0m 8       \u001b[0m | \u001b[0m-8.328   \u001b[0m | \u001b[0m 0.5     \u001b[0m | \u001b[0m 3.0     \u001b[0m | \u001b[0m 0.5     \u001b[0m |\n",
      "| \u001b[0m 9       \u001b[0m | \u001b[0m-8.331   \u001b[0m | \u001b[0m 1.0     \u001b[0m | \u001b[0m 3.0     \u001b[0m | \u001b[0m 1.0     \u001b[0m |\n",
      "| \u001b[0m 10      \u001b[0m | \u001b[0m-8.31    \u001b[0m | \u001b[0m 0.5     \u001b[0m | \u001b[0m 3.842   \u001b[0m | \u001b[0m 1.0     \u001b[0m |\n",
      "| \u001b[0m 11      \u001b[0m | \u001b[0m-8.328   \u001b[0m | \u001b[0m 0.5     \u001b[0m | \u001b[0m 3.807   \u001b[0m | \u001b[0m 0.5     \u001b[0m |\n",
      "| \u001b[0m 12      \u001b[0m | \u001b[0m-8.31    \u001b[0m | \u001b[0m 0.5     \u001b[0m | \u001b[0m 3.409   \u001b[0m | \u001b[0m 1.0     \u001b[0m |\n",
      "| \u001b[0m 13      \u001b[0m | \u001b[0m-8.358   \u001b[0m | \u001b[0m 0.5     \u001b[0m | \u001b[0m 5.177   \u001b[0m | \u001b[0m 1.0     \u001b[0m |\n",
      "=============================================================\n"
     ]
    }
   ],
   "source": [
    "# Greed search \n",
    "# random search\n",
    "# 베이지안 옵티마이제이션 - 요즘 많이 활용\n",
    "# 이런 방법들을 활용하여 적절한 parameter값을 자동으로 찾을 수 있다.\n",
    "#https://www.kaggle.com/btyuhas/bayesian-optimization-with-xgboost\n",
    "from bayes_opt import BayesianOptimization\n",
    "import xgboost as xgb\n",
    "def xgb_eval(max_depth,colsample_bytree,subsample):\n",
    "    params = {\n",
    "        'eval_metric': 'rmse',\n",
    "        'max_depth' : int(max_depth),\n",
    "        'colsample_bytree' : colsample_bytree,\n",
    "        'subsample' : subsample,\n",
    "#         'n_estimators' : int(n_estimators),\n",
    "        'learning_rate' : 0.1\n",
    "    }\n",
    "    xgb_train = xgb.DMatrix(np.array(train2),train[\"y\"]) # train칼럼명 겹칠수 있어서 np.array로 묶음\n",
    "    cv_result = xgb.cv(params,xgb_train, #교차검증 점수 이렇게 바로 가져올 수 있음(파이썬 레퍼)\n",
    "                       num_boost_round=1000, #num_boost_round는 어차피 하다가 멈추니까 엄청 높게 하는게 좋음. 여기선 시간관계상\n",
    "                      early_stopping_rounds=10,\n",
    "                      nfold=4)\n",
    "    return -1.0 * cv_result['test-rmse-mean'].iloc[-1]\n",
    "xgb_opt = BayesianOptimization(xgb_eval,{\"max_depth\":(3,15),\n",
    "                                        \"colsample_bytree\":(0.5,1),\n",
    "                                        \"subsample\":(0.5,1)})\n",
    "#                                         \"n_estimators\":(60,200)})\n",
    "xgb_opt.maximize(n_iter=10,init_points=3)"
   ]
  }
 ],
 "metadata": {
  "kernelspec": {
   "display_name": "Python 3",
   "language": "python",
   "name": "python3"
  },
  "language_info": {
   "codemirror_mode": {
    "name": "ipython",
    "version": 3
   },
   "file_extension": ".py",
   "mimetype": "text/x-python",
   "name": "python",
   "nbconvert_exporter": "python",
   "pygments_lexer": "ipython3",
   "version": "3.7.9"
  },
  "papermill": {
   "default_parameters": {},
   "duration": 70.151595,
   "end_time": "2021-02-20T16:23:42.100638",
   "environment_variables": {},
   "exception": null,
   "input_path": "__notebook__.ipynb",
   "output_path": "__notebook__.ipynb",
   "parameters": {},
   "start_time": "2021-02-20T16:22:31.949043",
   "version": "2.2.2"
  }
 },
 "nbformat": 4,
 "nbformat_minor": 4
}
