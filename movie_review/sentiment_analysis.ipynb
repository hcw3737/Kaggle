{
 "cells": [
  {
   "cell_type": "code",
   "execution_count": 1,
   "metadata": {
    "_cell_guid": "b1076dfc-b9ad-4769-8c92-a6c4dae69d19",
    "_uuid": "8f2839f25d086af736a60e9eeb907d3b93b6e0e5",
    "execution": {
     "iopub.execute_input": "2021-03-08T02:23:23.366156Z",
     "iopub.status.busy": "2021-03-08T02:23:23.365269Z",
     "iopub.status.idle": "2021-03-08T02:23:23.371831Z",
     "shell.execute_reply": "2021-03-08T02:23:23.370722Z"
    },
    "papermill": {
     "duration": 0.027432,
     "end_time": "2021-03-08T02:23:23.372269",
     "exception": false,
     "start_time": "2021-03-08T02:23:23.344837",
     "status": "completed"
    },
    "tags": []
   },
   "outputs": [
    {
     "name": "stdout",
     "output_type": "stream",
     "text": [
      "/kaggle/input/sentiment-analysis-on-movie-reviews/sampleSubmission.csv\n",
      "/kaggle/input/sentiment-analysis-on-movie-reviews/train.tsv.zip\n",
      "/kaggle/input/sentiment-analysis-on-movie-reviews/test.tsv.zip\n"
     ]
    }
   ],
   "source": [
    "# This Python 3 environment comes with many helpful analytics libraries installed\n",
    "# It is defined by the kaggle/python Docker image: https://github.com/kaggle/docker-python\n",
    "# For example, here's several helpful packages to load\n",
    "\n",
    "import numpy as np # linear algebra\n",
    "import pandas as pd # data processing, CSV file I/O (e.g. pd.read_csv)\n",
    "\n",
    "# Input data files are available in the read-only \"../input/\" directory\n",
    "# For example, running this (by clicking run or pressing Shift+Enter) will list all files under the input directory\n",
    "\n",
    "import os\n",
    "for dirname, _, filenames in os.walk('/kaggle/input'):\n",
    "    for filename in filenames:\n",
    "        print(os.path.join(dirname, filename))\n",
    "\n",
    "# You can write up to 20GB to the current directory (/kaggle/working/) that gets preserved as output when you create a version using \"Save & Run All\" \n",
    "# You can also write temporary files to /kaggle/temp/, but they won't be saved outside of the current session"
   ]
  },
  {
   "cell_type": "code",
   "execution_count": 2,
   "metadata": {
    "execution": {
     "iopub.execute_input": "2021-03-08T02:23:23.403242Z",
     "iopub.status.busy": "2021-03-08T02:23:23.402423Z",
     "iopub.status.idle": "2021-03-08T02:23:23.840526Z",
     "shell.execute_reply": "2021-03-08T02:23:23.839833Z"
    },
    "papermill": {
     "duration": 0.454564,
     "end_time": "2021-03-08T02:23:23.840672",
     "exception": false,
     "start_time": "2021-03-08T02:23:23.386108",
     "status": "completed"
    },
    "tags": []
   },
   "outputs": [],
   "source": [
    "# Sentiment Analysis on Movie Reviews 대회\n",
    "train = pd.read_table(\"/kaggle/input/sentiment-analysis-on-movie-reviews/train.tsv.zip\")\n",
    "test = pd.read_table(\"/kaggle/input/sentiment-analysis-on-movie-reviews/test.tsv.zip\")\n"
   ]
  },
  {
   "cell_type": "code",
   "execution_count": 3,
   "metadata": {
    "execution": {
     "iopub.execute_input": "2021-03-08T02:23:23.887951Z",
     "iopub.status.busy": "2021-03-08T02:23:23.887175Z",
     "iopub.status.idle": "2021-03-08T02:23:23.915029Z",
     "shell.execute_reply": "2021-03-08T02:23:23.915568Z"
    },
    "papermill": {
     "duration": 0.062157,
     "end_time": "2021-03-08T02:23:23.915779",
     "exception": false,
     "start_time": "2021-03-08T02:23:23.853622",
     "status": "completed"
    },
    "tags": []
   },
   "outputs": [
    {
     "data": {
      "text/html": [
       "<div>\n",
       "<style scoped>\n",
       "    .dataframe tbody tr th:only-of-type {\n",
       "        vertical-align: middle;\n",
       "    }\n",
       "\n",
       "    .dataframe tbody tr th {\n",
       "        vertical-align: top;\n",
       "    }\n",
       "\n",
       "    .dataframe thead th {\n",
       "        text-align: right;\n",
       "    }\n",
       "</style>\n",
       "<table border=\"1\" class=\"dataframe\">\n",
       "  <thead>\n",
       "    <tr style=\"text-align: right;\">\n",
       "      <th></th>\n",
       "      <th>PhraseId</th>\n",
       "      <th>SentenceId</th>\n",
       "      <th>Phrase</th>\n",
       "      <th>Sentiment</th>\n",
       "    </tr>\n",
       "  </thead>\n",
       "  <tbody>\n",
       "    <tr>\n",
       "      <th>0</th>\n",
       "      <td>1</td>\n",
       "      <td>1</td>\n",
       "      <td>A series of escapades demonstrating the adage ...</td>\n",
       "      <td>1</td>\n",
       "    </tr>\n",
       "    <tr>\n",
       "      <th>1</th>\n",
       "      <td>2</td>\n",
       "      <td>1</td>\n",
       "      <td>A series of escapades demonstrating the adage ...</td>\n",
       "      <td>2</td>\n",
       "    </tr>\n",
       "    <tr>\n",
       "      <th>2</th>\n",
       "      <td>3</td>\n",
       "      <td>1</td>\n",
       "      <td>A series</td>\n",
       "      <td>2</td>\n",
       "    </tr>\n",
       "    <tr>\n",
       "      <th>3</th>\n",
       "      <td>4</td>\n",
       "      <td>1</td>\n",
       "      <td>A</td>\n",
       "      <td>2</td>\n",
       "    </tr>\n",
       "    <tr>\n",
       "      <th>4</th>\n",
       "      <td>5</td>\n",
       "      <td>1</td>\n",
       "      <td>series</td>\n",
       "      <td>2</td>\n",
       "    </tr>\n",
       "    <tr>\n",
       "      <th>...</th>\n",
       "      <td>...</td>\n",
       "      <td>...</td>\n",
       "      <td>...</td>\n",
       "      <td>...</td>\n",
       "    </tr>\n",
       "    <tr>\n",
       "      <th>156055</th>\n",
       "      <td>156056</td>\n",
       "      <td>8544</td>\n",
       "      <td>Hearst 's</td>\n",
       "      <td>2</td>\n",
       "    </tr>\n",
       "    <tr>\n",
       "      <th>156056</th>\n",
       "      <td>156057</td>\n",
       "      <td>8544</td>\n",
       "      <td>forced avuncular chortles</td>\n",
       "      <td>1</td>\n",
       "    </tr>\n",
       "    <tr>\n",
       "      <th>156057</th>\n",
       "      <td>156058</td>\n",
       "      <td>8544</td>\n",
       "      <td>avuncular chortles</td>\n",
       "      <td>3</td>\n",
       "    </tr>\n",
       "    <tr>\n",
       "      <th>156058</th>\n",
       "      <td>156059</td>\n",
       "      <td>8544</td>\n",
       "      <td>avuncular</td>\n",
       "      <td>2</td>\n",
       "    </tr>\n",
       "    <tr>\n",
       "      <th>156059</th>\n",
       "      <td>156060</td>\n",
       "      <td>8544</td>\n",
       "      <td>chortles</td>\n",
       "      <td>2</td>\n",
       "    </tr>\n",
       "  </tbody>\n",
       "</table>\n",
       "<p>156060 rows × 4 columns</p>\n",
       "</div>"
      ],
      "text/plain": [
       "        PhraseId  SentenceId  \\\n",
       "0              1           1   \n",
       "1              2           1   \n",
       "2              3           1   \n",
       "3              4           1   \n",
       "4              5           1   \n",
       "...          ...         ...   \n",
       "156055    156056        8544   \n",
       "156056    156057        8544   \n",
       "156057    156058        8544   \n",
       "156058    156059        8544   \n",
       "156059    156060        8544   \n",
       "\n",
       "                                                   Phrase  Sentiment  \n",
       "0       A series of escapades demonstrating the adage ...          1  \n",
       "1       A series of escapades demonstrating the adage ...          2  \n",
       "2                                                A series          2  \n",
       "3                                                       A          2  \n",
       "4                                                  series          2  \n",
       "...                                                   ...        ...  \n",
       "156055                                          Hearst 's          2  \n",
       "156056                          forced avuncular chortles          1  \n",
       "156057                                 avuncular chortles          3  \n",
       "156058                                          avuncular          2  \n",
       "156059                                           chortles          2  \n",
       "\n",
       "[156060 rows x 4 columns]"
      ]
     },
     "metadata": {},
     "output_type": "display_data"
    },
    {
     "data": {
      "text/html": [
       "<div>\n",
       "<style scoped>\n",
       "    .dataframe tbody tr th:only-of-type {\n",
       "        vertical-align: middle;\n",
       "    }\n",
       "\n",
       "    .dataframe tbody tr th {\n",
       "        vertical-align: top;\n",
       "    }\n",
       "\n",
       "    .dataframe thead th {\n",
       "        text-align: right;\n",
       "    }\n",
       "</style>\n",
       "<table border=\"1\" class=\"dataframe\">\n",
       "  <thead>\n",
       "    <tr style=\"text-align: right;\">\n",
       "      <th></th>\n",
       "      <th>PhraseId</th>\n",
       "      <th>SentenceId</th>\n",
       "      <th>Phrase</th>\n",
       "    </tr>\n",
       "  </thead>\n",
       "  <tbody>\n",
       "    <tr>\n",
       "      <th>0</th>\n",
       "      <td>156061</td>\n",
       "      <td>8545</td>\n",
       "      <td>An intermittently pleasing but mostly routine ...</td>\n",
       "    </tr>\n",
       "    <tr>\n",
       "      <th>1</th>\n",
       "      <td>156062</td>\n",
       "      <td>8545</td>\n",
       "      <td>An intermittently pleasing but mostly routine ...</td>\n",
       "    </tr>\n",
       "    <tr>\n",
       "      <th>2</th>\n",
       "      <td>156063</td>\n",
       "      <td>8545</td>\n",
       "      <td>An</td>\n",
       "    </tr>\n",
       "    <tr>\n",
       "      <th>3</th>\n",
       "      <td>156064</td>\n",
       "      <td>8545</td>\n",
       "      <td>intermittently pleasing but mostly routine effort</td>\n",
       "    </tr>\n",
       "    <tr>\n",
       "      <th>4</th>\n",
       "      <td>156065</td>\n",
       "      <td>8545</td>\n",
       "      <td>intermittently pleasing but mostly routine</td>\n",
       "    </tr>\n",
       "    <tr>\n",
       "      <th>...</th>\n",
       "      <td>...</td>\n",
       "      <td>...</td>\n",
       "      <td>...</td>\n",
       "    </tr>\n",
       "    <tr>\n",
       "      <th>66287</th>\n",
       "      <td>222348</td>\n",
       "      <td>11855</td>\n",
       "      <td>A long-winded , predictable scenario .</td>\n",
       "    </tr>\n",
       "    <tr>\n",
       "      <th>66288</th>\n",
       "      <td>222349</td>\n",
       "      <td>11855</td>\n",
       "      <td>A long-winded , predictable scenario</td>\n",
       "    </tr>\n",
       "    <tr>\n",
       "      <th>66289</th>\n",
       "      <td>222350</td>\n",
       "      <td>11855</td>\n",
       "      <td>A long-winded ,</td>\n",
       "    </tr>\n",
       "    <tr>\n",
       "      <th>66290</th>\n",
       "      <td>222351</td>\n",
       "      <td>11855</td>\n",
       "      <td>A long-winded</td>\n",
       "    </tr>\n",
       "    <tr>\n",
       "      <th>66291</th>\n",
       "      <td>222352</td>\n",
       "      <td>11855</td>\n",
       "      <td>predictable scenario</td>\n",
       "    </tr>\n",
       "  </tbody>\n",
       "</table>\n",
       "<p>66292 rows × 3 columns</p>\n",
       "</div>"
      ],
      "text/plain": [
       "       PhraseId  SentenceId                                             Phrase\n",
       "0        156061        8545  An intermittently pleasing but mostly routine ...\n",
       "1        156062        8545  An intermittently pleasing but mostly routine ...\n",
       "2        156063        8545                                                 An\n",
       "3        156064        8545  intermittently pleasing but mostly routine effort\n",
       "4        156065        8545         intermittently pleasing but mostly routine\n",
       "...         ...         ...                                                ...\n",
       "66287    222348       11855             A long-winded , predictable scenario .\n",
       "66288    222349       11855               A long-winded , predictable scenario\n",
       "66289    222350       11855                                    A long-winded ,\n",
       "66290    222351       11855                                      A long-winded\n",
       "66291    222352       11855                               predictable scenario\n",
       "\n",
       "[66292 rows x 3 columns]"
      ]
     },
     "metadata": {},
     "output_type": "display_data"
    }
   ],
   "source": [
    "display(train, test)"
   ]
  },
  {
   "cell_type": "code",
   "execution_count": 4,
   "metadata": {
    "execution": {
     "iopub.execute_input": "2021-03-08T02:23:23.953663Z",
     "iopub.status.busy": "2021-03-08T02:23:23.952962Z",
     "iopub.status.idle": "2021-03-08T02:23:23.966976Z",
     "shell.execute_reply": "2021-03-08T02:23:23.966418Z"
    },
    "papermill": {
     "duration": 0.036946,
     "end_time": "2021-03-08T02:23:23.967130",
     "exception": false,
     "start_time": "2021-03-08T02:23:23.930184",
     "status": "completed"
    },
    "tags": []
   },
   "outputs": [
    {
     "data": {
      "text/plain": [
       "'A series of escapades demonstrating the adage that what is good for the goose is also good for the gander , some of which occasionally amuses but none of which amounts to much of a story .'"
      ]
     },
     "execution_count": 4,
     "metadata": {},
     "output_type": "execute_result"
    }
   ],
   "source": [
    "all_data = pd.concat([train, test])\n",
    "all_data[\"Phrase\"].iloc[0]\n",
    "#머신러닝으로는 단어단위로만 의미파악. 딥러닝은 문맥,맥락적 의미 파악이 가능\n",
    "# 딥러닝 돌리기 전에 먼저 텍스트 전처리"
   ]
  },
  {
   "cell_type": "code",
   "execution_count": 5,
   "metadata": {
    "execution": {
     "iopub.execute_input": "2021-03-08T02:23:24.001085Z",
     "iopub.status.busy": "2021-03-08T02:23:24.000278Z",
     "iopub.status.idle": "2021-03-08T02:23:30.662150Z",
     "shell.execute_reply": "2021-03-08T02:23:30.661398Z"
    },
    "papermill": {
     "duration": 6.680993,
     "end_time": "2021-03-08T02:23:30.662313",
     "exception": false,
     "start_time": "2021-03-08T02:23:23.981320",
     "status": "completed"
    },
    "tags": []
   },
   "outputs": [],
   "source": [
    "# 토크나이저 선언 (케라스의 전처리 도구)\n",
    "from keras.preprocessing.text import Tokenizer\n",
    "tk = Tokenizer()\n",
    "# 정수인코딩"
   ]
  },
  {
   "cell_type": "code",
   "execution_count": 6,
   "metadata": {
    "execution": {
     "iopub.execute_input": "2021-03-08T02:23:30.710220Z",
     "iopub.status.busy": "2021-03-08T02:23:30.705072Z",
     "iopub.status.idle": "2021-03-08T02:23:36.635310Z",
     "shell.execute_reply": "2021-03-08T02:23:36.635869Z"
    },
    "papermill": {
     "duration": 5.959157,
     "end_time": "2021-03-08T02:23:36.636111",
     "exception": false,
     "start_time": "2021-03-08T02:23:30.676954",
     "status": "completed"
    },
    "tags": []
   },
   "outputs": [
    {
     "data": {
      "text/plain": [
       "[2,\n",
       " 315,\n",
       " 3,\n",
       " 16573,\n",
       " 7660,\n",
       " 1,\n",
       " 8313,\n",
       " 9,\n",
       " 53,\n",
       " 8,\n",
       " 47,\n",
       " 13,\n",
       " 1,\n",
       " 3940,\n",
       " 8,\n",
       " 187,\n",
       " 47,\n",
       " 13,\n",
       " 1,\n",
       " 13024,\n",
       " 61,\n",
       " 3,\n",
       " 89,\n",
       " 592,\n",
       " 12156,\n",
       " 19,\n",
       " 617,\n",
       " 3,\n",
       " 89,\n",
       " 2810,\n",
       " 5,\n",
       " 52,\n",
       " 3,\n",
       " 2,\n",
       " 42]"
      ]
     },
     "execution_count": 6,
     "metadata": {},
     "output_type": "execute_result"
    }
   ],
   "source": [
    "# 코퍼스의 모든 단어를 숫자로 매핑\n",
    "tk.fit_on_texts(all_data[\"Phrase\"])\n",
    "tk.word_index # 빈도순\n",
    "all_text = tk.texts_to_sequences(all_data[\"Phrase\"]) # 각 텍스트를 숫자로\n",
    "all_data[\"Phrase\"].iloc[0]\n",
    "all_text[0]"
   ]
  },
  {
   "cell_type": "code",
   "execution_count": 7,
   "metadata": {
    "execution": {
     "iopub.execute_input": "2021-03-08T02:23:36.682538Z",
     "iopub.status.busy": "2021-03-08T02:23:36.681901Z",
     "iopub.status.idle": "2021-03-08T02:23:38.360726Z",
     "shell.execute_reply": "2021-03-08T02:23:38.360052Z"
    },
    "papermill": {
     "duration": 1.70208,
     "end_time": "2021-03-08T02:23:38.360874",
     "exception": false,
     "start_time": "2021-03-08T02:23:36.658794",
     "status": "completed"
    },
    "tags": []
   },
   "outputs": [
    {
     "data": {
      "text/plain": [
       "array([[   0,    0,    0, ...,    3,    2,   42],\n",
       "       [   0,    0,    0, ...,   13,    1, 3940],\n",
       "       [   0,    0,    0, ...,    0,    2,  315],\n",
       "       ...,\n",
       "       [   0,    0,    0, ...,    2,  118, 4456],\n",
       "       [   0,    0,    0, ...,    2,  118, 4456],\n",
       "       [   0,    0,    0, ...,    0,  343, 1623]], dtype=int32)"
      ]
     },
     "execution_count": 7,
     "metadata": {},
     "output_type": "execute_result"
    }
   ],
   "source": [
    "# 패딩 (딥러닝 돌리기 전에 데이터의 차원(단어의 개수)이 모두 동일하게 맞춰줘야함)\n",
    "from keras.preprocessing.sequence import pad_sequences\n",
    "all_pad = pad_sequences(all_text) #옵션 조정해서 패딩 종류 바꿀 수 있음 (디폴트는 앞쪽에 채워줌)\n",
    "all_pad"
   ]
  },
  {
   "cell_type": "code",
   "execution_count": 8,
   "metadata": {
    "execution": {
     "iopub.execute_input": "2021-03-08T02:23:38.397912Z",
     "iopub.status.busy": "2021-03-08T02:23:38.396824Z",
     "iopub.status.idle": "2021-03-08T02:23:38.402051Z",
     "shell.execute_reply": "2021-03-08T02:23:38.401404Z"
    },
    "papermill": {
     "duration": 0.025922,
     "end_time": "2021-03-08T02:23:38.402211",
     "exception": false,
     "start_time": "2021-03-08T02:23:38.376289",
     "status": "completed"
    },
    "tags": []
   },
   "outputs": [
    {
     "data": {
      "text/plain": [
       "(222352, 52)"
      ]
     },
     "execution_count": 8,
     "metadata": {},
     "output_type": "execute_result"
    }
   ],
   "source": [
    "all_pad.shape #가장 길었던 애가 단어 52개"
   ]
  },
  {
   "cell_type": "code",
   "execution_count": 9,
   "metadata": {
    "execution": {
     "iopub.execute_input": "2021-03-08T02:23:38.439307Z",
     "iopub.status.busy": "2021-03-08T02:23:38.438418Z",
     "iopub.status.idle": "2021-03-08T02:23:38.443586Z",
     "shell.execute_reply": "2021-03-08T02:23:38.442923Z"
    },
    "papermill": {
     "duration": 0.025614,
     "end_time": "2021-03-08T02:23:38.443757",
     "exception": false,
     "start_time": "2021-03-08T02:23:38.418143",
     "status": "completed"
    },
    "tags": []
   },
   "outputs": [
    {
     "data": {
      "text/plain": [
       "array([    0,     0,     0,     0,     0,     0,     0,     0,     0,\n",
       "           0,     0,     0,     0,     0,     0,     0,     0,     2,\n",
       "         315,     3, 16573,  7660,     1,  8313,     9,    53,     8,\n",
       "          47,    13,     1,  3940,     8,   187,    47,    13,     1,\n",
       "       13024,    61,     3,    89,   592, 12156,    19,   617,     3,\n",
       "          89,  2810,     5,    52,     3,     2,    42], dtype=int32)"
      ]
     },
     "execution_count": 9,
     "metadata": {},
     "output_type": "execute_result"
    }
   ],
   "source": [
    "all_pad[0] # 패딩이 0으로 들어간 이유는?"
   ]
  },
  {
   "cell_type": "code",
   "execution_count": 10,
   "metadata": {
    "execution": {
     "iopub.execute_input": "2021-03-08T02:23:38.483759Z",
     "iopub.status.busy": "2021-03-08T02:23:38.482994Z",
     "iopub.status.idle": "2021-03-08T02:23:38.486562Z",
     "shell.execute_reply": "2021-03-08T02:23:38.487261Z"
    },
    "papermill": {
     "duration": 0.026196,
     "end_time": "2021-03-08T02:23:38.487457",
     "exception": false,
     "start_time": "2021-03-08T02:23:38.461261",
     "status": "completed"
    },
    "tags": []
   },
   "outputs": [],
   "source": [
    "train_pad = all_pad[:len(train)]\n",
    "test_pad = all_pad[len(train):]"
   ]
  },
  {
   "cell_type": "code",
   "execution_count": 11,
   "metadata": {
    "execution": {
     "iopub.execute_input": "2021-03-08T02:23:38.526810Z",
     "iopub.status.busy": "2021-03-08T02:23:38.525581Z",
     "iopub.status.idle": "2021-03-08T02:23:38.529372Z",
     "shell.execute_reply": "2021-03-08T02:23:38.529866Z"
    },
    "papermill": {
     "duration": 0.026149,
     "end_time": "2021-03-08T02:23:38.530051",
     "exception": false,
     "start_time": "2021-03-08T02:23:38.503902",
     "status": "completed"
    },
    "tags": []
   },
   "outputs": [
    {
     "data": {
      "text/plain": [
       "17780"
      ]
     },
     "execution_count": 11,
     "metadata": {},
     "output_type": "execute_result"
    }
   ],
   "source": [
    "len(tk.word_index) # 단어의 총 개수"
   ]
  },
  {
   "cell_type": "code",
   "execution_count": 12,
   "metadata": {
    "execution": {
     "iopub.execute_input": "2021-03-08T02:23:38.570642Z",
     "iopub.status.busy": "2021-03-08T02:23:38.569963Z",
     "iopub.status.idle": "2021-03-08T02:23:38.580291Z",
     "shell.execute_reply": "2021-03-08T02:23:38.580768Z"
    },
    "papermill": {
     "duration": 0.034132,
     "end_time": "2021-03-08T02:23:38.580952",
     "exception": false,
     "start_time": "2021-03-08T02:23:38.546820",
     "status": "completed"
    },
    "tags": []
   },
   "outputs": [
    {
     "data": {
      "text/plain": [
       "2.0    79582\n",
       "3.0    32927\n",
       "1.0    27273\n",
       "4.0     9206\n",
       "0.0     7072\n",
       "Name: Sentiment, dtype: int64"
      ]
     },
     "execution_count": 12,
     "metadata": {},
     "output_type": "execute_result"
    }
   ],
   "source": [
    "all_data[\"Sentiment\"].value_counts() # 정답값 클래스 5개"
   ]
  },
  {
   "cell_type": "code",
   "execution_count": 13,
   "metadata": {
    "execution": {
     "iopub.execute_input": "2021-03-08T02:23:38.623982Z",
     "iopub.status.busy": "2021-03-08T02:23:38.623190Z",
     "iopub.status.idle": "2021-03-08T02:23:38.746444Z",
     "shell.execute_reply": "2021-03-08T02:23:38.746981Z"
    },
    "papermill": {
     "duration": 0.149003,
     "end_time": "2021-03-08T02:23:38.747180",
     "exception": false,
     "start_time": "2021-03-08T02:23:38.598177",
     "status": "completed"
    },
    "tags": []
   },
   "outputs": [],
   "source": [
    "from keras import Sequential # sequential, functional api 이렇게 두가지 있음\n",
    "from keras.layers import *    #layer 생성 함수 모두 가져오기\n",
    "\n",
    "#이제 각각의 layer를 설정해 쌓아준다.\n",
    "model = Sequential()\n",
    "model.add(Embedding(len(tk.word_index)+1,10,input_length=all_pad.shape[1]))\n",
    "# len()+1 해주는데 +1은 padding 개수 추가해준것. 그냥 len()결과를 padding개수 포함안되어 있어서\n",
    "# 10보다 이상으로 설정하면 학습이 느려질수 있다.\n",
    "\n",
    "model.add(Flatten()) \n",
    "#flatten() 통해 embedding결과 dim이 (none 제외) 2차원으로 생성된 벡터를 1차원의 벡터로 줄여준다.\n",
    "\n",
    "model.add(Dense(128, activation=\"relu\"))\n",
    "model.add(Dense(5,activation=\"softmax\")) # 출력층 : 정답클래스개수, 활성함수(softmax : 0~1사이값)\n",
    "model.compile(metrics=[\"acc\"], optimizer=\"adam\",loss=\"sparse_categorical_crossentropy\")\n",
    "# compile 선언하여 모델 완성시켜줌. 필요한 모듈들 선언해줌\n",
    "# regression문제면, loss=\"categorical_crossentropy\"로 선언해주면됨\n",
    "# classifier문제는, loss=\"sparse_categorical_crossentropy\" 로 선언"
   ]
  },
  {
   "cell_type": "code",
   "execution_count": 14,
   "metadata": {
    "execution": {
     "iopub.execute_input": "2021-03-08T02:23:38.785937Z",
     "iopub.status.busy": "2021-03-08T02:23:38.785104Z",
     "iopub.status.idle": "2021-03-08T02:23:38.788391Z",
     "shell.execute_reply": "2021-03-08T02:23:38.788987Z"
    },
    "papermill": {
     "duration": 0.024745,
     "end_time": "2021-03-08T02:23:38.789174",
     "exception": false,
     "start_time": "2021-03-08T02:23:38.764429",
     "status": "completed"
    },
    "tags": []
   },
   "outputs": [],
   "source": [
    "# 자연어 처리를 시작할 때 Embedding 해주고 시작해야한다.\n",
    "# Embedding : 단어들의 의미를 파악하게 해주는 층 (밀집벡터에 임베딩)\n",
    "# 옵션 3개 : 전체 단어 종류의 개수, 의미의 차원(자유롭게 조절), 데이터의 차원(길이)\n",
    "# 단어들의 의미는 이제 파악을 했음 이제 학습할거니까 dense레이어 같은거 들어가야되는데..\n",
    "# 임베딩층이 2차원인데 dense레이어는 1차원이라 1차원으로 만들어줘야함. 그래서 flatten 넣어줌\n",
    "# sparse적는 이유? 회귀문제가 아니고 분류문제이기 때문\n",
    "\n",
    "# Embedding층 더 자세히 알고 싶으면\n",
    "# https://wikidocs.net/32105\n",
    "# https://wikidocs.net/64779 파이토치\n",
    "# https://wikidocs.net/22644"
   ]
  },
  {
   "cell_type": "code",
   "execution_count": 15,
   "metadata": {
    "execution": {
     "iopub.execute_input": "2021-03-08T02:23:38.827955Z",
     "iopub.status.busy": "2021-03-08T02:23:38.827224Z",
     "iopub.status.idle": "2021-03-08T02:23:38.835212Z",
     "shell.execute_reply": "2021-03-08T02:23:38.835751Z"
    },
    "papermill": {
     "duration": 0.029221,
     "end_time": "2021-03-08T02:23:38.835931",
     "exception": false,
     "start_time": "2021-03-08T02:23:38.806710",
     "status": "completed"
    },
    "tags": []
   },
   "outputs": [
    {
     "name": "stdout",
     "output_type": "stream",
     "text": [
      "Model: \"sequential\"\n",
      "_________________________________________________________________\n",
      "Layer (type)                 Output Shape              Param #   \n",
      "=================================================================\n",
      "embedding (Embedding)        (None, 52, 10)            177810    \n",
      "_________________________________________________________________\n",
      "flatten (Flatten)            (None, 520)               0         \n",
      "_________________________________________________________________\n",
      "dense (Dense)                (None, 128)               66688     \n",
      "_________________________________________________________________\n",
      "dense_1 (Dense)              (None, 5)                 645       \n",
      "=================================================================\n",
      "Total params: 245,143\n",
      "Trainable params: 245,143\n",
      "Non-trainable params: 0\n",
      "_________________________________________________________________\n"
     ]
    }
   ],
   "source": [
    "model.summary()\n",
    "# 모델 시각화"
   ]
  },
  {
   "cell_type": "code",
   "execution_count": 16,
   "metadata": {
    "execution": {
     "iopub.execute_input": "2021-03-08T02:23:38.877565Z",
     "iopub.status.busy": "2021-03-08T02:23:38.876566Z",
     "iopub.status.idle": "2021-03-08T02:23:56.135924Z",
     "shell.execute_reply": "2021-03-08T02:23:56.135186Z"
    },
    "papermill": {
     "duration": 17.281327,
     "end_time": "2021-03-08T02:23:56.136130",
     "exception": false,
     "start_time": "2021-03-08T02:23:38.854803",
     "status": "completed"
    },
    "tags": []
   },
   "outputs": [
    {
     "name": "stdout",
     "output_type": "stream",
     "text": [
      "4877/4877 [==============================] - 16s 3ms/step - loss: 1.0868 - acc: 0.5646\n"
     ]
    },
    {
     "data": {
      "text/plain": [
       "<tensorflow.python.keras.callbacks.History at 0x7fac05eaff90>"
      ]
     },
     "execution_count": 16,
     "metadata": {},
     "output_type": "execute_result"
    }
   ],
   "source": [
    "from IPython.display import SVG\n",
    "from keras.utils.vis_utils import model_to_dot\n",
    "SVG(model_to_dot(model, show_shapes=True).create(prog='dot', format='svg'))\n",
    "model.fit(train_pad,train[\"Sentiment\"],batch_size=32,epochs=1)"
   ]
  },
  {
   "cell_type": "code",
   "execution_count": 17,
   "metadata": {
    "execution": {
     "iopub.execute_input": "2021-03-08T02:23:56.373806Z",
     "iopub.status.busy": "2021-03-08T02:23:56.373064Z",
     "iopub.status.idle": "2021-03-08T02:29:42.601650Z",
     "shell.execute_reply": "2021-03-08T02:29:42.600851Z"
    },
    "papermill": {
     "duration": 346.351794,
     "end_time": "2021-03-08T02:29:42.601845",
     "exception": false,
     "start_time": "2021-03-08T02:23:56.250051",
     "status": "completed"
    },
    "tags": []
   },
   "outputs": [
    {
     "name": "stdout",
     "output_type": "stream",
     "text": [
      "Epoch 1/10\n",
      "610/610 [==============================] - 35s 54ms/step - loss: 1.2657 - acc: 0.5103\n",
      "Epoch 2/10\n",
      "610/610 [==============================] - 33s 55ms/step - loss: 0.9054 - acc: 0.6364\n",
      "Epoch 3/10\n",
      "610/610 [==============================] - 32s 53ms/step - loss: 0.7742 - acc: 0.6832\n",
      "Epoch 4/10\n",
      "610/610 [==============================] - 33s 55ms/step - loss: 0.7346 - acc: 0.6988\n",
      "Epoch 5/10\n",
      "610/610 [==============================] - 33s 55ms/step - loss: 0.7125 - acc: 0.7068\n",
      "Epoch 6/10\n",
      "610/610 [==============================] - 33s 55ms/step - loss: 0.6890 - acc: 0.7150\n",
      "Epoch 7/10\n",
      "610/610 [==============================] - 33s 54ms/step - loss: 0.6720 - acc: 0.7227\n",
      "Epoch 8/10\n",
      "610/610 [==============================] - 34s 56ms/step - loss: 0.6558 - acc: 0.7264\n",
      "Epoch 9/10\n",
      "610/610 [==============================] - 33s 55ms/step - loss: 0.6392 - acc: 0.7333\n",
      "Epoch 10/10\n",
      "610/610 [==============================] - 45s 73ms/step - loss: 0.6244 - acc: 0.7383\n"
     ]
    },
    {
     "data": {
      "text/plain": [
       "<tensorflow.python.keras.callbacks.History at 0x7fac04e54450>"
      ]
     },
     "execution_count": 17,
     "metadata": {},
     "output_type": "execute_result"
    }
   ],
   "source": [
    "from keras import Sequential\n",
    "from keras.layers import *\n",
    "model = Sequential()\n",
    "model.add(Embedding(len(tk.word_index)+1,10,input_length=all_pad.shape[1]))\n",
    "model.add(LSTM(32)) #특징을 32개추출 \n",
    "# 문맥적 정보를 파악하는 rnn 계열 : lstm, gru (차원축소까지 해줌 그래서 flatten안해줘도됨)\n",
    "\n",
    "model.add(Dense(5,activation=\"softmax\"))\n",
    "model.compile(metrics=[\"acc\"], optimizer=\"adam\",loss=\"sparse_categorical_crossentropy\")\n",
    "model.fit(train_pad,train[\"Sentiment\"],batch_size=256,epochs=10)"
   ]
  },
  {
   "cell_type": "code",
   "execution_count": 18,
   "metadata": {
    "execution": {
     "iopub.execute_input": "2021-03-08T02:29:47.284046Z",
     "iopub.status.busy": "2021-03-08T02:29:47.283068Z",
     "iopub.status.idle": "2021-03-08T02:30:00.267173Z",
     "shell.execute_reply": "2021-03-08T02:30:00.265989Z"
    },
    "papermill": {
     "duration": 15.195546,
     "end_time": "2021-03-08T02:30:00.267350",
     "exception": false,
     "start_time": "2021-03-08T02:29:45.071804",
     "status": "completed"
    },
    "tags": []
   },
   "outputs": [],
   "source": [
    "# 예측\n",
    "result = model.predict(test_pad)\n",
    "sub = pd.read_csv(\"/kaggle/input/sentiment-analysis-on-movie-reviews/sampleSubmission.csv\")\n",
    "sub[\"Sentiment\"] = result.argmax(1) # 가장 높은 확률값 갖는 걸 가져오기\n",
    "sub.to_csv(\"subsub.csv\", index=0)"
   ]
  }
 ],
 "metadata": {
  "kernelspec": {
   "display_name": "Python 3",
   "language": "python",
   "name": "python3"
  },
  "language_info": {
   "codemirror_mode": {
    "name": "ipython",
    "version": 3
   },
   "file_extension": ".py",
   "mimetype": "text/x-python",
   "name": "python",
   "nbconvert_exporter": "python",
   "pygments_lexer": "ipython3",
   "version": "3.7.9"
  },
  "papermill": {
   "default_parameters": {},
   "duration": 407.223629,
   "end_time": "2021-03-08T02:30:04.485084",
   "environment_variables": {},
   "exception": null,
   "input_path": "__notebook__.ipynb",
   "output_path": "__notebook__.ipynb",
   "parameters": {},
   "start_time": "2021-03-08T02:23:17.261455",
   "version": "2.2.2"
  }
 },
 "nbformat": 4,
 "nbformat_minor": 4
}
