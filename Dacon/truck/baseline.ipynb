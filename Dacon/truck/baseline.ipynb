{
 "cells": [
  {
   "cell_type": "markdown",
   "metadata": {},
   "source": [
    "## 데이터 불러오기"
   ]
  },
  {
   "cell_type": "code",
   "execution_count": 54,
   "metadata": {},
   "outputs": [],
   "source": [
    "import pandas as pd\n",
    "\n",
    "train = pd.read_csv('train_df.csv',encoding = 'cp949')\n",
    "test = pd.read_csv('test_df.csv',encoding = 'cp949')\n",
    "\n",
    "submission = pd.read_csv('sample_submission.csv')"
   ]
  },
  {
   "cell_type": "code",
   "execution_count": 55,
   "metadata": {},
   "outputs": [
    {
     "data": {
      "text/html": [
       "<div>\n",
       "<style scoped>\n",
       "    .dataframe tbody tr th:only-of-type {\n",
       "        vertical-align: middle;\n",
       "    }\n",
       "\n",
       "    .dataframe tbody tr th {\n",
       "        vertical-align: top;\n",
       "    }\n",
       "\n",
       "    .dataframe thead th {\n",
       "        text-align: right;\n",
       "    }\n",
       "</style>\n",
       "<table border=\"1\" class=\"dataframe\">\n",
       "  <thead>\n",
       "    <tr style=\"text-align: right;\">\n",
       "      <th></th>\n",
       "      <th>index</th>\n",
       "      <th>SEND_SPG_INNB</th>\n",
       "      <th>REC_SPG_INNB</th>\n",
       "      <th>DL_GD_LCLS_NM</th>\n",
       "      <th>DL_GD_MCLS_NM</th>\n",
       "      <th>INVC_CONT</th>\n",
       "    </tr>\n",
       "  </thead>\n",
       "  <tbody>\n",
       "    <tr>\n",
       "      <th>0</th>\n",
       "      <td>0</td>\n",
       "      <td>1129000014045300</td>\n",
       "      <td>5011000220046300</td>\n",
       "      <td>패션의류</td>\n",
       "      <td>상의</td>\n",
       "      <td>3</td>\n",
       "    </tr>\n",
       "    <tr>\n",
       "      <th>1</th>\n",
       "      <td>1</td>\n",
       "      <td>1135000009051200</td>\n",
       "      <td>5011000178037300</td>\n",
       "      <td>생활/건강</td>\n",
       "      <td>반려동물</td>\n",
       "      <td>3</td>\n",
       "    </tr>\n",
       "    <tr>\n",
       "      <th>2</th>\n",
       "      <td>2</td>\n",
       "      <td>1135000030093100</td>\n",
       "      <td>5011000265091400</td>\n",
       "      <td>패션의류</td>\n",
       "      <td>기타패션의류</td>\n",
       "      <td>9</td>\n",
       "    </tr>\n",
       "    <tr>\n",
       "      <th>3</th>\n",
       "      <td>3</td>\n",
       "      <td>1154500002014200</td>\n",
       "      <td>5011000315087400</td>\n",
       "      <td>식품</td>\n",
       "      <td>농산물</td>\n",
       "      <td>10</td>\n",
       "    </tr>\n",
       "    <tr>\n",
       "      <th>4</th>\n",
       "      <td>4</td>\n",
       "      <td>1165000021008300</td>\n",
       "      <td>5011000177051200</td>\n",
       "      <td>식품</td>\n",
       "      <td>가공식품</td>\n",
       "      <td>3</td>\n",
       "    </tr>\n",
       "  </tbody>\n",
       "</table>\n",
       "</div>"
      ],
      "text/plain": [
       "   index     SEND_SPG_INNB      REC_SPG_INNB DL_GD_LCLS_NM DL_GD_MCLS_NM  \\\n",
       "0      0  1129000014045300  5011000220046300          패션의류            상의   \n",
       "1      1  1135000009051200  5011000178037300         생활/건강          반려동물   \n",
       "2      2  1135000030093100  5011000265091400          패션의류        기타패션의류   \n",
       "3      3  1154500002014200  5011000315087400            식품           농산물   \n",
       "4      4  1165000021008300  5011000177051200            식품          가공식품   \n",
       "\n",
       "   INVC_CONT  \n",
       "0          3  \n",
       "1          3  \n",
       "2          9  \n",
       "3         10  \n",
       "4          3  "
      ]
     },
     "execution_count": 55,
     "metadata": {},
     "output_type": "execute_result"
    }
   ],
   "source": [
    "train.head()"
   ]
  },
  {
   "cell_type": "code",
   "execution_count": 56,
   "metadata": {},
   "outputs": [
    {
     "data": {
      "text/html": [
       "<div>\n",
       "<style scoped>\n",
       "    .dataframe tbody tr th:only-of-type {\n",
       "        vertical-align: middle;\n",
       "    }\n",
       "\n",
       "    .dataframe tbody tr th {\n",
       "        vertical-align: top;\n",
       "    }\n",
       "\n",
       "    .dataframe thead th {\n",
       "        text-align: right;\n",
       "    }\n",
       "</style>\n",
       "<table border=\"1\" class=\"dataframe\">\n",
       "  <thead>\n",
       "    <tr style=\"text-align: right;\">\n",
       "      <th></th>\n",
       "      <th>index</th>\n",
       "      <th>SEND_SPG_INNB</th>\n",
       "      <th>REC_SPG_INNB</th>\n",
       "      <th>DL_GD_LCLS_NM</th>\n",
       "      <th>DL_GD_MCLS_NM</th>\n",
       "    </tr>\n",
       "  </thead>\n",
       "  <tbody>\n",
       "    <tr>\n",
       "      <th>0</th>\n",
       "      <td>32000</td>\n",
       "      <td>5013000043028400</td>\n",
       "      <td>1165000021097200</td>\n",
       "      <td>식품</td>\n",
       "      <td>농산물</td>\n",
       "    </tr>\n",
       "    <tr>\n",
       "      <th>1</th>\n",
       "      <td>32001</td>\n",
       "      <td>5013000044016100</td>\n",
       "      <td>1154500002066400</td>\n",
       "      <td>식품</td>\n",
       "      <td>농산물</td>\n",
       "    </tr>\n",
       "    <tr>\n",
       "      <th>2</th>\n",
       "      <td>32002</td>\n",
       "      <td>5013000205030200</td>\n",
       "      <td>4139000102013200</td>\n",
       "      <td>식품</td>\n",
       "      <td>농산물</td>\n",
       "    </tr>\n",
       "    <tr>\n",
       "      <th>3</th>\n",
       "      <td>32003</td>\n",
       "      <td>5013000205030200</td>\n",
       "      <td>4221000040093400</td>\n",
       "      <td>식품</td>\n",
       "      <td>농산물</td>\n",
       "    </tr>\n",
       "    <tr>\n",
       "      <th>4</th>\n",
       "      <td>32004</td>\n",
       "      <td>5013000268011400</td>\n",
       "      <td>2726000004017100</td>\n",
       "      <td>식품</td>\n",
       "      <td>농산물</td>\n",
       "    </tr>\n",
       "  </tbody>\n",
       "</table>\n",
       "</div>"
      ],
      "text/plain": [
       "   index     SEND_SPG_INNB      REC_SPG_INNB DL_GD_LCLS_NM DL_GD_MCLS_NM\n",
       "0  32000  5013000043028400  1165000021097200            식품           농산물\n",
       "1  32001  5013000044016100  1154500002066400            식품           농산물\n",
       "2  32002  5013000205030200  4139000102013200            식품           농산물\n",
       "3  32003  5013000205030200  4221000040093400            식품           농산물\n",
       "4  32004  5013000268011400  2726000004017100            식품           농산물"
      ]
     },
     "execution_count": 56,
     "metadata": {},
     "output_type": "execute_result"
    }
   ],
   "source": [
    "test.head()"
   ]
  },
  {
   "cell_type": "code",
   "execution_count": 57,
   "metadata": {},
   "outputs": [
    {
     "name": "stdout",
     "output_type": "stream",
     "text": [
      "<class 'pandas.core.frame.DataFrame'>\n",
      "RangeIndex: 32000 entries, 0 to 31999\n",
      "Data columns (total 6 columns):\n",
      " #   Column         Non-Null Count  Dtype \n",
      "---  ------         --------------  ----- \n",
      " 0   index          32000 non-null  int64 \n",
      " 1   SEND_SPG_INNB  32000 non-null  int64 \n",
      " 2   REC_SPG_INNB   32000 non-null  int64 \n",
      " 3   DL_GD_LCLS_NM  32000 non-null  object\n",
      " 4   DL_GD_MCLS_NM  32000 non-null  object\n",
      " 5   INVC_CONT      32000 non-null  int64 \n",
      "dtypes: int64(4), object(2)\n",
      "memory usage: 1.5+ MB\n"
     ]
    }
   ],
   "source": [
    "train.info()"
   ]
  },
  {
   "cell_type": "code",
   "execution_count": 58,
   "metadata": {},
   "outputs": [
    {
     "name": "stdout",
     "output_type": "stream",
     "text": [
      "<class 'pandas.core.frame.DataFrame'>\n",
      "RangeIndex: 4640 entries, 0 to 4639\n",
      "Data columns (total 5 columns):\n",
      " #   Column         Non-Null Count  Dtype \n",
      "---  ------         --------------  ----- \n",
      " 0   index          4640 non-null   int64 \n",
      " 1   SEND_SPG_INNB  4640 non-null   int64 \n",
      " 2   REC_SPG_INNB   4640 non-null   int64 \n",
      " 3   DL_GD_LCLS_NM  4640 non-null   object\n",
      " 4   DL_GD_MCLS_NM  4640 non-null   object\n",
      "dtypes: int64(3), object(2)\n",
      "memory usage: 181.4+ KB\n"
     ]
    }
   ],
   "source": [
    "test.info()"
   ]
  },
  {
   "cell_type": "code",
   "execution_count": 59,
   "metadata": {},
   "outputs": [
    {
     "data": {
      "text/plain": [
       "index            0\n",
       "SEND_SPG_INNB    0\n",
       "REC_SPG_INNB     0\n",
       "DL_GD_LCLS_NM    0\n",
       "DL_GD_MCLS_NM    0\n",
       "INVC_CONT        0\n",
       "dtype: int64"
      ]
     },
     "execution_count": 59,
     "metadata": {},
     "output_type": "execute_result"
    }
   ],
   "source": [
    "train.isnull().sum()"
   ]
  },
  {
   "cell_type": "markdown",
   "metadata": {},
   "source": [
    "## 데이터 전처리"
   ]
  },
  {
   "cell_type": "code",
   "execution_count": 60,
   "metadata": {},
   "outputs": [],
   "source": [
    "# 원핫 인코딩\n",
    "train_one = pd.get_dummies(train)\n",
    "test_one = pd.get_dummies(test)"
   ]
  },
  {
   "cell_type": "markdown",
   "metadata": {},
   "source": [
    "## 모델링"
   ]
  },
  {
   "cell_type": "code",
   "execution_count": 61,
   "metadata": {},
   "outputs": [],
   "source": [
    "from lightgbm import LGBMRegressor\n",
    "\n",
    "train_X = train_one.drop('INVC_CONT',axis = 1)\n",
    "train_Y = train_one['INVC_CONT']\n",
    "\n",
    "#모델 정의\n",
    "model = LGBMRegressor()"
   ]
  },
  {
   "cell_type": "code",
   "execution_count": 62,
   "metadata": {},
   "outputs": [
    {
     "data": {
      "text/plain": [
       "LGBMRegressor()"
      ]
     },
     "execution_count": 62,
     "metadata": {},
     "output_type": "execute_result"
    }
   ],
   "source": [
    "# 모델 학습\n",
    "model.fit(train_X,train_Y)"
   ]
  },
  {
   "cell_type": "code",
   "execution_count": 63,
   "metadata": {},
   "outputs": [],
   "source": [
    "# test 데이터 예측\n",
    "pred = model.predict(test_one)"
   ]
  },
  {
   "cell_type": "markdown",
   "metadata": {},
   "source": [
    "## 정답파일 생성"
   ]
  },
  {
   "cell_type": "code",
   "execution_count": 64,
   "metadata": {},
   "outputs": [],
   "source": [
    "submission['INVC_CONT'] = pred"
   ]
  },
  {
   "cell_type": "code",
   "execution_count": 65,
   "metadata": {},
   "outputs": [],
   "source": [
    "submission.to_csv('baseline.csv',index = False)"
   ]
  }
 ],
 "metadata": {
  "kernelspec": {
   "display_name": "Python 3",
   "language": "python",
   "name": "python3"
  },
  "language_info": {
   "codemirror_mode": {
    "name": "ipython",
    "version": 3
   },
   "file_extension": ".py",
   "mimetype": "text/x-python",
   "name": "python",
   "nbconvert_exporter": "python",
   "pygments_lexer": "ipython3",
   "version": "3.8.5"
  }
 },
 "nbformat": 4,
 "nbformat_minor": 4
}
