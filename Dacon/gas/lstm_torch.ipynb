{
  "nbformat": 4,
  "nbformat_minor": 0,
  "metadata": {
    "accelerator": "GPU",
    "colab": {
      "name": "lstm.ipynb",
      "provenance": [],
      "collapsed_sections": [],
      "machine_shape": "hm"
    },
    "kernelspec": {
      "display_name": "Python 3",
      "language": "python",
      "name": "python3"
    },
    "language_info": {
      "codemirror_mode": {
        "name": "ipython",
        "version": 3
      },
      "file_extension": ".py",
      "mimetype": "text/x-python",
      "name": "python",
      "nbconvert_exporter": "python",
      "pygments_lexer": "ipython3",
      "version": "3.8.3"
    }
  },
  "cells": [
    {
      "cell_type": "code",
      "metadata": {
        "id": "FPe5rpPJqsDI"
      },
      "source": [
        "# ! cat /proc/cpuinfo"
      ],
      "execution_count": 1,
      "outputs": []
    },
    {
      "cell_type": "markdown",
      "metadata": {
        "id": "qNJX8Kyv6yRk"
      },
      "source": [
        "## 라이브러리 로딩"
      ]
    },
    {
      "cell_type": "code",
      "metadata": {
        "id": "uXia0OHkkSDo"
      },
      "source": [
        "\n",
        "import seaborn as sns\n",
        "import numpy as np\n",
        "import pandas as pd\n",
        "import matplotlib.pyplot as plt\n",
        "\n",
        "\n",
        "import torch\n",
        "import torch.nn as nn\n",
        "import torch.optim as optim\n",
        "\n",
        "from sklearn.preprocessing import MinMaxScaler"
      ],
      "execution_count": 1,
      "outputs": []
    },
    {
      "cell_type": "code",
      "metadata": {
        "colab": {
          "base_uri": "https://localhost:8080/"
        },
        "id": "h5FrD0onUho0",
        "outputId": "c826c624-21f5-438a-b1d6-496c2a2e1461"
      },
      "source": [
        "from google.colab import drive\n",
        "drive.mount('/content/drive')"
      ],
      "execution_count": 2,
      "outputs": [
        {
          "output_type": "stream",
          "name": "stdout",
          "text": [
            "Drive already mounted at /content/drive; to attempt to forcibly remount, call drive.mount(\"/content/drive\", force_remount=True).\n"
          ]
        }
      ]
    },
    {
      "cell_type": "markdown",
      "metadata": {
        "id": "GAM5Vt5LkSDq"
      },
      "source": [
        "## 데이터 다운로드"
      ]
    },
    {
      "cell_type": "code",
      "metadata": {
        "id": "weuqzzppkveL"
      },
      "source": [
        "import pandas as pd\n",
        "import numpy as np\n",
        "import matplotlib.pyplot as plt\n",
        "import lightgbm as lgb\n",
        "import datetime"
      ],
      "execution_count": 3,
      "outputs": []
    },
    {
      "cell_type": "markdown",
      "metadata": {
        "id": "tRYajrvEkveN"
      },
      "source": [
        "# 데이터 로드"
      ]
    },
    {
      "cell_type": "code",
      "metadata": {
        "id": "ek7moOlHoZr4"
      },
      "source": [
        "path = \"/content/drive/MyDrive/Colab Notebooks/cw_dacon/gas/\""
      ],
      "execution_count": 4,
      "outputs": []
    },
    {
      "cell_type": "code",
      "metadata": {
        "id": "Twg5oUGzkveO"
      },
      "source": [
        "total = pd.read_csv(path+'20181231.csv', encoding='cp949')"
      ],
      "execution_count": 5,
      "outputs": []
    },
    {
      "cell_type": "code",
      "metadata": {
        "colab": {
          "base_uri": "https://localhost:8080/",
          "height": 206
        },
        "id": "nucELmXEkveP",
        "outputId": "c15c6c41-4305-40c1-b096-df585b406f57"
      },
      "source": [
        "total.head()"
      ],
      "execution_count": 6,
      "outputs": [
        {
          "output_type": "execute_result",
          "data": {
            "text/html": [
              "<div>\n",
              "<style scoped>\n",
              "    .dataframe tbody tr th:only-of-type {\n",
              "        vertical-align: middle;\n",
              "    }\n",
              "\n",
              "    .dataframe tbody tr th {\n",
              "        vertical-align: top;\n",
              "    }\n",
              "\n",
              "    .dataframe thead th {\n",
              "        text-align: right;\n",
              "    }\n",
              "</style>\n",
              "<table border=\"1\" class=\"dataframe\">\n",
              "  <thead>\n",
              "    <tr style=\"text-align: right;\">\n",
              "      <th></th>\n",
              "      <th>연월일</th>\n",
              "      <th>시간</th>\n",
              "      <th>구분</th>\n",
              "      <th>공급량</th>\n",
              "    </tr>\n",
              "  </thead>\n",
              "  <tbody>\n",
              "    <tr>\n",
              "      <th>0</th>\n",
              "      <td>2013-01-01</td>\n",
              "      <td>1</td>\n",
              "      <td>A</td>\n",
              "      <td>2497.129</td>\n",
              "    </tr>\n",
              "    <tr>\n",
              "      <th>1</th>\n",
              "      <td>2013-01-01</td>\n",
              "      <td>2</td>\n",
              "      <td>A</td>\n",
              "      <td>2363.265</td>\n",
              "    </tr>\n",
              "    <tr>\n",
              "      <th>2</th>\n",
              "      <td>2013-01-01</td>\n",
              "      <td>3</td>\n",
              "      <td>A</td>\n",
              "      <td>2258.505</td>\n",
              "    </tr>\n",
              "    <tr>\n",
              "      <th>3</th>\n",
              "      <td>2013-01-01</td>\n",
              "      <td>4</td>\n",
              "      <td>A</td>\n",
              "      <td>2243.969</td>\n",
              "    </tr>\n",
              "    <tr>\n",
              "      <th>4</th>\n",
              "      <td>2013-01-01</td>\n",
              "      <td>5</td>\n",
              "      <td>A</td>\n",
              "      <td>2344.105</td>\n",
              "    </tr>\n",
              "  </tbody>\n",
              "</table>\n",
              "</div>"
            ],
            "text/plain": [
              "          연월일  시간 구분       공급량\n",
              "0  2013-01-01   1  A  2497.129\n",
              "1  2013-01-01   2  A  2363.265\n",
              "2  2013-01-01   3  A  2258.505\n",
              "3  2013-01-01   4  A  2243.969\n",
              "4  2013-01-01   5  A  2344.105"
            ]
          },
          "metadata": {},
          "execution_count": 6
        }
      ]
    },
    {
      "cell_type": "code",
      "metadata": {
        "id": "ZDor1ZZWfJsx"
      },
      "source": [
        "d_map = {}\n",
        "for i, d in enumerate(total['구분'].unique()):\n",
        "    d_map[d] = i\n",
        "total['구분'] = total['구분'].map(d_map)"
      ],
      "execution_count": 6,
      "outputs": []
    },
    {
      "cell_type": "code",
      "metadata": {
        "id": "MtYmemLUfKOK"
      },
      "source": [
        "total['연월일'] = pd.to_datetime(total['연월일'])"
      ],
      "execution_count": 7,
      "outputs": []
    },
    {
      "cell_type": "code",
      "metadata": {
        "id": "-D_uBZK4fKH8"
      },
      "source": [
        "total['year'] = total['연월일'].dt.year\n",
        "total['month'] = total['연월일'].dt.month\n",
        "total['day'] = total['연월일'].dt.day\n",
        "total['weekday'] = total['연월일'].dt.weekday"
      ],
      "execution_count": 8,
      "outputs": []
    },
    {
      "cell_type": "code",
      "metadata": {
        "colab": {
          "base_uri": "https://localhost:8080/",
          "height": 423
        },
        "id": "DWE1rHt7e744",
        "outputId": "12c68fd8-b2be-42f4-bf99-87df80bc42ec"
      },
      "source": [
        "def plus_time(x):\n",
        "    return x['연월일'] + datetime.timedelta(hours=x['시간'])\n",
        "total['time'] = total.apply(plus_time, axis=1)\n",
        "total"
      ],
      "execution_count": 9,
      "outputs": [
        {
          "output_type": "execute_result",
          "data": {
            "text/html": [
              "<div>\n",
              "<style scoped>\n",
              "    .dataframe tbody tr th:only-of-type {\n",
              "        vertical-align: middle;\n",
              "    }\n",
              "\n",
              "    .dataframe tbody tr th {\n",
              "        vertical-align: top;\n",
              "    }\n",
              "\n",
              "    .dataframe thead th {\n",
              "        text-align: right;\n",
              "    }\n",
              "</style>\n",
              "<table border=\"1\" class=\"dataframe\">\n",
              "  <thead>\n",
              "    <tr style=\"text-align: right;\">\n",
              "      <th></th>\n",
              "      <th>연월일</th>\n",
              "      <th>시간</th>\n",
              "      <th>구분</th>\n",
              "      <th>공급량</th>\n",
              "      <th>year</th>\n",
              "      <th>month</th>\n",
              "      <th>day</th>\n",
              "      <th>weekday</th>\n",
              "      <th>time</th>\n",
              "    </tr>\n",
              "  </thead>\n",
              "  <tbody>\n",
              "    <tr>\n",
              "      <th>0</th>\n",
              "      <td>2013-01-01</td>\n",
              "      <td>1</td>\n",
              "      <td>0</td>\n",
              "      <td>2497.129</td>\n",
              "      <td>2013</td>\n",
              "      <td>1</td>\n",
              "      <td>1</td>\n",
              "      <td>1</td>\n",
              "      <td>2013-01-01 01:00:00</td>\n",
              "    </tr>\n",
              "    <tr>\n",
              "      <th>1</th>\n",
              "      <td>2013-01-01</td>\n",
              "      <td>2</td>\n",
              "      <td>0</td>\n",
              "      <td>2363.265</td>\n",
              "      <td>2013</td>\n",
              "      <td>1</td>\n",
              "      <td>1</td>\n",
              "      <td>1</td>\n",
              "      <td>2013-01-01 02:00:00</td>\n",
              "    </tr>\n",
              "    <tr>\n",
              "      <th>2</th>\n",
              "      <td>2013-01-01</td>\n",
              "      <td>3</td>\n",
              "      <td>0</td>\n",
              "      <td>2258.505</td>\n",
              "      <td>2013</td>\n",
              "      <td>1</td>\n",
              "      <td>1</td>\n",
              "      <td>1</td>\n",
              "      <td>2013-01-01 03:00:00</td>\n",
              "    </tr>\n",
              "    <tr>\n",
              "      <th>3</th>\n",
              "      <td>2013-01-01</td>\n",
              "      <td>4</td>\n",
              "      <td>0</td>\n",
              "      <td>2243.969</td>\n",
              "      <td>2013</td>\n",
              "      <td>1</td>\n",
              "      <td>1</td>\n",
              "      <td>1</td>\n",
              "      <td>2013-01-01 04:00:00</td>\n",
              "    </tr>\n",
              "    <tr>\n",
              "      <th>4</th>\n",
              "      <td>2013-01-01</td>\n",
              "      <td>5</td>\n",
              "      <td>0</td>\n",
              "      <td>2344.105</td>\n",
              "      <td>2013</td>\n",
              "      <td>1</td>\n",
              "      <td>1</td>\n",
              "      <td>1</td>\n",
              "      <td>2013-01-01 05:00:00</td>\n",
              "    </tr>\n",
              "    <tr>\n",
              "      <th>...</th>\n",
              "      <td>...</td>\n",
              "      <td>...</td>\n",
              "      <td>...</td>\n",
              "      <td>...</td>\n",
              "      <td>...</td>\n",
              "      <td>...</td>\n",
              "      <td>...</td>\n",
              "      <td>...</td>\n",
              "      <td>...</td>\n",
              "    </tr>\n",
              "    <tr>\n",
              "      <th>368083</th>\n",
              "      <td>2018-12-31</td>\n",
              "      <td>20</td>\n",
              "      <td>6</td>\n",
              "      <td>681.033</td>\n",
              "      <td>2018</td>\n",
              "      <td>12</td>\n",
              "      <td>31</td>\n",
              "      <td>0</td>\n",
              "      <td>2018-12-31 20:00:00</td>\n",
              "    </tr>\n",
              "    <tr>\n",
              "      <th>368084</th>\n",
              "      <td>2018-12-31</td>\n",
              "      <td>21</td>\n",
              "      <td>6</td>\n",
              "      <td>669.961</td>\n",
              "      <td>2018</td>\n",
              "      <td>12</td>\n",
              "      <td>31</td>\n",
              "      <td>0</td>\n",
              "      <td>2018-12-31 21:00:00</td>\n",
              "    </tr>\n",
              "    <tr>\n",
              "      <th>368085</th>\n",
              "      <td>2018-12-31</td>\n",
              "      <td>22</td>\n",
              "      <td>6</td>\n",
              "      <td>657.941</td>\n",
              "      <td>2018</td>\n",
              "      <td>12</td>\n",
              "      <td>31</td>\n",
              "      <td>0</td>\n",
              "      <td>2018-12-31 22:00:00</td>\n",
              "    </tr>\n",
              "    <tr>\n",
              "      <th>368086</th>\n",
              "      <td>2018-12-31</td>\n",
              "      <td>23</td>\n",
              "      <td>6</td>\n",
              "      <td>610.953</td>\n",
              "      <td>2018</td>\n",
              "      <td>12</td>\n",
              "      <td>31</td>\n",
              "      <td>0</td>\n",
              "      <td>2018-12-31 23:00:00</td>\n",
              "    </tr>\n",
              "    <tr>\n",
              "      <th>368087</th>\n",
              "      <td>2018-12-31</td>\n",
              "      <td>24</td>\n",
              "      <td>6</td>\n",
              "      <td>560.896</td>\n",
              "      <td>2018</td>\n",
              "      <td>12</td>\n",
              "      <td>31</td>\n",
              "      <td>0</td>\n",
              "      <td>2019-01-01 00:00:00</td>\n",
              "    </tr>\n",
              "  </tbody>\n",
              "</table>\n",
              "<p>368088 rows × 9 columns</p>\n",
              "</div>"
            ],
            "text/plain": [
              "              연월일  시간  구분       공급량  ...  month  day  weekday                time\n",
              "0      2013-01-01   1   0  2497.129  ...      1    1        1 2013-01-01 01:00:00\n",
              "1      2013-01-01   2   0  2363.265  ...      1    1        1 2013-01-01 02:00:00\n",
              "2      2013-01-01   3   0  2258.505  ...      1    1        1 2013-01-01 03:00:00\n",
              "3      2013-01-01   4   0  2243.969  ...      1    1        1 2013-01-01 04:00:00\n",
              "4      2013-01-01   5   0  2344.105  ...      1    1        1 2013-01-01 05:00:00\n",
              "...           ...  ..  ..       ...  ...    ...  ...      ...                 ...\n",
              "368083 2018-12-31  20   6   681.033  ...     12   31        0 2018-12-31 20:00:00\n",
              "368084 2018-12-31  21   6   669.961  ...     12   31        0 2018-12-31 21:00:00\n",
              "368085 2018-12-31  22   6   657.941  ...     12   31        0 2018-12-31 22:00:00\n",
              "368086 2018-12-31  23   6   610.953  ...     12   31        0 2018-12-31 23:00:00\n",
              "368087 2018-12-31  24   6   560.896  ...     12   31        0 2019-01-01 00:00:00\n",
              "\n",
              "[368088 rows x 9 columns]"
            ]
          },
          "metadata": {},
          "execution_count": 9
        }
      ]
    },
    {
      "cell_type": "code",
      "metadata": {
        "id": "dwsoTexeXjgs"
      },
      "source": [
        "total_a = total[total['구분']==0].loc[:,['time','공급량']].reset_index(drop=True,inplace=False)\n",
        "total_b = total[total['구분']==1].loc[:,['time','공급량']].reset_index(drop=True,inplace=False)\n",
        "# total_c = total[total['구분']==2].loc[:,['time','공급량']].reset_index(drop=True,inplace=False)\n",
        "# total_d = total[total['구분']==3].loc[:,['time','공급량']].reset_index(drop=True,inplace=False)\n",
        "# total_e = total[total['구분']==4].loc[:,['time','공급량']].reset_index(drop=True,inplace=False)\n",
        "# total_g = total[total['구분']==5].loc[:,['time','공급량']].reset_index(drop=True,inplace=False)\n",
        "# total_h = total[total['구분']==6].loc[:,['time','공급량']].reset_index(drop=True,inplace=False)"
      ],
      "execution_count": 10,
      "outputs": []
    },
    {
      "cell_type": "code",
      "metadata": {
        "id": "1gXiVpyyZbN6"
      },
      "source": [
        "total_a.columns = ['time','공급량_a']\n",
        "total_b.columns = ['time','공급량_b']\n",
        "# total_c.columns = ['time','공급량_c']\n",
        "# total_d.columns = ['time','공급량_d']\n",
        "# total_e.columns = ['time','공급량_e']\n",
        "# total_g.columns = ['time','공급량_g']\n",
        "# total_h.columns = ['time','공급량_h']\n",
        "# total_h"
      ],
      "execution_count": 11,
      "outputs": []
    },
    {
      "cell_type": "code",
      "metadata": {
        "id": "w9d0MNejXjcX"
      },
      "source": [
        "train = pd.concat([total_a,total_b.loc[:,['공급량_b']]],axis=1)\n",
        "# train = pd.concat([train,total_c.loc[:,['공급량_c']]],axis=1)\n",
        "# train = pd.concat([train,total_d.loc[:,['공급량_d']]],axis=1)\n",
        "# train = pd.concat([train,total_e.loc[:,['공급량_e']]],axis=1)\n",
        "# train = pd.concat([train,total_g.loc[:,['공급량_g']]],axis=1)\n",
        "# train = pd.concat([train,total_h.loc[:,['공급량_h']]],axis=1)\n",
        "# train"
      ],
      "execution_count": 12,
      "outputs": []
    },
    {
      "cell_type": "markdown",
      "metadata": {
        "id": "XMA-gTz7kSDr"
      },
      "source": [
        "### 예측해야될 데이터\n",
        "---\n",
        "- dangjin_floating : 당진수상태양광 발전량(KW)\n",
        "- dangjin_warehouse : 당진자재창고태양광 발전량(KW)\n",
        "- dangjin : 당진태양광 발전량(KW)\n",
        "- ulsan : 울산태양광 발전량(KW)"
      ]
    },
    {
      "cell_type": "code",
      "metadata": {
        "id": "hs6P_MOpkSDr"
      },
      "source": [
        "#dangjin_fcst_data = pd.read_csv('data/dangjin_fcst_data.csv') #당진지역 발전소 동네 예보\n",
        "#dangjin_obs_data = pd.read_csv('data/dangjin_obs_data.csv') # 당진지역 발전소 인근 기상 관측 자료\n",
        "\n",
        "#ulsan_fcst_data = pd.read_csv('data/ulsan_fcst_data.csv') # 울산지역 발전소 동네 에보\n",
        "#ulsan_obs_data = pd.read_csv('data/ulsan_obs_data.csv') # 울산지역 인근 기상 관측 자료\n",
        "\n",
        "#site_info = pd.read_csv('data/site_info.csv') #발전소 정보\n",
        "\n",
        "# energy = pd.read_csv('data/energy.csv') # 발전소별 발전량"
      ],
      "execution_count": null,
      "outputs": []
    },
    {
      "cell_type": "markdown",
      "metadata": {
        "id": "oZnRnp6XkSDs"
      },
      "source": [
        "### 결측치 처리"
      ]
    },
    {
      "cell_type": "code",
      "metadata": {
        "id": "kPKdyr1_kSDs"
      },
      "source": [
        "#dangjin_obs_data.fillna(dangjin_obs_data.mean(),inplace = True)\n",
        "# ulsan_obs_data.fillna(ulsan_obs_data.mean(),inplace = True)\n",
        "energy.fillna(energy.mean(),inplace = True)"
      ],
      "execution_count": null,
      "outputs": []
    },
    {
      "cell_type": "markdown",
      "metadata": {
        "id": "qaMNFJyF6yRv"
      },
      "source": [
        "### energy의 time를 index로 지정"
      ]
    },
    {
      "cell_type": "code",
      "metadata": {
        "id": "gKiFNAtc6yRw",
        "outputId": "c50f5c9c-a8f8-45c7-aabd-0eabd05a4301"
      },
      "source": [
        "# energy.head()"
      ],
      "execution_count": null,
      "outputs": [
        {
          "data": {
            "text/html": [
              "<div>\n",
              "<style scoped>\n",
              "    .dataframe tbody tr th:only-of-type {\n",
              "        vertical-align: middle;\n",
              "    }\n",
              "\n",
              "    .dataframe tbody tr th {\n",
              "        vertical-align: top;\n",
              "    }\n",
              "\n",
              "    .dataframe thead th {\n",
              "        text-align: right;\n",
              "    }\n",
              "</style>\n",
              "<table border=\"1\" class=\"dataframe\">\n",
              "  <thead>\n",
              "    <tr style=\"text-align: right;\">\n",
              "      <th></th>\n",
              "      <th>time</th>\n",
              "      <th>dangjin_floating</th>\n",
              "      <th>dangjin_warehouse</th>\n",
              "      <th>dangjin</th>\n",
              "      <th>ulsan</th>\n",
              "    </tr>\n",
              "  </thead>\n",
              "  <tbody>\n",
              "    <tr>\n",
              "      <th>0</th>\n",
              "      <td>2018-03-01 1:00:00</td>\n",
              "      <td>0.0</td>\n",
              "      <td>0.0</td>\n",
              "      <td>0</td>\n",
              "      <td>0</td>\n",
              "    </tr>\n",
              "    <tr>\n",
              "      <th>1</th>\n",
              "      <td>2018-03-01 2:00:00</td>\n",
              "      <td>0.0</td>\n",
              "      <td>0.0</td>\n",
              "      <td>0</td>\n",
              "      <td>0</td>\n",
              "    </tr>\n",
              "    <tr>\n",
              "      <th>2</th>\n",
              "      <td>2018-03-01 3:00:00</td>\n",
              "      <td>0.0</td>\n",
              "      <td>0.0</td>\n",
              "      <td>0</td>\n",
              "      <td>0</td>\n",
              "    </tr>\n",
              "    <tr>\n",
              "      <th>3</th>\n",
              "      <td>2018-03-01 4:00:00</td>\n",
              "      <td>0.0</td>\n",
              "      <td>0.0</td>\n",
              "      <td>0</td>\n",
              "      <td>0</td>\n",
              "    </tr>\n",
              "    <tr>\n",
              "      <th>4</th>\n",
              "      <td>2018-03-01 5:00:00</td>\n",
              "      <td>0.0</td>\n",
              "      <td>0.0</td>\n",
              "      <td>0</td>\n",
              "      <td>0</td>\n",
              "    </tr>\n",
              "  </tbody>\n",
              "</table>\n",
              "</div>"
            ],
            "text/plain": [
              "                 time  dangjin_floating  dangjin_warehouse  dangjin  ulsan\n",
              "0  2018-03-01 1:00:00               0.0                0.0        0      0\n",
              "1  2018-03-01 2:00:00               0.0                0.0        0      0\n",
              "2  2018-03-01 3:00:00               0.0                0.0        0      0\n",
              "3  2018-03-01 4:00:00               0.0                0.0        0      0\n",
              "4  2018-03-01 5:00:00               0.0                0.0        0      0"
            ]
          },
          "execution_count": 42,
          "metadata": {},
          "output_type": "execute_result"
        }
      ]
    },
    {
      "cell_type": "code",
      "metadata": {
        "id": "1vHb61sC6yRx",
        "colab": {
          "base_uri": "https://localhost:8080/",
          "height": 237
        },
        "outputId": "036f4992-cb8b-4a2a-b2ca-828936b1d81d"
      },
      "source": [
        "train = train.set_index('time')\n",
        "train.head()"
      ],
      "execution_count": 13,
      "outputs": [
        {
          "output_type": "execute_result",
          "data": {
            "text/html": [
              "<div>\n",
              "<style scoped>\n",
              "    .dataframe tbody tr th:only-of-type {\n",
              "        vertical-align: middle;\n",
              "    }\n",
              "\n",
              "    .dataframe tbody tr th {\n",
              "        vertical-align: top;\n",
              "    }\n",
              "\n",
              "    .dataframe thead th {\n",
              "        text-align: right;\n",
              "    }\n",
              "</style>\n",
              "<table border=\"1\" class=\"dataframe\">\n",
              "  <thead>\n",
              "    <tr style=\"text-align: right;\">\n",
              "      <th></th>\n",
              "      <th>공급량_a</th>\n",
              "      <th>공급량_b</th>\n",
              "    </tr>\n",
              "    <tr>\n",
              "      <th>time</th>\n",
              "      <th></th>\n",
              "      <th></th>\n",
              "    </tr>\n",
              "  </thead>\n",
              "  <tbody>\n",
              "    <tr>\n",
              "      <th>2013-01-01 01:00:00</th>\n",
              "      <td>2497.129</td>\n",
              "      <td>2169.093</td>\n",
              "    </tr>\n",
              "    <tr>\n",
              "      <th>2013-01-01 02:00:00</th>\n",
              "      <td>2363.265</td>\n",
              "      <td>2051.733</td>\n",
              "    </tr>\n",
              "    <tr>\n",
              "      <th>2013-01-01 03:00:00</th>\n",
              "      <td>2258.505</td>\n",
              "      <td>1923.253</td>\n",
              "    </tr>\n",
              "    <tr>\n",
              "      <th>2013-01-01 04:00:00</th>\n",
              "      <td>2243.969</td>\n",
              "      <td>1927.253</td>\n",
              "    </tr>\n",
              "    <tr>\n",
              "      <th>2013-01-01 05:00:00</th>\n",
              "      <td>2344.105</td>\n",
              "      <td>2047.333</td>\n",
              "    </tr>\n",
              "  </tbody>\n",
              "</table>\n",
              "</div>"
            ],
            "text/plain": [
              "                        공급량_a     공급량_b\n",
              "time                                   \n",
              "2013-01-01 01:00:00  2497.129  2169.093\n",
              "2013-01-01 02:00:00  2363.265  2051.733\n",
              "2013-01-01 03:00:00  2258.505  1923.253\n",
              "2013-01-01 04:00:00  2243.969  1927.253\n",
              "2013-01-01 05:00:00  2344.105  2047.333"
            ]
          },
          "metadata": {},
          "execution_count": 13
        }
      ]
    },
    {
      "cell_type": "code",
      "metadata": {
        "colab": {
          "base_uri": "https://localhost:8080/",
          "height": 455
        },
        "id": "xIYcTjNqMLPo",
        "outputId": "fd1accdb-3c62-4a4c-95eb-010bf96b7032"
      },
      "source": [
        "train"
      ],
      "execution_count": 45,
      "outputs": [
        {
          "output_type": "execute_result",
          "data": {
            "text/html": [
              "<div>\n",
              "<style scoped>\n",
              "    .dataframe tbody tr th:only-of-type {\n",
              "        vertical-align: middle;\n",
              "    }\n",
              "\n",
              "    .dataframe tbody tr th {\n",
              "        vertical-align: top;\n",
              "    }\n",
              "\n",
              "    .dataframe thead th {\n",
              "        text-align: right;\n",
              "    }\n",
              "</style>\n",
              "<table border=\"1\" class=\"dataframe\">\n",
              "  <thead>\n",
              "    <tr style=\"text-align: right;\">\n",
              "      <th></th>\n",
              "      <th>공급량_a</th>\n",
              "      <th>공급량_b</th>\n",
              "    </tr>\n",
              "    <tr>\n",
              "      <th>time</th>\n",
              "      <th></th>\n",
              "      <th></th>\n",
              "    </tr>\n",
              "  </thead>\n",
              "  <tbody>\n",
              "    <tr>\n",
              "      <th>2013-01-01 01:00:00</th>\n",
              "      <td>2497.129</td>\n",
              "      <td>2169.093</td>\n",
              "    </tr>\n",
              "    <tr>\n",
              "      <th>2013-01-01 02:00:00</th>\n",
              "      <td>2363.265</td>\n",
              "      <td>2051.733</td>\n",
              "    </tr>\n",
              "    <tr>\n",
              "      <th>2013-01-01 03:00:00</th>\n",
              "      <td>2258.505</td>\n",
              "      <td>1923.253</td>\n",
              "    </tr>\n",
              "    <tr>\n",
              "      <th>2013-01-01 04:00:00</th>\n",
              "      <td>2243.969</td>\n",
              "      <td>1927.253</td>\n",
              "    </tr>\n",
              "    <tr>\n",
              "      <th>2013-01-01 05:00:00</th>\n",
              "      <td>2344.105</td>\n",
              "      <td>2047.333</td>\n",
              "    </tr>\n",
              "    <tr>\n",
              "      <th>...</th>\n",
              "      <td>...</td>\n",
              "      <td>...</td>\n",
              "    </tr>\n",
              "    <tr>\n",
              "      <th>2018-12-31 20:00:00</th>\n",
              "      <td>3040.868</td>\n",
              "      <td>2668.688</td>\n",
              "    </tr>\n",
              "    <tr>\n",
              "      <th>2018-12-31 21:00:00</th>\n",
              "      <td>2973.577</td>\n",
              "      <td>2606.681</td>\n",
              "    </tr>\n",
              "    <tr>\n",
              "      <th>2018-12-31 22:00:00</th>\n",
              "      <td>2840.272</td>\n",
              "      <td>2540.169</td>\n",
              "    </tr>\n",
              "    <tr>\n",
              "      <th>2018-12-31 23:00:00</th>\n",
              "      <td>2692.385</td>\n",
              "      <td>2407.945</td>\n",
              "    </tr>\n",
              "    <tr>\n",
              "      <th>2019-01-01 00:00:00</th>\n",
              "      <td>2583.340</td>\n",
              "      <td>2290.154</td>\n",
              "    </tr>\n",
              "  </tbody>\n",
              "</table>\n",
              "<p>52584 rows × 2 columns</p>\n",
              "</div>"
            ],
            "text/plain": [
              "                        공급량_a     공급량_b\n",
              "time                                   \n",
              "2013-01-01 01:00:00  2497.129  2169.093\n",
              "2013-01-01 02:00:00  2363.265  2051.733\n",
              "2013-01-01 03:00:00  2258.505  1923.253\n",
              "2013-01-01 04:00:00  2243.969  1927.253\n",
              "2013-01-01 05:00:00  2344.105  2047.333\n",
              "...                       ...       ...\n",
              "2018-12-31 20:00:00  3040.868  2668.688\n",
              "2018-12-31 21:00:00  2973.577  2606.681\n",
              "2018-12-31 22:00:00  2840.272  2540.169\n",
              "2018-12-31 23:00:00  2692.385  2407.945\n",
              "2019-01-01 00:00:00  2583.340  2290.154\n",
              "\n",
              "[52584 rows x 2 columns]"
            ]
          },
          "metadata": {},
          "execution_count": 45
        }
      ]
    },
    {
      "cell_type": "code",
      "metadata": {
        "colab": {
          "base_uri": "https://localhost:8080/",
          "height": 108
        },
        "id": "dxBKtE9_JIv3",
        "outputId": "7bd0c9da-43e3-4d47-9a72-ec7e9804b6b8"
      },
      "source": [
        "# train[train['공급량_a']==2345.481]"
      ],
      "execution_count": null,
      "outputs": [
        {
          "output_type": "execute_result",
          "data": {
            "text/html": [
              "<div>\n",
              "<style scoped>\n",
              "    .dataframe tbody tr th:only-of-type {\n",
              "        vertical-align: middle;\n",
              "    }\n",
              "\n",
              "    .dataframe tbody tr th {\n",
              "        vertical-align: top;\n",
              "    }\n",
              "\n",
              "    .dataframe thead th {\n",
              "        text-align: right;\n",
              "    }\n",
              "</style>\n",
              "<table border=\"1\" class=\"dataframe\">\n",
              "  <thead>\n",
              "    <tr style=\"text-align: right;\">\n",
              "      <th></th>\n",
              "      <th>공급량_a</th>\n",
              "      <th>공급량_b</th>\n",
              "      <th>공급량_c</th>\n",
              "      <th>공급량_d</th>\n",
              "      <th>공급량_e</th>\n",
              "      <th>공급량_g</th>\n",
              "      <th>공급량_h</th>\n",
              "    </tr>\n",
              "    <tr>\n",
              "      <th>time</th>\n",
              "      <th></th>\n",
              "      <th></th>\n",
              "      <th></th>\n",
              "      <th></th>\n",
              "      <th></th>\n",
              "      <th></th>\n",
              "      <th></th>\n",
              "    </tr>\n",
              "  </thead>\n",
              "  <tbody>\n",
              "    <tr>\n",
              "      <th>2013-01-02 01:00:00</th>\n",
              "      <td>2345.481</td>\n",
              "      <td>1991.733</td>\n",
              "      <td>221.378</td>\n",
              "      <td>1291.316</td>\n",
              "      <td>3140.389</td>\n",
              "      <td>3205.085</td>\n",
              "      <td>521.756</td>\n",
              "    </tr>\n",
              "  </tbody>\n",
              "</table>\n",
              "</div>"
            ],
            "text/plain": [
              "                        공급량_a     공급량_b    공급량_c  ...     공급량_e     공급량_g    공급량_h\n",
              "time                                              ...                             \n",
              "2013-01-02 01:00:00  2345.481  1991.733  221.378  ...  3140.389  3205.085  521.756\n",
              "\n",
              "[1 rows x 7 columns]"
            ]
          },
          "metadata": {},
          "execution_count": 21
        }
      ]
    },
    {
      "cell_type": "code",
      "metadata": {
        "colab": {
          "base_uri": "https://localhost:8080/"
        },
        "id": "ovdZ0z9Kg-oP",
        "outputId": "a9b2954d-7f5f-44f8-ae60-c1117f40eaac"
      },
      "source": [
        "# train.info()"
      ],
      "execution_count": null,
      "outputs": [
        {
          "output_type": "stream",
          "name": "stdout",
          "text": [
            "<class 'pandas.core.frame.DataFrame'>\n",
            "DatetimeIndex: 52584 entries, 2013-01-01 01:00:00 to 2019-01-01 00:00:00\n",
            "Data columns (total 7 columns):\n",
            " #   Column  Non-Null Count  Dtype  \n",
            "---  ------  --------------  -----  \n",
            " 0   공급량_a   52584 non-null  float64\n",
            " 1   공급량_b   52584 non-null  float64\n",
            " 2   공급량_c   52584 non-null  float64\n",
            " 3   공급량_d   52584 non-null  float64\n",
            " 4   공급량_e   52584 non-null  float64\n",
            " 5   공급량_g   52584 non-null  float64\n",
            " 6   공급량_h   52584 non-null  float64\n",
            "dtypes: float64(7)\n",
            "memory usage: 3.2 MB\n"
          ]
        }
      ]
    },
    {
      "cell_type": "markdown",
      "metadata": {
        "id": "3W-MmS6t6yRy"
      },
      "source": [
        "## 모델링"
      ]
    },
    {
      "cell_type": "code",
      "metadata": {
        "id": "wo_dKKNO6yRy",
        "colab": {
          "base_uri": "https://localhost:8080/",
          "height": 36
        },
        "outputId": "b3461af0-b7eb-4b42-8b66-572be7a1431d"
      },
      "source": [
        "# 데이터 타입을 float로 변경\n",
        "\n",
        "train_a = train['공급량_a'].values.astype(float)\n",
        "# train_b = train['공급량_b'].values.astype(float)\n",
        "# train_c = train['공급량_c'].values.astype(float)\n",
        "# train_d = train['공급량_d'].values.astype(float)\n",
        "# train_e = train['공급량_e'].values.astype(float)\n",
        "# train_g = train['공급량_g'].values.astype(float)\n",
        "# train_h = train['공급량_h'].values.astype(float)\n",
        "\n",
        "\n",
        "\n",
        "'''valid_data_size = 700\n",
        "train_data = ulsan[:-valid_data_size]\n",
        "valid_data = ulsan[-valid_data_size:]'''"
      ],
      "execution_count": 32,
      "outputs": [
        {
          "output_type": "execute_result",
          "data": {
            "application/vnd.google.colaboratory.intrinsic+json": {
              "type": "string"
            },
            "text/plain": [
              "'valid_data_size = 700\\ntrain_data = ulsan[:-valid_data_size]\\nvalid_data = ulsan[-valid_data_size:]'"
            ]
          },
          "metadata": {},
          "execution_count": 32
        }
      ]
    },
    {
      "cell_type": "markdown",
      "metadata": {
        "id": "YLK1qj-x6yRz"
      },
      "source": [
        "### 하이퍼 파라미터 설정"
      ]
    },
    {
      "cell_type": "code",
      "metadata": {
        "id": "rb8KeKyi6yRz"
      },
      "source": [
        "# hyper parameters\n",
        "\n",
        "learning_rate = 0.0001 \n",
        "sequence_length = 24*365 # 24 일때가 가장 좋았음.\n",
        "epochs = 10"
      ],
      "execution_count": 15,
      "outputs": []
    },
    {
      "cell_type": "code",
      "metadata": {
        "id": "1nf--NLr6yRz"
      },
      "source": [
        "# 데이터를 시퀀스 형태로 변경\n",
        "def make_batch(input_data, sl):\n",
        "    train_x = []\n",
        "    train_y = []\n",
        "    L = len(input_data)\n",
        "    for i in range(L-sl):\n",
        "        train_seq = input_data[i:i+sl]\n",
        "        train_label = input_data[i+sl:i+sl+1]\n",
        "        train_x.append(train_seq)\n",
        "        train_y.append(train_label)\n",
        "    return train_x, train_y"
      ],
      "execution_count": 16,
      "outputs": []
    },
    {
      "cell_type": "code",
      "metadata": {
        "id": "nB7EfY0r6yR0"
      },
      "source": [
        "## 모델 설계\n",
        "\n",
        "class simple_lstm(nn.Module):\n",
        "    \n",
        "    def __init__(self):\n",
        "        super().__init__()\n",
        "        self.input_vector = 1\n",
        "        self.sequence_length = 24\n",
        "        self.output_vector = 100\n",
        "        self.num_layers = 4\n",
        "        \n",
        "        self.lstm = nn.LSTM(input_size=self.input_vector, hidden_size=self.output_vector, num_layers=self.num_layers, batch_first=True)\n",
        "        self.linear = nn.Sequential(\n",
        "            nn.Linear(self.output_vector, 1)\n",
        "        )\n",
        "        # self.linear = nn.Sequential(\n",
        "        #     nn.Linear(self.output_vector, 50),\n",
        "        #     nn.Linear(50, 30),\n",
        "        #     nn.Linear(30, 10),\n",
        "        #     nn.Linear(10,1)\n",
        "        # )\n",
        "        \n",
        "    def forward(self, x):\n",
        "        output, _ = self.lstm(x) #(hidden, cell) 데이터는 사용하지 않음\n",
        "        return self.linear(output[:,-1,:])\n",
        "    \n",
        "device = torch.device(\"cuda:0\" if torch.cuda.is_available() else \"cpu\")"
      ],
      "execution_count": 27,
      "outputs": []
    },
    {
      "cell_type": "markdown",
      "metadata": {
        "id": "o2Rdt8YE6yR0"
      },
      "source": [
        "### total_a"
      ]
    },
    {
      "cell_type": "code",
      "metadata": {
        "id": "XsTs31lL6yR1"
      },
      "source": [
        "train_x, train_y = make_batch(train_a.reshape(-1,1), sequence_length)\n",
        "tensor_x = torch.Tensor(train_x).to(torch.int64)\n",
        "tensor_y = torch.Tensor(train_y).to(torch.int64)"
      ],
      "execution_count": 33,
      "outputs": []
    },
    {
      "cell_type": "code",
      "metadata": {
        "colab": {
          "base_uri": "https://localhost:8080/"
        },
        "id": "7VPq81fFUgYh",
        "outputId": "85bb70b1-e2ec-4a2b-e537-68bfd1d8d2cd"
      },
      "source": [
        "tensor_x"
      ],
      "execution_count": 37,
      "outputs": [
        {
          "output_type": "execute_result",
          "data": {
            "text/plain": [
              "tensor([[[2497],\n",
              "         [2363],\n",
              "         [2258],\n",
              "         ...,\n",
              "         [2097],\n",
              "         [1999],\n",
              "         [1858]],\n",
              "\n",
              "        [[2363],\n",
              "         [2258],\n",
              "         [2243],\n",
              "         ...,\n",
              "         [1999],\n",
              "         [1858],\n",
              "         [1677]],\n",
              "\n",
              "        [[2258],\n",
              "         [2243],\n",
              "         [2344],\n",
              "         ...,\n",
              "         [1858],\n",
              "         [1677],\n",
              "         [1567]],\n",
              "\n",
              "        ...,\n",
              "\n",
              "        [[2054],\n",
              "         [1981],\n",
              "         [1897],\n",
              "         ...,\n",
              "         [2991],\n",
              "         [3040],\n",
              "         [2973]],\n",
              "\n",
              "        [[1981],\n",
              "         [1897],\n",
              "         [1765],\n",
              "         ...,\n",
              "         [3040],\n",
              "         [2973],\n",
              "         [2840]],\n",
              "\n",
              "        [[1897],\n",
              "         [1765],\n",
              "         [1679],\n",
              "         ...,\n",
              "         [2973],\n",
              "         [2840],\n",
              "         [2692]]], device='cuda:0')"
            ]
          },
          "metadata": {},
          "execution_count": 37
        }
      ]
    },
    {
      "cell_type": "code",
      "metadata": {
        "id": "9Dub801jIdBP"
      },
      "source": [
        "train_a = simple_lstm()\n",
        "train_a = train_a.to(device)"
      ],
      "execution_count": 34,
      "outputs": []
    },
    {
      "cell_type": "code",
      "metadata": {
        "id": "fHJOR0_oIfFi"
      },
      "source": [
        "optimizer = torch.optim.Adam(train_a.parameters(), lr=learning_rate)\n",
        "criterion = nn.MSELoss()"
      ],
      "execution_count": 35,
      "outputs": []
    },
    {
      "cell_type": "code",
      "metadata": {
        "colab": {
          "base_uri": "https://localhost:8080/"
        },
        "id": "JeDYBvKZL8E4",
        "outputId": "93f46762-79a0-45b7-d564-ea81f9165a56"
      },
      "source": [
        "!nvidia-smi    #GPU 사용량"
      ],
      "execution_count": 21,
      "outputs": [
        {
          "output_type": "stream",
          "name": "stdout",
          "text": [
            "Mon Dec  6 05:50:05 2021       \n",
            "+-----------------------------------------------------------------------------+\n",
            "| NVIDIA-SMI 495.44       Driver Version: 460.32.03    CUDA Version: 11.2     |\n",
            "|-------------------------------+----------------------+----------------------+\n",
            "| GPU  Name        Persistence-M| Bus-Id        Disp.A | Volatile Uncorr. ECC |\n",
            "| Fan  Temp  Perf  Pwr:Usage/Cap|         Memory-Usage | GPU-Util  Compute M. |\n",
            "|                               |                      |               MIG M. |\n",
            "|===============================+======================+======================|\n",
            "|   0  Tesla P100-PCIE...  Off  | 00000000:00:04.0 Off |                    0 |\n",
            "| N/A   37C    P0    32W / 250W |   1035MiB / 16280MiB |      4%      Default |\n",
            "|                               |                      |                  N/A |\n",
            "+-------------------------------+----------------------+----------------------+\n",
            "                                                                               \n",
            "+-----------------------------------------------------------------------------+\n",
            "| Processes:                                                                  |\n",
            "|  GPU   GI   CI        PID   Type   Process name                  GPU Memory |\n",
            "|        ID   ID                                                   Usage      |\n",
            "|=============================================================================|\n",
            "|  No running processes found                                                 |\n",
            "+-----------------------------------------------------------------------------+\n"
          ]
        }
      ]
    },
    {
      "cell_type": "code",
      "metadata": {
        "colab": {
          "base_uri": "https://localhost:8080/",
          "height": 405
        },
        "id": "mG7zx-8oq-dD",
        "outputId": "7f05e396-48f9-409d-c1bc-a17ffddc5958"
      },
      "source": [
        "import torch, gc\n",
        "\n",
        "for i in range(epochs):\n",
        "    # gc.collect()\n",
        "    # torch.cuda.empty_cache()\n",
        "    train_a.train()\n",
        "    tensor_x = tensor_x.to(device)\n",
        "    tensor_y = tensor_y.to(device)\n",
        "    output = train_a(tensor_x)\n",
        "    loss = criterion(output, tensor_y.view(-1,1))\n",
        "    \n",
        "    optimizer.zero_grad()\n",
        "    loss.backward()\n",
        "    optimizer.step()\n",
        "    \n",
        "    if i%100 == 0:\n",
        "        print('Epoch {}, Loss {:.5f}'.format(i, loss.item()))"
      ],
      "execution_count": 38,
      "outputs": [
        {
          "output_type": "error",
          "ename": "RuntimeError",
          "evalue": "ignored",
          "traceback": [
            "\u001b[0;31m---------------------------------------------------------------------------\u001b[0m",
            "\u001b[0;31mRuntimeError\u001b[0m                              Traceback (most recent call last)",
            "\u001b[0;32m<ipython-input-38-c3b893e46025>\u001b[0m in \u001b[0;36m<module>\u001b[0;34m()\u001b[0m\n\u001b[1;32m      7\u001b[0m     \u001b[0mtensor_x\u001b[0m \u001b[0;34m=\u001b[0m \u001b[0mtensor_x\u001b[0m\u001b[0;34m.\u001b[0m\u001b[0mto\u001b[0m\u001b[0;34m(\u001b[0m\u001b[0mdevice\u001b[0m\u001b[0;34m)\u001b[0m\u001b[0;34m\u001b[0m\u001b[0;34m\u001b[0m\u001b[0m\n\u001b[1;32m      8\u001b[0m     \u001b[0mtensor_y\u001b[0m \u001b[0;34m=\u001b[0m \u001b[0mtensor_y\u001b[0m\u001b[0;34m.\u001b[0m\u001b[0mto\u001b[0m\u001b[0;34m(\u001b[0m\u001b[0mdevice\u001b[0m\u001b[0;34m)\u001b[0m\u001b[0;34m\u001b[0m\u001b[0;34m\u001b[0m\u001b[0m\n\u001b[0;32m----> 9\u001b[0;31m     \u001b[0moutput\u001b[0m \u001b[0;34m=\u001b[0m \u001b[0mtrain_a\u001b[0m\u001b[0;34m(\u001b[0m\u001b[0mtensor_x\u001b[0m\u001b[0;34m)\u001b[0m\u001b[0;34m\u001b[0m\u001b[0;34m\u001b[0m\u001b[0m\n\u001b[0m\u001b[1;32m     10\u001b[0m     \u001b[0mloss\u001b[0m \u001b[0;34m=\u001b[0m \u001b[0mcriterion\u001b[0m\u001b[0;34m(\u001b[0m\u001b[0moutput\u001b[0m\u001b[0;34m,\u001b[0m \u001b[0mtensor_y\u001b[0m\u001b[0;34m.\u001b[0m\u001b[0mview\u001b[0m\u001b[0;34m(\u001b[0m\u001b[0;34m-\u001b[0m\u001b[0;36m1\u001b[0m\u001b[0;34m,\u001b[0m\u001b[0;36m1\u001b[0m\u001b[0;34m)\u001b[0m\u001b[0;34m)\u001b[0m\u001b[0;34m\u001b[0m\u001b[0;34m\u001b[0m\u001b[0m\n\u001b[1;32m     11\u001b[0m \u001b[0;34m\u001b[0m\u001b[0m\n",
            "\u001b[0;32m/usr/local/lib/python3.7/dist-packages/torch/nn/modules/module.py\u001b[0m in \u001b[0;36m_call_impl\u001b[0;34m(self, *input, **kwargs)\u001b[0m\n\u001b[1;32m   1100\u001b[0m         if not (self._backward_hooks or self._forward_hooks or self._forward_pre_hooks or _global_backward_hooks\n\u001b[1;32m   1101\u001b[0m                 or _global_forward_hooks or _global_forward_pre_hooks):\n\u001b[0;32m-> 1102\u001b[0;31m             \u001b[0;32mreturn\u001b[0m \u001b[0mforward_call\u001b[0m\u001b[0;34m(\u001b[0m\u001b[0;34m*\u001b[0m\u001b[0minput\u001b[0m\u001b[0;34m,\u001b[0m \u001b[0;34m**\u001b[0m\u001b[0mkwargs\u001b[0m\u001b[0;34m)\u001b[0m\u001b[0;34m\u001b[0m\u001b[0;34m\u001b[0m\u001b[0m\n\u001b[0m\u001b[1;32m   1103\u001b[0m         \u001b[0;31m# Do not call functions when jit is used\u001b[0m\u001b[0;34m\u001b[0m\u001b[0;34m\u001b[0m\u001b[0;34m\u001b[0m\u001b[0m\n\u001b[1;32m   1104\u001b[0m         \u001b[0mfull_backward_hooks\u001b[0m\u001b[0;34m,\u001b[0m \u001b[0mnon_full_backward_hooks\u001b[0m \u001b[0;34m=\u001b[0m \u001b[0;34m[\u001b[0m\u001b[0;34m]\u001b[0m\u001b[0;34m,\u001b[0m \u001b[0;34m[\u001b[0m\u001b[0;34m]\u001b[0m\u001b[0;34m\u001b[0m\u001b[0;34m\u001b[0m\u001b[0m\n",
            "\u001b[0;32m<ipython-input-27-d6a4066459f8>\u001b[0m in \u001b[0;36mforward\u001b[0;34m(self, x)\u001b[0m\n\u001b[1;32m     22\u001b[0m \u001b[0;34m\u001b[0m\u001b[0m\n\u001b[1;32m     23\u001b[0m     \u001b[0;32mdef\u001b[0m \u001b[0mforward\u001b[0m\u001b[0;34m(\u001b[0m\u001b[0mself\u001b[0m\u001b[0;34m,\u001b[0m \u001b[0mx\u001b[0m\u001b[0;34m)\u001b[0m\u001b[0;34m:\u001b[0m\u001b[0;34m\u001b[0m\u001b[0;34m\u001b[0m\u001b[0m\n\u001b[0;32m---> 24\u001b[0;31m         \u001b[0moutput\u001b[0m\u001b[0;34m,\u001b[0m \u001b[0m_\u001b[0m \u001b[0;34m=\u001b[0m \u001b[0mself\u001b[0m\u001b[0;34m.\u001b[0m\u001b[0mlstm\u001b[0m\u001b[0;34m(\u001b[0m\u001b[0mx\u001b[0m\u001b[0;34m)\u001b[0m \u001b[0;31m#(hidden, cell) 데이터는 사용하지 않음\u001b[0m\u001b[0;34m\u001b[0m\u001b[0;34m\u001b[0m\u001b[0m\n\u001b[0m\u001b[1;32m     25\u001b[0m         \u001b[0;32mreturn\u001b[0m \u001b[0mself\u001b[0m\u001b[0;34m.\u001b[0m\u001b[0mlinear\u001b[0m\u001b[0;34m(\u001b[0m\u001b[0moutput\u001b[0m\u001b[0;34m[\u001b[0m\u001b[0;34m:\u001b[0m\u001b[0;34m,\u001b[0m\u001b[0;34m-\u001b[0m\u001b[0;36m1\u001b[0m\u001b[0;34m,\u001b[0m\u001b[0;34m:\u001b[0m\u001b[0;34m]\u001b[0m\u001b[0;34m)\u001b[0m\u001b[0;34m\u001b[0m\u001b[0;34m\u001b[0m\u001b[0m\n\u001b[1;32m     26\u001b[0m \u001b[0;34m\u001b[0m\u001b[0m\n",
            "\u001b[0;32m/usr/local/lib/python3.7/dist-packages/torch/nn/modules/module.py\u001b[0m in \u001b[0;36m_call_impl\u001b[0;34m(self, *input, **kwargs)\u001b[0m\n\u001b[1;32m   1100\u001b[0m         if not (self._backward_hooks or self._forward_hooks or self._forward_pre_hooks or _global_backward_hooks\n\u001b[1;32m   1101\u001b[0m                 or _global_forward_hooks or _global_forward_pre_hooks):\n\u001b[0;32m-> 1102\u001b[0;31m             \u001b[0;32mreturn\u001b[0m \u001b[0mforward_call\u001b[0m\u001b[0;34m(\u001b[0m\u001b[0;34m*\u001b[0m\u001b[0minput\u001b[0m\u001b[0;34m,\u001b[0m \u001b[0;34m**\u001b[0m\u001b[0mkwargs\u001b[0m\u001b[0;34m)\u001b[0m\u001b[0;34m\u001b[0m\u001b[0;34m\u001b[0m\u001b[0m\n\u001b[0m\u001b[1;32m   1103\u001b[0m         \u001b[0;31m# Do not call functions when jit is used\u001b[0m\u001b[0;34m\u001b[0m\u001b[0;34m\u001b[0m\u001b[0;34m\u001b[0m\u001b[0m\n\u001b[1;32m   1104\u001b[0m         \u001b[0mfull_backward_hooks\u001b[0m\u001b[0;34m,\u001b[0m \u001b[0mnon_full_backward_hooks\u001b[0m \u001b[0;34m=\u001b[0m \u001b[0;34m[\u001b[0m\u001b[0;34m]\u001b[0m\u001b[0;34m,\u001b[0m \u001b[0;34m[\u001b[0m\u001b[0;34m]\u001b[0m\u001b[0;34m\u001b[0m\u001b[0;34m\u001b[0m\u001b[0m\n",
            "\u001b[0;32m/usr/local/lib/python3.7/dist-packages/torch/nn/modules/rnn.py\u001b[0m in \u001b[0;36mforward\u001b[0;34m(self, input, hx)\u001b[0m\n\u001b[1;32m    690\u001b[0m         \u001b[0;32mif\u001b[0m \u001b[0mbatch_sizes\u001b[0m \u001b[0;32mis\u001b[0m \u001b[0;32mNone\u001b[0m\u001b[0;34m:\u001b[0m\u001b[0;34m\u001b[0m\u001b[0;34m\u001b[0m\u001b[0m\n\u001b[1;32m    691\u001b[0m             result = _VF.lstm(input, hx, self._flat_weights, self.bias, self.num_layers,\n\u001b[0;32m--> 692\u001b[0;31m                               self.dropout, self.training, self.bidirectional, self.batch_first)\n\u001b[0m\u001b[1;32m    693\u001b[0m         \u001b[0;32melse\u001b[0m\u001b[0;34m:\u001b[0m\u001b[0;34m\u001b[0m\u001b[0;34m\u001b[0m\u001b[0m\n\u001b[1;32m    694\u001b[0m             result = _VF.lstm(input, batch_sizes, hx, self._flat_weights, self.bias,\n",
            "\u001b[0;31mRuntimeError\u001b[0m: \"addmm_cuda\" not implemented for 'Long'"
          ]
        }
      ]
    },
    {
      "cell_type": "code",
      "metadata": {
        "id": "TSsYJrvXKf0s"
      },
      "source": [
        "x_input = np.array(train.train_a[-24:]) #  next value based on data of last year\n",
        "x_input = x_input.reshape((1, 24, 1)) \n",
        "train_a_pred = []"
      ],
      "execution_count": null,
      "outputs": []
    },
    {
      "cell_type": "code",
      "metadata": {
        "id": "RnMx83UvKhk3"
      },
      "source": [
        "for i in range(2160):   #2160  #672=24*28\n",
        "    \n",
        "    x_input = torch.Tensor(x_input)\n",
        "    x_input = x_input.to(device)\n",
        "    predict = train_a(x_input).cpu().detach().numpy()\n",
        "    \n",
        "    new_input = predict.reshape((1,1,1))\n",
        "    x_input = np.concatenate((x_input[:,-23:].cpu(), new_input), axis = 1)\n",
        "    train_a_pred.append(predict[0][0])"
      ],
      "execution_count": null,
      "outputs": []
    },
    {
      "cell_type": "markdown",
      "metadata": {
        "id": "376sCxGY6yR2"
      },
      "source": [
        "### dangjin_warehouse"
      ]
    },
    {
      "cell_type": "code",
      "metadata": {
        "id": "gx-0q8c56yR2",
        "outputId": "8d7ece44-b7d7-4cf3-c10a-08a38ada54c3"
      },
      "source": [
        "train_x, train_y = make_batch(dangjin_warehouse.reshape(-1,1), sequence_length)\n",
        "tensor_x = torch.Tensor(train_x)\n",
        "tensor_y = torch.Tensor(train_y)\n",
        "\n",
        "\n",
        "dangjin_warehouse = simple_lstm()\n",
        "dangjin_warehouse = dangjin_warehouse.to(device)\n",
        "\n",
        "optimizer = torch.optim.Adam(dangjin_warehouse.parameters(), lr=learning_rate)\n",
        "criterion = nn.MSELoss()\n",
        "\n",
        "for i in range(epochs):\n",
        "    dangjin_warehouse.train()\n",
        "    tensor_x = tensor_x.to(device)\n",
        "    tensor_y = tensor_y.to(device)\n",
        "    output = dangjin_warehouse(tensor_x)\n",
        "    loss = criterion(output, tensor_y.view(-1,1))\n",
        "    \n",
        "    optimizer.zero_grad()\n",
        "    loss.backward()\n",
        "    optimizer.step()\n",
        "    \n",
        "    if i%100 == 0:\n",
        "        print('Epoch {}, Loss {:.5f}'.format(i, loss.item()))\n",
        "\n",
        "x_input = np.array(energy.dangjin_warehouse[-24:]) #  next value based on data of last year\n",
        "x_input = x_input.reshape((1, 24, 1)) \n",
        "dangjin_warehouse_pred= []\n",
        "\n",
        "for i in range(672):\n",
        "    \n",
        "    x_input = torch.Tensor(x_input)\n",
        "    x_input = x_input.to(device)\n",
        "    predict = dangjin_warehouse(x_input).cpu().detach().numpy()\n",
        "    \n",
        "    new_input = predict.reshape((1,1,1))\n",
        "    x_input = np.concatenate((x_input[:,-23:].cpu(), new_input), axis = 1)\n",
        "    dangjin_warehouse_pred.append(predict[0][0])"
      ],
      "execution_count": null,
      "outputs": [
        {
          "name": "stdout",
          "output_type": "stream",
          "text": [
            "Epoch 0, Loss 29991.69531\n",
            "Epoch 100, Loss 29237.04297\n",
            "Epoch 200, Loss 25498.15234\n",
            "Epoch 300, Loss 21772.12695\n",
            "Epoch 400, Loss 21364.16602\n",
            "Epoch 500, Loss 9767.13770\n",
            "Epoch 600, Loss 5690.01953\n",
            "Epoch 700, Loss 2897.01001\n",
            "Epoch 800, Loss 1666.82739\n",
            "Epoch 900, Loss 1174.23206\n",
            "Epoch 1000, Loss 1031.15967\n",
            "Epoch 1100, Loss 988.46277\n",
            "Epoch 1200, Loss 968.51605\n",
            "Epoch 1300, Loss 955.71423\n",
            "Epoch 1400, Loss 945.90784\n",
            "Epoch 1500, Loss 939.43378\n",
            "Epoch 1600, Loss 930.69183\n",
            "Epoch 1700, Loss 926.46777\n",
            "Epoch 1800, Loss 919.19995\n",
            "Epoch 1900, Loss 914.06439\n"
          ]
        }
      ]
    },
    {
      "cell_type": "markdown",
      "metadata": {
        "id": "AzcCYKoXkSDt",
        "outputId": "a5693b6f-5761-4239-ff31-1db97edfba23"
      },
      "source": [
        "### dangjin"
      ]
    },
    {
      "cell_type": "code",
      "metadata": {
        "id": "WAczFi-16yR3",
        "outputId": "b3662306-c9ca-4968-aa17-3b2c74adef8e"
      },
      "source": [
        "train_x, train_y = make_batch(dangjin.reshape(-1,1), sequence_length)\n",
        "tensor_x = torch.Tensor(train_x)\n",
        "tensor_y = torch.Tensor(train_y)\n",
        "\n",
        "\n",
        "dangjin = simple_lstm()\n",
        "dangjin = dangjin.to(device)\n",
        "\n",
        "optimizer = torch.optim.Adam(dangjin.parameters(), lr=learning_rate)\n",
        "criterion = nn.MSELoss()\n",
        "\n",
        "for i in range(epochs):\n",
        "    dangjin.train()\n",
        "    tensor_x = tensor_x.to(device)\n",
        "    tensor_y = tensor_y.to(device)\n",
        "    output = dangjin(tensor_x)\n",
        "    loss = criterion(output, tensor_y.view(-1,1))\n",
        "    \n",
        "    optimizer.zero_grad()\n",
        "    loss.backward()\n",
        "    optimizer.step()\n",
        "    \n",
        "    if i%100 == 0:\n",
        "        print('Epoch {}, Loss {:.5f}'.format(i, loss.item()))\n",
        "\n",
        "x_input = np.array(energy.dangjin[-24:]) #  next value based on data of last year\n",
        "x_input = x_input.reshape((1, 24, 1)) \n",
        "dangjin_pred = []\n",
        "\n",
        "for i in range(672):   \n",
        "    \n",
        "    x_input = torch.Tensor(x_input)\n",
        "    x_input = x_input.to(device)\n",
        "    predict = dangjin(x_input).cpu().detach().numpy()\n",
        "    new_input = predict.reshape((1,1,1))\n",
        "    x_input = np.concatenate((x_input[:,-23:].cpu(), new_input), axis = 1)\n",
        "    dangjin_pred.append(predict[0][0])"
      ],
      "execution_count": null,
      "outputs": [
        {
          "name": "stdout",
          "output_type": "stream",
          "text": [
            "Epoch 0, Loss 68170.28125\n",
            "Epoch 100, Loss 67084.38281\n",
            "Epoch 200, Loss 60498.91406\n",
            "Epoch 300, Loss 51220.14453\n",
            "Epoch 400, Loss 48626.66406\n",
            "Epoch 500, Loss 48547.03125\n",
            "Epoch 600, Loss 21144.20703\n",
            "Epoch 700, Loss 6794.92529\n",
            "Epoch 800, Loss 3000.24561\n",
            "Epoch 900, Loss 2467.31519\n",
            "Epoch 1000, Loss 2312.99414\n",
            "Epoch 1100, Loss 2228.74951\n",
            "Epoch 1200, Loss 2179.66504\n",
            "Epoch 1300, Loss 2145.10010\n",
            "Epoch 1400, Loss 2119.58081\n",
            "Epoch 1500, Loss 2084.83594\n",
            "Epoch 1600, Loss 2062.43530\n",
            "Epoch 1700, Loss 2042.13440\n",
            "Epoch 1800, Loss 2014.49255\n",
            "Epoch 1900, Loss 1989.32190\n"
          ]
        }
      ]
    },
    {
      "cell_type": "markdown",
      "metadata": {
        "id": "qyYJX_pQ6yR4"
      },
      "source": [
        "### ulsan"
      ]
    },
    {
      "cell_type": "code",
      "metadata": {
        "id": "n0rylnYN6yR4",
        "outputId": "c9d3a2ca-ecdb-4e74-9422-6ba268b414a8"
      },
      "source": [
        "train_x, train_y = make_batch(ulsan.reshape(-1,1), sequence_length)\n",
        "tensor_x = torch.Tensor(train_x)\n",
        "tensor_y = torch.Tensor(train_y)\n",
        "\n",
        "\n",
        "ulsan = simple_lstm()\n",
        "ulsan = ulsan.to(device)\n",
        "\n",
        "optimizer = torch.optim.Adam(ulsan.parameters(), lr=learning_rate)\n",
        "criterion = nn.MSELoss()\n",
        "\n",
        "\n",
        "# 학습\n",
        "for i in range(epochs):\n",
        "    ulsan.train()\n",
        "    tensor_x = tensor_x.to(device)\n",
        "    tensor_y = tensor_y.to(device)\n",
        "    output = ulsan(tensor_x)\n",
        "    loss = criterion(output, tensor_y.view(-1,1))\n",
        "    \n",
        "    optimizer.zero_grad()\n",
        "    loss.backward()\n",
        "    optimizer.step()\n",
        "    \n",
        "    if i%100 == 0:\n",
        "        print('Epoch {}, Loss {:.5f}'.format(i, loss.item()))\n",
        "\n",
        "        \n",
        "        \n",
        "# 추론        \n",
        "x_input = np.array(energy.ulsan[-24:]) #  next value based on data of last year\n",
        "x_input = x_input.reshape((1, 24, 1)) \n",
        "ulsan_pred = []\n",
        "\n",
        "for i in range(672):\n",
        "    \n",
        "    x_input = torch.Tensor(x_input)\n",
        "    x_input = x_input.to(device)\n",
        "    predict = ulsan(x_input).cpu().detach().numpy()\n",
        "    new_input = predict.reshape((1,1,1))\n",
        "    x_input = np.concatenate((x_input[:,-23:].cpu(), new_input), axis = 1)\n",
        "    ulsan_pred.append(predict[0][0])"
      ],
      "execution_count": null,
      "outputs": [
        {
          "name": "stdout",
          "output_type": "stream",
          "text": [
            "Epoch 0, Loss 14324.69922\n",
            "Epoch 100, Loss 13653.27637\n",
            "Epoch 200, Loss 11321.62500\n",
            "Epoch 300, Loss 10213.53027\n",
            "Epoch 400, Loss 10195.78027\n",
            "Epoch 500, Loss 6182.88281\n",
            "Epoch 600, Loss 1220.37268\n",
            "Epoch 700, Loss 565.07166\n",
            "Epoch 800, Loss 479.22906\n",
            "Epoch 900, Loss 453.16119\n",
            "Epoch 1000, Loss 441.70035\n",
            "Epoch 1100, Loss 435.23682\n",
            "Epoch 1200, Loss 430.89359\n",
            "Epoch 1300, Loss 427.13724\n",
            "Epoch 1400, Loss 424.04031\n",
            "Epoch 1500, Loss 425.34241\n",
            "Epoch 1600, Loss 419.32108\n",
            "Epoch 1700, Loss 416.37091\n",
            "Epoch 1800, Loss 413.65601\n",
            "Epoch 1900, Loss 411.39694\n"
          ]
        }
      ]
    },
    {
      "cell_type": "code",
      "metadata": {
        "id": "V8kh1_-hqOXj"
      },
      "source": [
        "submission = pd.read_csv('data/sample_submission.csv')"
      ],
      "execution_count": null,
      "outputs": []
    },
    {
      "cell_type": "code",
      "metadata": {
        "id": "CslHT61Vu4h3"
      },
      "source": [
        "submission.iloc[:24*28, 1] = train_a_pred\n",
        "submission.iloc[:24*28, 2] = dangjin_warehouse_pred\n",
        "submission.iloc[:24*28, 3] = dangjin_pred\n",
        "submission.iloc[:24*28, 4] = ulsan_pred"
      ],
      "execution_count": null,
      "outputs": []
    },
    {
      "cell_type": "code",
      "metadata": {
        "id": "sJmfz90svFfP"
      },
      "source": [
        "submission.to_csv('submission.csv',index=False)"
      ],
      "execution_count": null,
      "outputs": []
    },
    {
      "cell_type": "code",
      "metadata": {
        "id": "o23_YI736yR5",
        "outputId": "ce8cfc62-c9a2-4282-cd96-c427f4b0eb5c"
      },
      "source": [
        "submission"
      ],
      "execution_count": null,
      "outputs": [
        {
          "data": {
            "text/html": [
              "<div>\n",
              "<style scoped>\n",
              "    .dataframe tbody tr th:only-of-type {\n",
              "        vertical-align: middle;\n",
              "    }\n",
              "\n",
              "    .dataframe tbody tr th {\n",
              "        vertical-align: top;\n",
              "    }\n",
              "\n",
              "    .dataframe thead th {\n",
              "        text-align: right;\n",
              "    }\n",
              "</style>\n",
              "<table border=\"1\" class=\"dataframe\">\n",
              "  <thead>\n",
              "    <tr style=\"text-align: right;\">\n",
              "      <th></th>\n",
              "      <th>time</th>\n",
              "      <th>dangjin_floating</th>\n",
              "      <th>dangjin_warehouse</th>\n",
              "      <th>dangjin</th>\n",
              "      <th>ulsan</th>\n",
              "    </tr>\n",
              "  </thead>\n",
              "  <tbody>\n",
              "    <tr>\n",
              "      <th>0</th>\n",
              "      <td>2021-02-01 01:00:00</td>\n",
              "      <td>0.772095</td>\n",
              "      <td>-0.162957</td>\n",
              "      <td>-1.030323</td>\n",
              "      <td>0.225382</td>\n",
              "    </tr>\n",
              "    <tr>\n",
              "      <th>1</th>\n",
              "      <td>2021-02-01 02:00:00</td>\n",
              "      <td>1.358530</td>\n",
              "      <td>-0.859719</td>\n",
              "      <td>-3.343087</td>\n",
              "      <td>0.394613</td>\n",
              "    </tr>\n",
              "    <tr>\n",
              "      <th>2</th>\n",
              "      <td>2021-02-01 03:00:00</td>\n",
              "      <td>1.163334</td>\n",
              "      <td>-2.927019</td>\n",
              "      <td>-7.431317</td>\n",
              "      <td>0.633824</td>\n",
              "    </tr>\n",
              "    <tr>\n",
              "      <th>3</th>\n",
              "      <td>2021-02-01 04:00:00</td>\n",
              "      <td>-0.558547</td>\n",
              "      <td>-6.900148</td>\n",
              "      <td>-11.184819</td>\n",
              "      <td>1.306655</td>\n",
              "    </tr>\n",
              "    <tr>\n",
              "      <th>4</th>\n",
              "      <td>2021-02-01 05:00:00</td>\n",
              "      <td>-5.397500</td>\n",
              "      <td>-10.482171</td>\n",
              "      <td>-12.712384</td>\n",
              "      <td>3.901035</td>\n",
              "    </tr>\n",
              "    <tr>\n",
              "      <th>...</th>\n",
              "      <td>...</td>\n",
              "      <td>...</td>\n",
              "      <td>...</td>\n",
              "      <td>...</td>\n",
              "      <td>...</td>\n",
              "    </tr>\n",
              "    <tr>\n",
              "      <th>1387</th>\n",
              "      <td>2021-07-08 20:00:00</td>\n",
              "      <td>0.000000</td>\n",
              "      <td>0.000000</td>\n",
              "      <td>0.000000</td>\n",
              "      <td>0.000000</td>\n",
              "    </tr>\n",
              "    <tr>\n",
              "      <th>1388</th>\n",
              "      <td>2021-07-08 21:00:00</td>\n",
              "      <td>0.000000</td>\n",
              "      <td>0.000000</td>\n",
              "      <td>0.000000</td>\n",
              "      <td>0.000000</td>\n",
              "    </tr>\n",
              "    <tr>\n",
              "      <th>1389</th>\n",
              "      <td>2021-07-08 22:00:00</td>\n",
              "      <td>0.000000</td>\n",
              "      <td>0.000000</td>\n",
              "      <td>0.000000</td>\n",
              "      <td>0.000000</td>\n",
              "    </tr>\n",
              "    <tr>\n",
              "      <th>1390</th>\n",
              "      <td>2021-07-08 23:00:00</td>\n",
              "      <td>0.000000</td>\n",
              "      <td>0.000000</td>\n",
              "      <td>0.000000</td>\n",
              "      <td>0.000000</td>\n",
              "    </tr>\n",
              "    <tr>\n",
              "      <th>1391</th>\n",
              "      <td>2021-07-08 24:00:00</td>\n",
              "      <td>0.000000</td>\n",
              "      <td>0.000000</td>\n",
              "      <td>0.000000</td>\n",
              "      <td>0.000000</td>\n",
              "    </tr>\n",
              "  </tbody>\n",
              "</table>\n",
              "<p>1392 rows × 5 columns</p>\n",
              "</div>"
            ],
            "text/plain": [
              "                     time  dangjin_floating  dangjin_warehouse    dangjin  \\\n",
              "0     2021-02-01 01:00:00          0.772095          -0.162957  -1.030323   \n",
              "1     2021-02-01 02:00:00          1.358530          -0.859719  -3.343087   \n",
              "2     2021-02-01 03:00:00          1.163334          -2.927019  -7.431317   \n",
              "3     2021-02-01 04:00:00         -0.558547          -6.900148 -11.184819   \n",
              "4     2021-02-01 05:00:00         -5.397500         -10.482171 -12.712384   \n",
              "...                   ...               ...                ...        ...   \n",
              "1387  2021-07-08 20:00:00          0.000000           0.000000   0.000000   \n",
              "1388  2021-07-08 21:00:00          0.000000           0.000000   0.000000   \n",
              "1389  2021-07-08 22:00:00          0.000000           0.000000   0.000000   \n",
              "1390  2021-07-08 23:00:00          0.000000           0.000000   0.000000   \n",
              "1391  2021-07-08 24:00:00          0.000000           0.000000   0.000000   \n",
              "\n",
              "         ulsan  \n",
              "0     0.225382  \n",
              "1     0.394613  \n",
              "2     0.633824  \n",
              "3     1.306655  \n",
              "4     3.901035  \n",
              "...        ...  \n",
              "1387  0.000000  \n",
              "1388  0.000000  \n",
              "1389  0.000000  \n",
              "1390  0.000000  \n",
              "1391  0.000000  \n",
              "\n",
              "[1392 rows x 5 columns]"
            ]
          },
          "execution_count": 55,
          "metadata": {},
          "output_type": "execute_result"
        }
      ]
    },
    {
      "cell_type": "markdown",
      "metadata": {
        "id": "6HFAlVyv6yR6"
      },
      "source": [
        "## reference\n",
        "\n",
        "[간단한 CNN 모델](https://dacon.io/competitions/official/235720/codeshare/2563?page=1&dtype=recent)    \n",
        "[RNN time-series 예측](http://cedartrees.co.kr/index.php/2020/08/19/rnn-time-series-prediction1/)  "
      ]
    }
  ]
}
