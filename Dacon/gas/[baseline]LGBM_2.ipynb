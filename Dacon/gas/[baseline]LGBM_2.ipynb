{
  "nbformat": 4,
  "nbformat_minor": 0,
  "metadata": {
    "kernelspec": {
      "display_name": "Python 3",
      "language": "python",
      "name": "python3"
    },
    "language_info": {
      "codemirror_mode": {
        "name": "ipython",
        "version": 3
      },
      "file_extension": ".py",
      "mimetype": "text/x-python",
      "name": "python",
      "nbconvert_exporter": "python",
      "pygments_lexer": "ipython3",
      "version": "3.8.3"
    },
    "colab": {
      "name": "[baseline]LGBM_1",
      "provenance": [],
      "collapsed_sections": [
        "9SJoSEm--xzK"
      ]
    }
  },
  "cells": [
    {
      "cell_type": "code",
      "metadata": {
        "colab": {
          "base_uri": "https://localhost:8080/"
        },
        "id": "QwMVcWp9oIEF",
        "outputId": "cd9e41e8-cb23-4f96-a8c9-fc8db1db55db"
      },
      "source": [
        "from google.colab import drive\n",
        "drive.mount('/content/drive')"
      ],
      "execution_count": 4,
      "outputs": [
        {
          "output_type": "stream",
          "name": "stdout",
          "text": [
            "Mounted at /content/drive\n"
          ]
        }
      ]
    },
    {
      "cell_type": "markdown",
      "metadata": {
        "id": "P5_FoH52kveF"
      },
      "source": [
        "# 사용 패키지"
      ]
    },
    {
      "cell_type": "code",
      "metadata": {
        "id": "weuqzzppkveL"
      },
      "source": [
        "import pandas as pd\n",
        "import numpy as np\n",
        "import matplotlib.pyplot as plt\n",
        "import lightgbm as lgb\n",
        "import datetime"
      ],
      "execution_count": 1,
      "outputs": []
    },
    {
      "cell_type": "markdown",
      "metadata": {
        "id": "tRYajrvEkveN"
      },
      "source": [
        "# 데이터 로드"
      ]
    },
    {
      "cell_type": "code",
      "metadata": {
        "id": "ek7moOlHoZr4"
      },
      "source": [
        "path = \"/content/drive/MyDrive/Colab Notebooks/cw_daicon/gas/\""
      ],
      "execution_count": 2,
      "outputs": []
    },
    {
      "cell_type": "code",
      "metadata": {
        "id": "Twg5oUGzkveO"
      },
      "source": [
        "total = pd.read_csv(path+'20181231.csv', encoding='cp949')"
      ],
      "execution_count": 5,
      "outputs": []
    },
    {
      "cell_type": "code",
      "metadata": {
        "colab": {
          "base_uri": "https://localhost:8080/",
          "height": 200
        },
        "id": "nucELmXEkveP",
        "outputId": "49a51797-8c8d-4cd0-9745-e4cd2fba1fd0"
      },
      "source": [
        "total.head()"
      ],
      "execution_count": null,
      "outputs": [
        {
          "output_type": "execute_result",
          "data": {
            "text/html": [
              "<div>\n",
              "<style scoped>\n",
              "    .dataframe tbody tr th:only-of-type {\n",
              "        vertical-align: middle;\n",
              "    }\n",
              "\n",
              "    .dataframe tbody tr th {\n",
              "        vertical-align: top;\n",
              "    }\n",
              "\n",
              "    .dataframe thead th {\n",
              "        text-align: right;\n",
              "    }\n",
              "</style>\n",
              "<table border=\"1\" class=\"dataframe\">\n",
              "  <thead>\n",
              "    <tr style=\"text-align: right;\">\n",
              "      <th></th>\n",
              "      <th>연월일</th>\n",
              "      <th>시간</th>\n",
              "      <th>구분</th>\n",
              "      <th>공급량</th>\n",
              "    </tr>\n",
              "  </thead>\n",
              "  <tbody>\n",
              "    <tr>\n",
              "      <th>0</th>\n",
              "      <td>2013-01-01</td>\n",
              "      <td>1</td>\n",
              "      <td>A</td>\n",
              "      <td>2497.129</td>\n",
              "    </tr>\n",
              "    <tr>\n",
              "      <th>1</th>\n",
              "      <td>2013-01-01</td>\n",
              "      <td>2</td>\n",
              "      <td>A</td>\n",
              "      <td>2363.265</td>\n",
              "    </tr>\n",
              "    <tr>\n",
              "      <th>2</th>\n",
              "      <td>2013-01-01</td>\n",
              "      <td>3</td>\n",
              "      <td>A</td>\n",
              "      <td>2258.505</td>\n",
              "    </tr>\n",
              "    <tr>\n",
              "      <th>3</th>\n",
              "      <td>2013-01-01</td>\n",
              "      <td>4</td>\n",
              "      <td>A</td>\n",
              "      <td>2243.969</td>\n",
              "    </tr>\n",
              "    <tr>\n",
              "      <th>4</th>\n",
              "      <td>2013-01-01</td>\n",
              "      <td>5</td>\n",
              "      <td>A</td>\n",
              "      <td>2344.105</td>\n",
              "    </tr>\n",
              "  </tbody>\n",
              "</table>\n",
              "</div>"
            ],
            "text/plain": [
              "          연월일  시간 구분       공급량\n",
              "0  2013-01-01   1  A  2497.129\n",
              "1  2013-01-01   2  A  2363.265\n",
              "2  2013-01-01   3  A  2258.505\n",
              "3  2013-01-01   4  A  2243.969\n",
              "4  2013-01-01   5  A  2344.105"
            ]
          },
          "metadata": {},
          "execution_count": 5
        }
      ]
    },
    {
      "cell_type": "markdown",
      "metadata": {
        "id": "UG3-VlzkkveQ"
      },
      "source": [
        "# 전처리"
      ]
    },
    {
      "cell_type": "code",
      "metadata": {
        "colab": {
          "base_uri": "https://localhost:8080/"
        },
        "id": "j55ua_WZkveR",
        "outputId": "1d16c489-ce61-4704-86d3-2c910e87205c"
      },
      "source": [
        "total['구분'].unique()"
      ],
      "execution_count": null,
      "outputs": [
        {
          "output_type": "execute_result",
          "data": {
            "text/plain": [
              "array(['A', 'B', 'C', 'D', 'E', 'G', 'H'], dtype=object)"
            ]
          },
          "metadata": {},
          "execution_count": 6
        }
      ]
    },
    {
      "cell_type": "code",
      "metadata": {
        "id": "sUITpwKnkveR"
      },
      "source": [
        "d_map = {}\n",
        "for i, d in enumerate(total['구분'].unique()):\n",
        "    d_map[d] = i\n",
        "total['구분'] = total['구분'].map(d_map)"
      ],
      "execution_count": 6,
      "outputs": []
    },
    {
      "cell_type": "code",
      "metadata": {
        "id": "vahtKkCbkveS"
      },
      "source": [
        "total['연월일'] = pd.to_datetime(total['연월일'])"
      ],
      "execution_count": 7,
      "outputs": []
    },
    {
      "cell_type": "code",
      "metadata": {
        "id": "rVXgRD3_kveT"
      },
      "source": [
        "total['year'] = total['연월일'].dt.year\n",
        "total['month'] = total['연월일'].dt.month\n",
        "total['day'] = total['연월일'].dt.day\n",
        "total['weekday'] = total['연월일'].dt.weekday"
      ],
      "execution_count": 8,
      "outputs": []
    },
    {
      "cell_type": "code",
      "metadata": {
        "colab": {
          "base_uri": "https://localhost:8080/",
          "height": 408
        },
        "id": "X5mrYen2qh0L",
        "outputId": "ddc4ef0f-aa8e-4b84-a112-f37b30e13bb8"
      },
      "source": [
        "total"
      ],
      "execution_count": null,
      "outputs": [
        {
          "output_type": "execute_result",
          "data": {
            "text/html": [
              "<div>\n",
              "<style scoped>\n",
              "    .dataframe tbody tr th:only-of-type {\n",
              "        vertical-align: middle;\n",
              "    }\n",
              "\n",
              "    .dataframe tbody tr th {\n",
              "        vertical-align: top;\n",
              "    }\n",
              "\n",
              "    .dataframe thead th {\n",
              "        text-align: right;\n",
              "    }\n",
              "</style>\n",
              "<table border=\"1\" class=\"dataframe\">\n",
              "  <thead>\n",
              "    <tr style=\"text-align: right;\">\n",
              "      <th></th>\n",
              "      <th>연월일</th>\n",
              "      <th>시간</th>\n",
              "      <th>구분</th>\n",
              "      <th>공급량</th>\n",
              "      <th>year</th>\n",
              "      <th>month</th>\n",
              "      <th>day</th>\n",
              "      <th>weekday</th>\n",
              "    </tr>\n",
              "  </thead>\n",
              "  <tbody>\n",
              "    <tr>\n",
              "      <th>0</th>\n",
              "      <td>2013-01-01</td>\n",
              "      <td>1</td>\n",
              "      <td>0</td>\n",
              "      <td>2497.129</td>\n",
              "      <td>2013</td>\n",
              "      <td>1</td>\n",
              "      <td>1</td>\n",
              "      <td>1</td>\n",
              "    </tr>\n",
              "    <tr>\n",
              "      <th>1</th>\n",
              "      <td>2013-01-01</td>\n",
              "      <td>2</td>\n",
              "      <td>0</td>\n",
              "      <td>2363.265</td>\n",
              "      <td>2013</td>\n",
              "      <td>1</td>\n",
              "      <td>1</td>\n",
              "      <td>1</td>\n",
              "    </tr>\n",
              "    <tr>\n",
              "      <th>2</th>\n",
              "      <td>2013-01-01</td>\n",
              "      <td>3</td>\n",
              "      <td>0</td>\n",
              "      <td>2258.505</td>\n",
              "      <td>2013</td>\n",
              "      <td>1</td>\n",
              "      <td>1</td>\n",
              "      <td>1</td>\n",
              "    </tr>\n",
              "    <tr>\n",
              "      <th>3</th>\n",
              "      <td>2013-01-01</td>\n",
              "      <td>4</td>\n",
              "      <td>0</td>\n",
              "      <td>2243.969</td>\n",
              "      <td>2013</td>\n",
              "      <td>1</td>\n",
              "      <td>1</td>\n",
              "      <td>1</td>\n",
              "    </tr>\n",
              "    <tr>\n",
              "      <th>4</th>\n",
              "      <td>2013-01-01</td>\n",
              "      <td>5</td>\n",
              "      <td>0</td>\n",
              "      <td>2344.105</td>\n",
              "      <td>2013</td>\n",
              "      <td>1</td>\n",
              "      <td>1</td>\n",
              "      <td>1</td>\n",
              "    </tr>\n",
              "    <tr>\n",
              "      <th>...</th>\n",
              "      <td>...</td>\n",
              "      <td>...</td>\n",
              "      <td>...</td>\n",
              "      <td>...</td>\n",
              "      <td>...</td>\n",
              "      <td>...</td>\n",
              "      <td>...</td>\n",
              "      <td>...</td>\n",
              "    </tr>\n",
              "    <tr>\n",
              "      <th>368083</th>\n",
              "      <td>2018-12-31</td>\n",
              "      <td>20</td>\n",
              "      <td>6</td>\n",
              "      <td>681.033</td>\n",
              "      <td>2018</td>\n",
              "      <td>12</td>\n",
              "      <td>31</td>\n",
              "      <td>0</td>\n",
              "    </tr>\n",
              "    <tr>\n",
              "      <th>368084</th>\n",
              "      <td>2018-12-31</td>\n",
              "      <td>21</td>\n",
              "      <td>6</td>\n",
              "      <td>669.961</td>\n",
              "      <td>2018</td>\n",
              "      <td>12</td>\n",
              "      <td>31</td>\n",
              "      <td>0</td>\n",
              "    </tr>\n",
              "    <tr>\n",
              "      <th>368085</th>\n",
              "      <td>2018-12-31</td>\n",
              "      <td>22</td>\n",
              "      <td>6</td>\n",
              "      <td>657.941</td>\n",
              "      <td>2018</td>\n",
              "      <td>12</td>\n",
              "      <td>31</td>\n",
              "      <td>0</td>\n",
              "    </tr>\n",
              "    <tr>\n",
              "      <th>368086</th>\n",
              "      <td>2018-12-31</td>\n",
              "      <td>23</td>\n",
              "      <td>6</td>\n",
              "      <td>610.953</td>\n",
              "      <td>2018</td>\n",
              "      <td>12</td>\n",
              "      <td>31</td>\n",
              "      <td>0</td>\n",
              "    </tr>\n",
              "    <tr>\n",
              "      <th>368087</th>\n",
              "      <td>2018-12-31</td>\n",
              "      <td>24</td>\n",
              "      <td>6</td>\n",
              "      <td>560.896</td>\n",
              "      <td>2018</td>\n",
              "      <td>12</td>\n",
              "      <td>31</td>\n",
              "      <td>0</td>\n",
              "    </tr>\n",
              "  </tbody>\n",
              "</table>\n",
              "<p>368088 rows × 8 columns</p>\n",
              "</div>"
            ],
            "text/plain": [
              "              연월일  시간  구분       공급량  year  month  day  weekday\n",
              "0      2013-01-01   1   0  2497.129  2013      1    1        1\n",
              "1      2013-01-01   2   0  2363.265  2013      1    1        1\n",
              "2      2013-01-01   3   0  2258.505  2013      1    1        1\n",
              "3      2013-01-01   4   0  2243.969  2013      1    1        1\n",
              "4      2013-01-01   5   0  2344.105  2013      1    1        1\n",
              "...           ...  ..  ..       ...   ...    ...  ...      ...\n",
              "368083 2018-12-31  20   6   681.033  2018     12   31        0\n",
              "368084 2018-12-31  21   6   669.961  2018     12   31        0\n",
              "368085 2018-12-31  22   6   657.941  2018     12   31        0\n",
              "368086 2018-12-31  23   6   610.953  2018     12   31        0\n",
              "368087 2018-12-31  24   6   560.896  2018     12   31        0\n",
              "\n",
              "[368088 rows x 8 columns]"
            ]
          },
          "metadata": {},
          "execution_count": 10
        }
      ]
    },
    {
      "cell_type": "markdown",
      "metadata": {
        "id": "9SJoSEm--xzK"
      },
      "source": [
        "## Feature Engineering"
      ]
    },
    {
      "cell_type": "code",
      "metadata": {
        "colab": {
          "base_uri": "https://localhost:8080/",
          "height": 408
        },
        "id": "q2TPL-dB-xIV",
        "outputId": "c9a0248e-de92-4d3f-bbd1-516412636ad7"
      },
      "source": [
        "# # 전년도 가스 공급량 feature 추가\n",
        "# def last_year(x) :\n",
        "#     alp = x['구분']\n",
        "#     day = x['연월일']\n",
        "#     return day-datetime.timedelta(days=1)\n",
        "\n",
        "# total['last_y'] = total.apply(last_year, axis=1)\n",
        "# total"
      ],
      "execution_count": null,
      "outputs": [
        {
          "output_type": "execute_result",
          "data": {
            "text/html": [
              "<div>\n",
              "<style scoped>\n",
              "    .dataframe tbody tr th:only-of-type {\n",
              "        vertical-align: middle;\n",
              "    }\n",
              "\n",
              "    .dataframe tbody tr th {\n",
              "        vertical-align: top;\n",
              "    }\n",
              "\n",
              "    .dataframe thead th {\n",
              "        text-align: right;\n",
              "    }\n",
              "</style>\n",
              "<table border=\"1\" class=\"dataframe\">\n",
              "  <thead>\n",
              "    <tr style=\"text-align: right;\">\n",
              "      <th></th>\n",
              "      <th>연월일</th>\n",
              "      <th>시간</th>\n",
              "      <th>구분</th>\n",
              "      <th>공급량</th>\n",
              "      <th>year</th>\n",
              "      <th>month</th>\n",
              "      <th>day</th>\n",
              "      <th>weekday</th>\n",
              "      <th>last_y</th>\n",
              "    </tr>\n",
              "  </thead>\n",
              "  <tbody>\n",
              "    <tr>\n",
              "      <th>0</th>\n",
              "      <td>2013-01-01</td>\n",
              "      <td>1</td>\n",
              "      <td>0</td>\n",
              "      <td>2497.129</td>\n",
              "      <td>2013</td>\n",
              "      <td>1</td>\n",
              "      <td>1</td>\n",
              "      <td>1</td>\n",
              "      <td>2012-12-31</td>\n",
              "    </tr>\n",
              "    <tr>\n",
              "      <th>1</th>\n",
              "      <td>2013-01-01</td>\n",
              "      <td>2</td>\n",
              "      <td>0</td>\n",
              "      <td>2363.265</td>\n",
              "      <td>2013</td>\n",
              "      <td>1</td>\n",
              "      <td>1</td>\n",
              "      <td>1</td>\n",
              "      <td>2012-12-31</td>\n",
              "    </tr>\n",
              "    <tr>\n",
              "      <th>2</th>\n",
              "      <td>2013-01-01</td>\n",
              "      <td>3</td>\n",
              "      <td>0</td>\n",
              "      <td>2258.505</td>\n",
              "      <td>2013</td>\n",
              "      <td>1</td>\n",
              "      <td>1</td>\n",
              "      <td>1</td>\n",
              "      <td>2012-12-31</td>\n",
              "    </tr>\n",
              "    <tr>\n",
              "      <th>3</th>\n",
              "      <td>2013-01-01</td>\n",
              "      <td>4</td>\n",
              "      <td>0</td>\n",
              "      <td>2243.969</td>\n",
              "      <td>2013</td>\n",
              "      <td>1</td>\n",
              "      <td>1</td>\n",
              "      <td>1</td>\n",
              "      <td>2012-12-31</td>\n",
              "    </tr>\n",
              "    <tr>\n",
              "      <th>4</th>\n",
              "      <td>2013-01-01</td>\n",
              "      <td>5</td>\n",
              "      <td>0</td>\n",
              "      <td>2344.105</td>\n",
              "      <td>2013</td>\n",
              "      <td>1</td>\n",
              "      <td>1</td>\n",
              "      <td>1</td>\n",
              "      <td>2012-12-31</td>\n",
              "    </tr>\n",
              "    <tr>\n",
              "      <th>...</th>\n",
              "      <td>...</td>\n",
              "      <td>...</td>\n",
              "      <td>...</td>\n",
              "      <td>...</td>\n",
              "      <td>...</td>\n",
              "      <td>...</td>\n",
              "      <td>...</td>\n",
              "      <td>...</td>\n",
              "      <td>...</td>\n",
              "    </tr>\n",
              "    <tr>\n",
              "      <th>368083</th>\n",
              "      <td>2018-12-31</td>\n",
              "      <td>20</td>\n",
              "      <td>6</td>\n",
              "      <td>681.033</td>\n",
              "      <td>2018</td>\n",
              "      <td>12</td>\n",
              "      <td>31</td>\n",
              "      <td>0</td>\n",
              "      <td>2018-12-30</td>\n",
              "    </tr>\n",
              "    <tr>\n",
              "      <th>368084</th>\n",
              "      <td>2018-12-31</td>\n",
              "      <td>21</td>\n",
              "      <td>6</td>\n",
              "      <td>669.961</td>\n",
              "      <td>2018</td>\n",
              "      <td>12</td>\n",
              "      <td>31</td>\n",
              "      <td>0</td>\n",
              "      <td>2018-12-30</td>\n",
              "    </tr>\n",
              "    <tr>\n",
              "      <th>368085</th>\n",
              "      <td>2018-12-31</td>\n",
              "      <td>22</td>\n",
              "      <td>6</td>\n",
              "      <td>657.941</td>\n",
              "      <td>2018</td>\n",
              "      <td>12</td>\n",
              "      <td>31</td>\n",
              "      <td>0</td>\n",
              "      <td>2018-12-30</td>\n",
              "    </tr>\n",
              "    <tr>\n",
              "      <th>368086</th>\n",
              "      <td>2018-12-31</td>\n",
              "      <td>23</td>\n",
              "      <td>6</td>\n",
              "      <td>610.953</td>\n",
              "      <td>2018</td>\n",
              "      <td>12</td>\n",
              "      <td>31</td>\n",
              "      <td>0</td>\n",
              "      <td>2018-12-30</td>\n",
              "    </tr>\n",
              "    <tr>\n",
              "      <th>368087</th>\n",
              "      <td>2018-12-31</td>\n",
              "      <td>24</td>\n",
              "      <td>6</td>\n",
              "      <td>560.896</td>\n",
              "      <td>2018</td>\n",
              "      <td>12</td>\n",
              "      <td>31</td>\n",
              "      <td>0</td>\n",
              "      <td>2018-12-30</td>\n",
              "    </tr>\n",
              "  </tbody>\n",
              "</table>\n",
              "<p>368088 rows × 9 columns</p>\n",
              "</div>"
            ],
            "text/plain": [
              "              연월일  시간  구분       공급량  year  month  day  weekday     last_y\n",
              "0      2013-01-01   1   0  2497.129  2013      1    1        1 2012-12-31\n",
              "1      2013-01-01   2   0  2363.265  2013      1    1        1 2012-12-31\n",
              "2      2013-01-01   3   0  2258.505  2013      1    1        1 2012-12-31\n",
              "3      2013-01-01   4   0  2243.969  2013      1    1        1 2012-12-31\n",
              "4      2013-01-01   5   0  2344.105  2013      1    1        1 2012-12-31\n",
              "...           ...  ..  ..       ...   ...    ...  ...      ...        ...\n",
              "368083 2018-12-31  20   6   681.033  2018     12   31        0 2018-12-30\n",
              "368084 2018-12-31  21   6   669.961  2018     12   31        0 2018-12-30\n",
              "368085 2018-12-31  22   6   657.941  2018     12   31        0 2018-12-30\n",
              "368086 2018-12-31  23   6   610.953  2018     12   31        0 2018-12-30\n",
              "368087 2018-12-31  24   6   560.896  2018     12   31        0 2018-12-30\n",
              "\n",
              "[368088 rows x 9 columns]"
            ]
          },
          "metadata": {},
          "execution_count": 10
        }
      ]
    },
    {
      "cell_type": "code",
      "metadata": {
        "id": "zG2DjZeIRRdX"
      },
      "source": [
        "# def last_gas(x):\n",
        "#     if str(x['last_y'])[:4] == '2012':\n",
        "#         return -1\n",
        "#     day = x['last_y']\n",
        "    \n",
        "#     gas = x[x['연월일'] == day]['공급량']\n",
        "#     return gas\n",
        "\n",
        "# total['last_gas'] =  total.apply(lambda, axis=1)\n",
        "# total"
      ],
      "execution_count": null,
      "outputs": []
    },
    {
      "cell_type": "code",
      "metadata": {
        "id": "fko8I06lYNpZ"
      },
      "source": [
        "# tt = total.copy()"
      ],
      "execution_count": null,
      "outputs": []
    },
    {
      "cell_type": "code",
      "metadata": {
        "id": "jeAZBOIiXg4t"
      },
      "source": [
        "# tt['last_gas'] = tt.groupby('구분')['공급량'].shift(8760)\n",
        "# tt"
      ],
      "execution_count": null,
      "outputs": []
    },
    {
      "cell_type": "code",
      "metadata": {
        "id": "w2hP1vnzYZyV"
      },
      "source": [
        "# tt[tt['구분'] == 1]"
      ],
      "execution_count": null,
      "outputs": []
    },
    {
      "cell_type": "code",
      "metadata": {
        "id": "o0IRe_9qYZvJ"
      },
      "source": [
        "# tt[tt['구분'] == 1][:1]"
      ],
      "execution_count": null,
      "outputs": []
    },
    {
      "cell_type": "code",
      "metadata": {
        "id": "IpL91-1NYZsq"
      },
      "source": [
        "# tt[tt['구분'] == 1][8760:8761]\n",
        "# tt[tt['구분'] == 1][17520:17521]\n",
        "# tt[tt['구분'] == 1][26280:26281]\n",
        "# tt[tt['구분'] == 1][35040:35041]\n",
        "# tt[tt['구분'] == 1][43801:43801]"
      ],
      "execution_count": null,
      "outputs": []
    },
    {
      "cell_type": "code",
      "metadata": {
        "id": "aYiRY6dIYZqI"
      },
      "source": [
        "# total = total.drop('last_y',axis=1)\n",
        "# total"
      ],
      "execution_count": null,
      "outputs": []
    },
    {
      "cell_type": "code",
      "metadata": {
        "id": "Dp6_s4YqRRQD"
      },
      "source": [
        "# total['last_gas'] = total.groupby('구분')['공급량'].shift(8760)\n",
        "# total"
      ],
      "execution_count": null,
      "outputs": []
    },
    {
      "cell_type": "code",
      "metadata": {
        "id": "5wQpqfNfV864"
      },
      "source": [
        "# # total[total['last_gas']==0]   # 0인 경우 없음\n",
        "# total['last_gas'] = total['last_gas'].fillna(0)"
      ],
      "execution_count": 12,
      "outputs": []
    },
    {
      "cell_type": "code",
      "metadata": {
        "colab": {
          "base_uri": "https://localhost:8080/"
        },
        "id": "1FCYWqrDTV7g",
        "outputId": "af303546-5f51-4d5d-d59b-e399cdb668d5"
      },
      "source": [
        "last_gas = total['last_gas'].values\n",
        "gas = total['공급량'].values\n",
        "cate = total['구분'].values\n",
        "last_gas, gas, cate"
      ],
      "execution_count": 13,
      "outputs": [
        {
          "output_type": "execute_result",
          "data": {
            "text/plain": [
              "(array([  0.   ,   0.   ,   0.   , ..., 506.287, 470.638, 444.618]),\n",
              " array([2497.129, 2363.265, 2258.505, ...,  657.941,  610.953,  560.896]),\n",
              " array([0, 0, 0, ..., 6, 6, 6]))"
            ]
          },
          "metadata": {},
          "execution_count": 13
        }
      ]
    },
    {
      "cell_type": "code",
      "metadata": {
        "colab": {
          "base_uri": "https://localhost:8080/"
        },
        "id": "62p_MLhJbvNL",
        "outputId": "7a8e97cb-cb1d-4941-9967-d35a5f9b44bf"
      },
      "source": [
        "len(last_gas)\n"
      ],
      "execution_count": 28,
      "outputs": [
        {
          "output_type": "execute_result",
          "data": {
            "text/plain": [
              "368088"
            ]
          },
          "metadata": {},
          "execution_count": 28
        }
      ]
    },
    {
      "cell_type": "code",
      "metadata": {
        "colab": {
          "base_uri": "https://localhost:8080/"
        },
        "id": "G8h5Y9F3eyOl",
        "outputId": "d8daccf9-e496-47ac-9c10-3752c873bb14"
      },
      "source": [
        "last_gas[6], last_gas[61320]"
      ],
      "execution_count": 21,
      "outputs": [
        {
          "output_type": "execute_result",
          "data": {
            "text/plain": [
              "(0.0, 2497.129)"
            ]
          },
          "metadata": {},
          "execution_count": 21
        }
      ]
    },
    {
      "cell_type": "code",
      "metadata": {
        "id": "afYWlb86WdQ8",
        "colab": {
          "base_uri": "https://localhost:8080/"
        },
        "outputId": "97408c8b-4eb5-42eb-8caa-1bee8e6c5b24"
      },
      "source": [
        "gas_cumsum = []\n",
        "gas_cumcnt = []\n",
        "for i in range(len(last_gas)):  #\n",
        "    if last_gas[i] == 0.0 :\n",
        "        gas_cumsum.append(gas[i])\n",
        "        gas_cumcnt.append(1)\n",
        "    elif last_gas[i] != 0.0 and cate[i]==cate[i-61320]:\n",
        "        sum = gas_cumsum[i-61320] + gas[i]\n",
        "        cnt = gas_cumsum[i-61320] + 1\n",
        "        gas_cumsum.append(sum)\n",
        "        gas_cumcnt.append(cnt)\n",
        "gas[0],gas[61320], gas[61320*2]"
      ],
      "execution_count": 25,
      "outputs": [
        {
          "output_type": "execute_result",
          "data": {
            "text/plain": [
              "(2497.129, 1677.257, 2228.705)"
            ]
          },
          "metadata": {},
          "execution_count": 25
        }
      ]
    },
    {
      "cell_type": "code",
      "metadata": {
        "colab": {
          "base_uri": "https://localhost:8080/"
        },
        "id": "U91qK5ssZiVy",
        "outputId": "72be0ccf-4ce6-409c-ea2d-7591139b68f3"
      },
      "source": [
        "gas_cumsum[0],gas_cumsum[61320], gas_cumsum[61320*2]"
      ],
      "execution_count": 27,
      "outputs": [
        {
          "output_type": "execute_result",
          "data": {
            "text/plain": [
              "(2497.129, 4174.386, 6403.091)"
            ]
          },
          "metadata": {},
          "execution_count": 27
        }
      ]
    },
    {
      "cell_type": "code",
      "metadata": {
        "colab": {
          "base_uri": "https://localhost:8080/"
        },
        "id": "Euby_yFfbnQN",
        "outputId": "10c278e3-a9a6-4d64-9fa9-45f9b9639fe3"
      },
      "source": [
        "len(gas_cumsum)"
      ],
      "execution_count": 31,
      "outputs": [
        {
          "output_type": "execute_result",
          "data": {
            "text/plain": [
              "366912"
            ]
          },
          "metadata": {},
          "execution_count": 31
        }
      ]
    },
    {
      "cell_type": "code",
      "metadata": {
        "colab": {
          "base_uri": "https://localhost:8080/",
          "height": 172
        },
        "id": "SMZK50_dbT1l",
        "outputId": "f1cead93-c76c-4784-9b9f-cedc9c372e3f"
      },
      "source": [
        "gas_cumsum[368086]"
      ],
      "execution_count": 30,
      "outputs": [
        {
          "output_type": "error",
          "ename": "IndexError",
          "evalue": "ignored",
          "traceback": [
            "\u001b[0;31m---------------------------------------------------------------------------\u001b[0m",
            "\u001b[0;31mIndexError\u001b[0m                                Traceback (most recent call last)",
            "\u001b[0;32m<ipython-input-30-78e0f34c3b1d>\u001b[0m in \u001b[0;36m<module>\u001b[0;34m()\u001b[0m\n\u001b[0;32m----> 1\u001b[0;31m \u001b[0mgas_cumsum\u001b[0m\u001b[0;34m[\u001b[0m\u001b[0;36m368086\u001b[0m\u001b[0;34m]\u001b[0m\u001b[0;34m\u001b[0m\u001b[0;34m\u001b[0m\u001b[0m\n\u001b[0m",
            "\u001b[0;31mIndexError\u001b[0m: list index out of range"
          ]
        }
      ]
    },
    {
      "cell_type": "code",
      "metadata": {
        "id": "4BY3LF1DRQCK"
      },
      "source": [
        ""
      ],
      "execution_count": 70,
      "outputs": []
    },
    {
      "cell_type": "markdown",
      "metadata": {
        "id": "_Y9WK_JJr6iF"
      },
      "source": [
        "## FE : cum mean"
      ]
    },
    {
      "cell_type": "code",
      "metadata": {
        "id": "B-HwAqvCsCDb"
      },
      "source": [
        "total_origin = total.copy()"
      ],
      "execution_count": 9,
      "outputs": []
    },
    {
      "cell_type": "code",
      "metadata": {
        "id": "9TLC2ThaRP-s"
      },
      "source": [
        "total['last_gas'] = total.groupby(['구분','month','day','시간'])['공급량'].transform(lambda x: x.shift(1))"
      ],
      "execution_count": 10,
      "outputs": []
    },
    {
      "cell_type": "code",
      "metadata": {
        "id": "FH-eJ6eqgYOX"
      },
      "source": [
        "total['gas_cumsum'] = total.groupby(['구분','month','day','시간'])['공급량'].transform(lambda x: x.cumsum().shift(1))"
      ],
      "execution_count": 11,
      "outputs": []
    },
    {
      "cell_type": "code",
      "metadata": {
        "id": "pXpk6uE8g9bY"
      },
      "source": [
        "total['gas_cumcnt'] = total.groupby(['구분','month','day','시간'])['공급량'].cumcount()"
      ],
      "execution_count": 12,
      "outputs": []
    },
    {
      "cell_type": "code",
      "metadata": {
        "colab": {
          "base_uri": "https://localhost:8080/",
          "height": 326
        },
        "id": "BYj2tp5_fpIV",
        "outputId": "05a55f5b-141c-4f47-a776-4ca31cd5c68d"
      },
      "source": [
        "total.head()"
      ],
      "execution_count": 71,
      "outputs": [
        {
          "output_type": "execute_result",
          "data": {
            "text/html": [
              "<div>\n",
              "<style scoped>\n",
              "    .dataframe tbody tr th:only-of-type {\n",
              "        vertical-align: middle;\n",
              "    }\n",
              "\n",
              "    .dataframe tbody tr th {\n",
              "        vertical-align: top;\n",
              "    }\n",
              "\n",
              "    .dataframe thead th {\n",
              "        text-align: right;\n",
              "    }\n",
              "</style>\n",
              "<table border=\"1\" class=\"dataframe\">\n",
              "  <thead>\n",
              "    <tr style=\"text-align: right;\">\n",
              "      <th></th>\n",
              "      <th>연월일</th>\n",
              "      <th>시간</th>\n",
              "      <th>구분</th>\n",
              "      <th>공급량</th>\n",
              "      <th>year</th>\n",
              "      <th>month</th>\n",
              "      <th>day</th>\n",
              "      <th>weekday</th>\n",
              "      <th>last_gas</th>\n",
              "      <th>gas_cumsum</th>\n",
              "      <th>gas_cumcnt</th>\n",
              "      <th>gas_cummean</th>\n",
              "    </tr>\n",
              "  </thead>\n",
              "  <tbody>\n",
              "    <tr>\n",
              "      <th>0</th>\n",
              "      <td>2013-01-01</td>\n",
              "      <td>1</td>\n",
              "      <td>0</td>\n",
              "      <td>2497.129</td>\n",
              "      <td>2013</td>\n",
              "      <td>1</td>\n",
              "      <td>1</td>\n",
              "      <td>1</td>\n",
              "      <td>NaN</td>\n",
              "      <td>2497.129</td>\n",
              "      <td>1</td>\n",
              "      <td>2497.129</td>\n",
              "    </tr>\n",
              "    <tr>\n",
              "      <th>1</th>\n",
              "      <td>2013-01-01</td>\n",
              "      <td>2</td>\n",
              "      <td>0</td>\n",
              "      <td>2363.265</td>\n",
              "      <td>2013</td>\n",
              "      <td>1</td>\n",
              "      <td>1</td>\n",
              "      <td>1</td>\n",
              "      <td>NaN</td>\n",
              "      <td>2363.265</td>\n",
              "      <td>1</td>\n",
              "      <td>2363.265</td>\n",
              "    </tr>\n",
              "    <tr>\n",
              "      <th>2</th>\n",
              "      <td>2013-01-01</td>\n",
              "      <td>3</td>\n",
              "      <td>0</td>\n",
              "      <td>2258.505</td>\n",
              "      <td>2013</td>\n",
              "      <td>1</td>\n",
              "      <td>1</td>\n",
              "      <td>1</td>\n",
              "      <td>NaN</td>\n",
              "      <td>2258.505</td>\n",
              "      <td>1</td>\n",
              "      <td>2258.505</td>\n",
              "    </tr>\n",
              "    <tr>\n",
              "      <th>3</th>\n",
              "      <td>2013-01-01</td>\n",
              "      <td>4</td>\n",
              "      <td>0</td>\n",
              "      <td>2243.969</td>\n",
              "      <td>2013</td>\n",
              "      <td>1</td>\n",
              "      <td>1</td>\n",
              "      <td>1</td>\n",
              "      <td>NaN</td>\n",
              "      <td>2243.969</td>\n",
              "      <td>1</td>\n",
              "      <td>2243.969</td>\n",
              "    </tr>\n",
              "    <tr>\n",
              "      <th>4</th>\n",
              "      <td>2013-01-01</td>\n",
              "      <td>5</td>\n",
              "      <td>0</td>\n",
              "      <td>2344.105</td>\n",
              "      <td>2013</td>\n",
              "      <td>1</td>\n",
              "      <td>1</td>\n",
              "      <td>1</td>\n",
              "      <td>NaN</td>\n",
              "      <td>2344.105</td>\n",
              "      <td>1</td>\n",
              "      <td>2344.105</td>\n",
              "    </tr>\n",
              "  </tbody>\n",
              "</table>\n",
              "</div>"
            ],
            "text/plain": [
              "         연월일  시간  구분       공급량  ...  last_gas  gas_cumsum  gas_cumcnt  gas_cummean\n",
              "0 2013-01-01   1   0  2497.129  ...       NaN    2497.129           1     2497.129\n",
              "1 2013-01-01   2   0  2363.265  ...       NaN    2363.265           1     2363.265\n",
              "2 2013-01-01   3   0  2258.505  ...       NaN    2258.505           1     2258.505\n",
              "3 2013-01-01   4   0  2243.969  ...       NaN    2243.969           1     2243.969\n",
              "4 2013-01-01   5   0  2344.105  ...       NaN    2344.105           1     2344.105\n",
              "\n",
              "[5 rows x 12 columns]"
            ]
          },
          "metadata": {},
          "execution_count": 71
        }
      ]
    },
    {
      "cell_type": "code",
      "metadata": {
        "id": "2RTxlblKZ2fD"
      },
      "source": [
        "def cum_mean(x) :\n",
        "    if x['gas_cumcnt'] == 0 :\n",
        "        return x['gas_cumsum']\n",
        "    else :\n",
        "        mean = x['gas_cumsum']/x['gas_cumcnt']\n",
        "        return round(mean,3)\n",
        "\n",
        "total['gas_cummean'] = total.apply(cum_mean, axis=1)"
      ],
      "execution_count": 14,
      "outputs": []
    },
    {
      "cell_type": "code",
      "metadata": {
        "id": "M92YCkv3ZbMU",
        "colab": {
          "base_uri": "https://localhost:8080/",
          "height": 374
        },
        "outputId": "036e162a-ce40-4cd4-a449-f8ceb6131839"
      },
      "source": [
        "# pd.set_option('display.max_rows', None)\n",
        "total[(total['시간']==2) & (total['구분']== 0) & (total['month']==2) & (total['day']==1)]"
      ],
      "execution_count": 15,
      "outputs": [
        {
          "output_type": "execute_result",
          "data": {
            "text/html": [
              "<div>\n",
              "<style scoped>\n",
              "    .dataframe tbody tr th:only-of-type {\n",
              "        vertical-align: middle;\n",
              "    }\n",
              "\n",
              "    .dataframe tbody tr th {\n",
              "        vertical-align: top;\n",
              "    }\n",
              "\n",
              "    .dataframe thead th {\n",
              "        text-align: right;\n",
              "    }\n",
              "</style>\n",
              "<table border=\"1\" class=\"dataframe\">\n",
              "  <thead>\n",
              "    <tr style=\"text-align: right;\">\n",
              "      <th></th>\n",
              "      <th>연월일</th>\n",
              "      <th>시간</th>\n",
              "      <th>구분</th>\n",
              "      <th>공급량</th>\n",
              "      <th>year</th>\n",
              "      <th>month</th>\n",
              "      <th>day</th>\n",
              "      <th>weekday</th>\n",
              "      <th>last_gas</th>\n",
              "      <th>gas_cumsum</th>\n",
              "      <th>gas_cumcnt</th>\n",
              "      <th>gas_cummean</th>\n",
              "    </tr>\n",
              "  </thead>\n",
              "  <tbody>\n",
              "    <tr>\n",
              "      <th>745</th>\n",
              "      <td>2013-02-01</td>\n",
              "      <td>2</td>\n",
              "      <td>0</td>\n",
              "      <td>1377.905</td>\n",
              "      <td>2013</td>\n",
              "      <td>2</td>\n",
              "      <td>1</td>\n",
              "      <td>4</td>\n",
              "      <td>NaN</td>\n",
              "      <td>NaN</td>\n",
              "      <td>0</td>\n",
              "      <td>NaN</td>\n",
              "    </tr>\n",
              "    <tr>\n",
              "      <th>62065</th>\n",
              "      <td>2014-02-01</td>\n",
              "      <td>2</td>\n",
              "      <td>0</td>\n",
              "      <td>1315.257</td>\n",
              "      <td>2014</td>\n",
              "      <td>2</td>\n",
              "      <td>1</td>\n",
              "      <td>5</td>\n",
              "      <td>1377.905</td>\n",
              "      <td>1377.905</td>\n",
              "      <td>1</td>\n",
              "      <td>1377.905</td>\n",
              "    </tr>\n",
              "    <tr>\n",
              "      <th>123385</th>\n",
              "      <td>2015-02-01</td>\n",
              "      <td>2</td>\n",
              "      <td>0</td>\n",
              "      <td>1729.313</td>\n",
              "      <td>2015</td>\n",
              "      <td>2</td>\n",
              "      <td>1</td>\n",
              "      <td>6</td>\n",
              "      <td>1315.257</td>\n",
              "      <td>2693.162</td>\n",
              "      <td>2</td>\n",
              "      <td>1346.581</td>\n",
              "    </tr>\n",
              "    <tr>\n",
              "      <th>184705</th>\n",
              "      <td>2016-02-01</td>\n",
              "      <td>2</td>\n",
              "      <td>0</td>\n",
              "      <td>1719.409</td>\n",
              "      <td>2016</td>\n",
              "      <td>2</td>\n",
              "      <td>1</td>\n",
              "      <td>0</td>\n",
              "      <td>1729.313</td>\n",
              "      <td>4422.475</td>\n",
              "      <td>3</td>\n",
              "      <td>1474.158</td>\n",
              "    </tr>\n",
              "    <tr>\n",
              "      <th>246193</th>\n",
              "      <td>2017-02-01</td>\n",
              "      <td>2</td>\n",
              "      <td>0</td>\n",
              "      <td>1936.561</td>\n",
              "      <td>2017</td>\n",
              "      <td>2</td>\n",
              "      <td>1</td>\n",
              "      <td>2</td>\n",
              "      <td>1719.409</td>\n",
              "      <td>6141.884</td>\n",
              "      <td>4</td>\n",
              "      <td>1535.471</td>\n",
              "    </tr>\n",
              "    <tr>\n",
              "      <th>307513</th>\n",
              "      <td>2018-02-01</td>\n",
              "      <td>2</td>\n",
              "      <td>0</td>\n",
              "      <td>2119.548</td>\n",
              "      <td>2018</td>\n",
              "      <td>2</td>\n",
              "      <td>1</td>\n",
              "      <td>3</td>\n",
              "      <td>1936.561</td>\n",
              "      <td>8078.445</td>\n",
              "      <td>5</td>\n",
              "      <td>1615.689</td>\n",
              "    </tr>\n",
              "  </tbody>\n",
              "</table>\n",
              "</div>"
            ],
            "text/plain": [
              "              연월일  시간  구분  ...  gas_cumsum  gas_cumcnt  gas_cummean\n",
              "745    2013-02-01   2   0  ...         NaN           0          NaN\n",
              "62065  2014-02-01   2   0  ...    1377.905           1     1377.905\n",
              "123385 2015-02-01   2   0  ...    2693.162           2     1346.581\n",
              "184705 2016-02-01   2   0  ...    4422.475           3     1474.158\n",
              "246193 2017-02-01   2   0  ...    6141.884           4     1535.471\n",
              "307513 2018-02-01   2   0  ...    8078.445           5     1615.689\n",
              "\n",
              "[6 rows x 12 columns]"
            ]
          },
          "metadata": {},
          "execution_count": 15
        }
      ]
    },
    {
      "cell_type": "code",
      "metadata": {
        "id": "O4MoiYkWi7uZ"
      },
      "source": [
        ""
      ],
      "execution_count": null,
      "outputs": []
    },
    {
      "cell_type": "code",
      "metadata": {
        "id": "EM2fvDiGi7p9"
      },
      "source": [
        ""
      ],
      "execution_count": null,
      "outputs": []
    },
    {
      "cell_type": "code",
      "metadata": {
        "id": "VNF1a4N9kveU"
      },
      "source": [
        "train_years = [2014,2015,2016,2017]  #2013은 2012년도가 없어서 예외\n",
        "val_years = [2018]"
      ],
      "execution_count": 16,
      "outputs": []
    },
    {
      "cell_type": "code",
      "metadata": {
        "id": "KeIMaa1VkveU"
      },
      "source": [
        "train = total[total['year'].isin(train_years)]\n",
        "val = total[total['year'].isin(val_years)]"
      ],
      "execution_count": 17,
      "outputs": []
    },
    {
      "cell_type": "code",
      "metadata": {
        "id": "XsOdGqFikveU"
      },
      "source": [
        "features = ['구분', 'month', 'day', 'weekday', '시간','last_gas', 'gas_cummean']\n",
        "train_x = train[features]\n",
        "train_y = train['공급량']\n",
        "\n",
        "val_x = val[features]\n",
        "val_y = val['공급량']"
      ],
      "execution_count": 18,
      "outputs": []
    },
    {
      "cell_type": "code",
      "metadata": {
        "colab": {
          "base_uri": "https://localhost:8080/",
          "height": 419
        },
        "id": "aMZNLd9g_H43",
        "outputId": "4c3b88af-e90d-43be-e5fc-b1bb666fa38d"
      },
      "source": [
        "train_x"
      ],
      "execution_count": 19,
      "outputs": [
        {
          "output_type": "execute_result",
          "data": {
            "text/html": [
              "<div>\n",
              "<style scoped>\n",
              "    .dataframe tbody tr th:only-of-type {\n",
              "        vertical-align: middle;\n",
              "    }\n",
              "\n",
              "    .dataframe tbody tr th {\n",
              "        vertical-align: top;\n",
              "    }\n",
              "\n",
              "    .dataframe thead th {\n",
              "        text-align: right;\n",
              "    }\n",
              "</style>\n",
              "<table border=\"1\" class=\"dataframe\">\n",
              "  <thead>\n",
              "    <tr style=\"text-align: right;\">\n",
              "      <th></th>\n",
              "      <th>구분</th>\n",
              "      <th>month</th>\n",
              "      <th>day</th>\n",
              "      <th>weekday</th>\n",
              "      <th>시간</th>\n",
              "      <th>last_gas</th>\n",
              "      <th>gas_cummean</th>\n",
              "    </tr>\n",
              "  </thead>\n",
              "  <tbody>\n",
              "    <tr>\n",
              "      <th>61320</th>\n",
              "      <td>0</td>\n",
              "      <td>1</td>\n",
              "      <td>1</td>\n",
              "      <td>2</td>\n",
              "      <td>1</td>\n",
              "      <td>2497.129</td>\n",
              "      <td>2497.129</td>\n",
              "    </tr>\n",
              "    <tr>\n",
              "      <th>61321</th>\n",
              "      <td>0</td>\n",
              "      <td>1</td>\n",
              "      <td>1</td>\n",
              "      <td>2</td>\n",
              "      <td>2</td>\n",
              "      <td>2363.265</td>\n",
              "      <td>2363.265</td>\n",
              "    </tr>\n",
              "    <tr>\n",
              "      <th>61322</th>\n",
              "      <td>0</td>\n",
              "      <td>1</td>\n",
              "      <td>1</td>\n",
              "      <td>2</td>\n",
              "      <td>3</td>\n",
              "      <td>2258.505</td>\n",
              "      <td>2258.505</td>\n",
              "    </tr>\n",
              "    <tr>\n",
              "      <th>61323</th>\n",
              "      <td>0</td>\n",
              "      <td>1</td>\n",
              "      <td>1</td>\n",
              "      <td>2</td>\n",
              "      <td>4</td>\n",
              "      <td>2243.969</td>\n",
              "      <td>2243.969</td>\n",
              "    </tr>\n",
              "    <tr>\n",
              "      <th>61324</th>\n",
              "      <td>0</td>\n",
              "      <td>1</td>\n",
              "      <td>1</td>\n",
              "      <td>2</td>\n",
              "      <td>5</td>\n",
              "      <td>2344.105</td>\n",
              "      <td>2344.105</td>\n",
              "    </tr>\n",
              "    <tr>\n",
              "      <th>...</th>\n",
              "      <td>...</td>\n",
              "      <td>...</td>\n",
              "      <td>...</td>\n",
              "      <td>...</td>\n",
              "      <td>...</td>\n",
              "      <td>...</td>\n",
              "      <td>...</td>\n",
              "    </tr>\n",
              "    <tr>\n",
              "      <th>306763</th>\n",
              "      <td>6</td>\n",
              "      <td>12</td>\n",
              "      <td>31</td>\n",
              "      <td>6</td>\n",
              "      <td>20</td>\n",
              "      <td>531.796</td>\n",
              "      <td>564.180</td>\n",
              "    </tr>\n",
              "    <tr>\n",
              "      <th>306764</th>\n",
              "      <td>6</td>\n",
              "      <td>12</td>\n",
              "      <td>31</td>\n",
              "      <td>6</td>\n",
              "      <td>21</td>\n",
              "      <td>504.268</td>\n",
              "      <td>550.588</td>\n",
              "    </tr>\n",
              "    <tr>\n",
              "      <th>306765</th>\n",
              "      <td>6</td>\n",
              "      <td>12</td>\n",
              "      <td>31</td>\n",
              "      <td>6</td>\n",
              "      <td>22</td>\n",
              "      <td>482.476</td>\n",
              "      <td>532.706</td>\n",
              "    </tr>\n",
              "    <tr>\n",
              "      <th>306766</th>\n",
              "      <td>6</td>\n",
              "      <td>12</td>\n",
              "      <td>31</td>\n",
              "      <td>6</td>\n",
              "      <td>23</td>\n",
              "      <td>450.284</td>\n",
              "      <td>499.088</td>\n",
              "    </tr>\n",
              "    <tr>\n",
              "      <th>306767</th>\n",
              "      <td>6</td>\n",
              "      <td>12</td>\n",
              "      <td>31</td>\n",
              "      <td>6</td>\n",
              "      <td>24</td>\n",
              "      <td>426.940</td>\n",
              "      <td>470.558</td>\n",
              "    </tr>\n",
              "  </tbody>\n",
              "</table>\n",
              "<p>245448 rows × 7 columns</p>\n",
              "</div>"
            ],
            "text/plain": [
              "        구분  month  day  weekday  시간  last_gas  gas_cummean\n",
              "61320    0      1    1        2   1  2497.129     2497.129\n",
              "61321    0      1    1        2   2  2363.265     2363.265\n",
              "61322    0      1    1        2   3  2258.505     2258.505\n",
              "61323    0      1    1        2   4  2243.969     2243.969\n",
              "61324    0      1    1        2   5  2344.105     2344.105\n",
              "...     ..    ...  ...      ...  ..       ...          ...\n",
              "306763   6     12   31        6  20   531.796      564.180\n",
              "306764   6     12   31        6  21   504.268      550.588\n",
              "306765   6     12   31        6  22   482.476      532.706\n",
              "306766   6     12   31        6  23   450.284      499.088\n",
              "306767   6     12   31        6  24   426.940      470.558\n",
              "\n",
              "[245448 rows x 7 columns]"
            ]
          },
          "metadata": {},
          "execution_count": 19
        }
      ]
    },
    {
      "cell_type": "markdown",
      "metadata": {
        "id": "jfJtnqxVkveV"
      },
      "source": [
        "# 학습"
      ]
    },
    {
      "cell_type": "code",
      "metadata": {
        "colab": {
          "base_uri": "https://localhost:8080/"
        },
        "id": "xaV0nRVkkveV",
        "outputId": "7f84e1e9-6f72-418f-e9c8-d5dfb9bcc21b"
      },
      "source": [
        "# d_train = lgb.Dataset(train_x, train_y)\n",
        "# d_val = lgb.Dataset(val_x, val_y)\n",
        "\n",
        "# params = {\n",
        "#     'objective': 'regression',\n",
        "#     'metric':'mae',\n",
        "#     'seed':42\n",
        "# }\n",
        "\n",
        "# model = lgb.train(params, d_train, 500, d_val, verbose_eval=20, early_stopping_rounds=10)"
      ],
      "execution_count": 52,
      "outputs": [
        {
          "output_type": "stream",
          "name": "stdout",
          "text": [
            "Training until validation scores don't improve for 10 rounds.\n",
            "[20]\tvalid_0's l1: 199.309\n",
            "[40]\tvalid_0's l1: 163.32\n",
            "[60]\tvalid_0's l1: 160.627\n",
            "Early stopping, best iteration is:\n",
            "[51]\tvalid_0's l1: 160.279\n"
          ]
        }
      ]
    },
    {
      "cell_type": "code",
      "metadata": {
        "colab": {
          "base_uri": "https://localhost:8080/"
        },
        "id": "mGka0-KNkpHu",
        "outputId": "aca95af0-a9b6-42e0-d40e-ccd917f17e0e"
      },
      "source": [
        "import xgboost as xgb\n",
        "from xgboost import XGBRegressor\n",
        "\n",
        "dtrain = xgb.DMatrix(data=train_x, label = train_y)\n",
        "dval = xgb.DMatrix(data=val_x, label = val_y)\n",
        "wlist = [(dtrain, 'train'), (dval,'eval')]\n",
        "\n",
        "params = {\n",
        "    'learning_rate': 0.05,\n",
        "    'objective': 'reg:squarederror',\n",
        "    'metric':'mae', \n",
        "    'seed':42\n",
        "}\n",
        " \n",
        "\n",
        "model = xgb.train( params, dtrain, 1000, evals=wlist, verbose_eval=100, early_stopping_rounds=200)"
      ],
      "execution_count": 51,
      "outputs": [
        {
          "output_type": "stream",
          "name": "stdout",
          "text": [
            "[0]\ttrain-rmse:1220.4\teval-rmse:1369.56\n",
            "Multiple eval metrics have been passed: 'eval-rmse' will be used for early stopping.\n",
            "\n",
            "Will train until eval-rmse hasn't improved in 200 rounds.\n",
            "[100]\ttrain-rmse:197.539\teval-rmse:285.215\n",
            "[200]\ttrain-rmse:174.816\teval-rmse:280.214\n",
            "[300]\ttrain-rmse:162.664\teval-rmse:281.175\n",
            "Stopping. Best iteration:\n",
            "[186]\ttrain-rmse:176.86\teval-rmse:279.734\n",
            "\n"
          ]
        }
      ]
    },
    {
      "cell_type": "markdown",
      "metadata": {
        "id": "mf1k6rx5kveW"
      },
      "source": [
        "# 추론 및 결과 제출"
      ]
    },
    {
      "cell_type": "code",
      "metadata": {
        "id": "UJ-m5Ld6kveW"
      },
      "source": [
        "test = pd.read_csv(path+'test.csv')\n",
        "submission = pd.read_csv(path+'sample_submission.csv')"
      ],
      "execution_count": 23,
      "outputs": []
    },
    {
      "cell_type": "code",
      "metadata": {
        "colab": {
          "base_uri": "https://localhost:8080/",
          "height": 200
        },
        "id": "eQ7N2_XZkveW",
        "outputId": "f321c0a5-d6cc-4ee8-aa1a-cce19f62ad3b"
      },
      "source": [
        "test.head()"
      ],
      "execution_count": null,
      "outputs": [
        {
          "output_type": "execute_result",
          "data": {
            "text/html": [
              "<div>\n",
              "<style scoped>\n",
              "    .dataframe tbody tr th:only-of-type {\n",
              "        vertical-align: middle;\n",
              "    }\n",
              "\n",
              "    .dataframe tbody tr th {\n",
              "        vertical-align: top;\n",
              "    }\n",
              "\n",
              "    .dataframe thead th {\n",
              "        text-align: right;\n",
              "    }\n",
              "</style>\n",
              "<table border=\"1\" class=\"dataframe\">\n",
              "  <thead>\n",
              "    <tr style=\"text-align: right;\">\n",
              "      <th></th>\n",
              "      <th>일자|시간|구분</th>\n",
              "    </tr>\n",
              "  </thead>\n",
              "  <tbody>\n",
              "    <tr>\n",
              "      <th>0</th>\n",
              "      <td>2019-01-01 01 A</td>\n",
              "    </tr>\n",
              "    <tr>\n",
              "      <th>1</th>\n",
              "      <td>2019-01-01 02 A</td>\n",
              "    </tr>\n",
              "    <tr>\n",
              "      <th>2</th>\n",
              "      <td>2019-01-01 03 A</td>\n",
              "    </tr>\n",
              "    <tr>\n",
              "      <th>3</th>\n",
              "      <td>2019-01-01 04 A</td>\n",
              "    </tr>\n",
              "    <tr>\n",
              "      <th>4</th>\n",
              "      <td>2019-01-01 05 A</td>\n",
              "    </tr>\n",
              "  </tbody>\n",
              "</table>\n",
              "</div>"
            ],
            "text/plain": [
              "          일자|시간|구분\n",
              "0  2019-01-01 01 A\n",
              "1  2019-01-01 02 A\n",
              "2  2019-01-01 03 A\n",
              "3  2019-01-01 04 A\n",
              "4  2019-01-01 05 A"
            ]
          },
          "metadata": {},
          "execution_count": 19
        }
      ]
    },
    {
      "cell_type": "code",
      "metadata": {
        "colab": {
          "base_uri": "https://localhost:8080/",
          "height": 200
        },
        "id": "2yFLTSqrkveX",
        "outputId": "b7712ad6-ed19-42f5-ee81-2c004dfbc7ea"
      },
      "source": [
        "submission.head()"
      ],
      "execution_count": null,
      "outputs": [
        {
          "output_type": "execute_result",
          "data": {
            "text/html": [
              "<div>\n",
              "<style scoped>\n",
              "    .dataframe tbody tr th:only-of-type {\n",
              "        vertical-align: middle;\n",
              "    }\n",
              "\n",
              "    .dataframe tbody tr th {\n",
              "        vertical-align: top;\n",
              "    }\n",
              "\n",
              "    .dataframe thead th {\n",
              "        text-align: right;\n",
              "    }\n",
              "</style>\n",
              "<table border=\"1\" class=\"dataframe\">\n",
              "  <thead>\n",
              "    <tr style=\"text-align: right;\">\n",
              "      <th></th>\n",
              "      <th>일자|시간|구분</th>\n",
              "      <th>공급량</th>\n",
              "    </tr>\n",
              "  </thead>\n",
              "  <tbody>\n",
              "    <tr>\n",
              "      <th>0</th>\n",
              "      <td>2019-01-01 01 A</td>\n",
              "      <td>0</td>\n",
              "    </tr>\n",
              "    <tr>\n",
              "      <th>1</th>\n",
              "      <td>2019-01-01 02 A</td>\n",
              "      <td>0</td>\n",
              "    </tr>\n",
              "    <tr>\n",
              "      <th>2</th>\n",
              "      <td>2019-01-01 03 A</td>\n",
              "      <td>0</td>\n",
              "    </tr>\n",
              "    <tr>\n",
              "      <th>3</th>\n",
              "      <td>2019-01-01 04 A</td>\n",
              "      <td>0</td>\n",
              "    </tr>\n",
              "    <tr>\n",
              "      <th>4</th>\n",
              "      <td>2019-01-01 05 A</td>\n",
              "      <td>0</td>\n",
              "    </tr>\n",
              "  </tbody>\n",
              "</table>\n",
              "</div>"
            ],
            "text/plain": [
              "          일자|시간|구분  공급량\n",
              "0  2019-01-01 01 A    0\n",
              "1  2019-01-01 02 A    0\n",
              "2  2019-01-01 03 A    0\n",
              "3  2019-01-01 04 A    0\n",
              "4  2019-01-01 05 A    0"
            ]
          },
          "metadata": {},
          "execution_count": 66
        }
      ]
    },
    {
      "cell_type": "code",
      "metadata": {
        "id": "IrApSqfqkveX"
      },
      "source": [
        "test['일자'] = test['일자|시간|구분'].str.split(' ').str[0]\n",
        "test['시간'] = test['일자|시간|구분'].str.split(' ').str[1].astype(int)\n",
        "test['구분'] = test['일자|시간|구분'].str.split(' ').str[2]"
      ],
      "execution_count": 24,
      "outputs": []
    },
    {
      "cell_type": "code",
      "metadata": {
        "id": "Q2LXjSEXkveY"
      },
      "source": [
        "test['일자'] = pd.to_datetime(test['일자'])\n",
        "test['year'] = test['일자'].dt.year\n",
        "test['month'] = test['일자'].dt.month\n",
        "test['day'] = test['일자'].dt.day\n",
        "test['weekday'] = test['일자'].dt.weekday"
      ],
      "execution_count": 25,
      "outputs": []
    },
    {
      "cell_type": "code",
      "metadata": {
        "id": "wP_n8i5XkveY"
      },
      "source": [
        "test['구분'] = test['구분'].map(d_map)"
      ],
      "execution_count": 26,
      "outputs": []
    },
    {
      "cell_type": "code",
      "metadata": {
        "colab": {
          "base_uri": "https://localhost:8080/",
          "height": 200
        },
        "id": "K7Yjnu2ecGG7",
        "outputId": "9cbd9384-eb2c-4eca-f06b-e51730a78f66"
      },
      "source": [
        "total.head()"
      ],
      "execution_count": null,
      "outputs": [
        {
          "output_type": "execute_result",
          "data": {
            "text/html": [
              "<div>\n",
              "<style scoped>\n",
              "    .dataframe tbody tr th:only-of-type {\n",
              "        vertical-align: middle;\n",
              "    }\n",
              "\n",
              "    .dataframe tbody tr th {\n",
              "        vertical-align: top;\n",
              "    }\n",
              "\n",
              "    .dataframe thead th {\n",
              "        text-align: right;\n",
              "    }\n",
              "</style>\n",
              "<table border=\"1\" class=\"dataframe\">\n",
              "  <thead>\n",
              "    <tr style=\"text-align: right;\">\n",
              "      <th></th>\n",
              "      <th>연월일</th>\n",
              "      <th>시간</th>\n",
              "      <th>구분</th>\n",
              "      <th>공급량</th>\n",
              "      <th>year</th>\n",
              "      <th>month</th>\n",
              "      <th>day</th>\n",
              "      <th>weekday</th>\n",
              "      <th>last_y</th>\n",
              "      <th>last_gas</th>\n",
              "    </tr>\n",
              "  </thead>\n",
              "  <tbody>\n",
              "    <tr>\n",
              "      <th>0</th>\n",
              "      <td>2013-01-01</td>\n",
              "      <td>1</td>\n",
              "      <td>0</td>\n",
              "      <td>2497.129</td>\n",
              "      <td>2013</td>\n",
              "      <td>1</td>\n",
              "      <td>1</td>\n",
              "      <td>1</td>\n",
              "      <td>2012-12-31</td>\n",
              "      <td>NaN</td>\n",
              "    </tr>\n",
              "    <tr>\n",
              "      <th>1</th>\n",
              "      <td>2013-01-01</td>\n",
              "      <td>2</td>\n",
              "      <td>0</td>\n",
              "      <td>2363.265</td>\n",
              "      <td>2013</td>\n",
              "      <td>1</td>\n",
              "      <td>1</td>\n",
              "      <td>1</td>\n",
              "      <td>2012-12-31</td>\n",
              "      <td>NaN</td>\n",
              "    </tr>\n",
              "    <tr>\n",
              "      <th>2</th>\n",
              "      <td>2013-01-01</td>\n",
              "      <td>3</td>\n",
              "      <td>0</td>\n",
              "      <td>2258.505</td>\n",
              "      <td>2013</td>\n",
              "      <td>1</td>\n",
              "      <td>1</td>\n",
              "      <td>1</td>\n",
              "      <td>2012-12-31</td>\n",
              "      <td>NaN</td>\n",
              "    </tr>\n",
              "    <tr>\n",
              "      <th>3</th>\n",
              "      <td>2013-01-01</td>\n",
              "      <td>4</td>\n",
              "      <td>0</td>\n",
              "      <td>2243.969</td>\n",
              "      <td>2013</td>\n",
              "      <td>1</td>\n",
              "      <td>1</td>\n",
              "      <td>1</td>\n",
              "      <td>2012-12-31</td>\n",
              "      <td>NaN</td>\n",
              "    </tr>\n",
              "    <tr>\n",
              "      <th>4</th>\n",
              "      <td>2013-01-01</td>\n",
              "      <td>5</td>\n",
              "      <td>0</td>\n",
              "      <td>2344.105</td>\n",
              "      <td>2013</td>\n",
              "      <td>1</td>\n",
              "      <td>1</td>\n",
              "      <td>1</td>\n",
              "      <td>2012-12-31</td>\n",
              "      <td>NaN</td>\n",
              "    </tr>\n",
              "  </tbody>\n",
              "</table>\n",
              "</div>"
            ],
            "text/plain": [
              "         연월일  시간  구분       공급량  year  month  day  weekday     last_y  last_gas\n",
              "0 2013-01-01   1   0  2497.129  2013      1    1        1 2012-12-31       NaN\n",
              "1 2013-01-01   2   0  2363.265  2013      1    1        1 2012-12-31       NaN\n",
              "2 2013-01-01   3   0  2258.505  2013      1    1        1 2012-12-31       NaN\n",
              "3 2013-01-01   4   0  2243.969  2013      1    1        1 2012-12-31       NaN\n",
              "4 2013-01-01   5   0  2344.105  2013      1    1        1 2012-12-31       NaN"
            ]
          },
          "metadata": {},
          "execution_count": 72
        }
      ]
    },
    {
      "cell_type": "code",
      "metadata": {
        "colab": {
          "base_uri": "https://localhost:8080/",
          "height": 204
        },
        "id": "AP9Qem8xmeqS",
        "outputId": "72aa12df-0e98-40b3-c154-5592079786da"
      },
      "source": [
        "total.head()  # 학습 후 다시 생성한 total"
      ],
      "execution_count": 91,
      "outputs": [
        {
          "output_type": "execute_result",
          "data": {
            "text/html": [
              "<div>\n",
              "<style scoped>\n",
              "    .dataframe tbody tr th:only-of-type {\n",
              "        vertical-align: middle;\n",
              "    }\n",
              "\n",
              "    .dataframe tbody tr th {\n",
              "        vertical-align: top;\n",
              "    }\n",
              "\n",
              "    .dataframe thead th {\n",
              "        text-align: right;\n",
              "    }\n",
              "</style>\n",
              "<table border=\"1\" class=\"dataframe\">\n",
              "  <thead>\n",
              "    <tr style=\"text-align: right;\">\n",
              "      <th></th>\n",
              "      <th>연월일</th>\n",
              "      <th>시간</th>\n",
              "      <th>구분</th>\n",
              "      <th>공급량</th>\n",
              "      <th>year</th>\n",
              "      <th>month</th>\n",
              "      <th>day</th>\n",
              "      <th>weekday</th>\n",
              "    </tr>\n",
              "  </thead>\n",
              "  <tbody>\n",
              "    <tr>\n",
              "      <th>0</th>\n",
              "      <td>2013-01-01</td>\n",
              "      <td>1</td>\n",
              "      <td>0</td>\n",
              "      <td>2497.129</td>\n",
              "      <td>2013</td>\n",
              "      <td>1</td>\n",
              "      <td>1</td>\n",
              "      <td>1</td>\n",
              "    </tr>\n",
              "    <tr>\n",
              "      <th>1</th>\n",
              "      <td>2013-01-01</td>\n",
              "      <td>2</td>\n",
              "      <td>0</td>\n",
              "      <td>2363.265</td>\n",
              "      <td>2013</td>\n",
              "      <td>1</td>\n",
              "      <td>1</td>\n",
              "      <td>1</td>\n",
              "    </tr>\n",
              "    <tr>\n",
              "      <th>2</th>\n",
              "      <td>2013-01-01</td>\n",
              "      <td>3</td>\n",
              "      <td>0</td>\n",
              "      <td>2258.505</td>\n",
              "      <td>2013</td>\n",
              "      <td>1</td>\n",
              "      <td>1</td>\n",
              "      <td>1</td>\n",
              "    </tr>\n",
              "    <tr>\n",
              "      <th>3</th>\n",
              "      <td>2013-01-01</td>\n",
              "      <td>4</td>\n",
              "      <td>0</td>\n",
              "      <td>2243.969</td>\n",
              "      <td>2013</td>\n",
              "      <td>1</td>\n",
              "      <td>1</td>\n",
              "      <td>1</td>\n",
              "    </tr>\n",
              "    <tr>\n",
              "      <th>4</th>\n",
              "      <td>2013-01-01</td>\n",
              "      <td>5</td>\n",
              "      <td>0</td>\n",
              "      <td>2344.105</td>\n",
              "      <td>2013</td>\n",
              "      <td>1</td>\n",
              "      <td>1</td>\n",
              "      <td>1</td>\n",
              "    </tr>\n",
              "  </tbody>\n",
              "</table>\n",
              "</div>"
            ],
            "text/plain": [
              "         연월일  시간  구분       공급량  year  month  day  weekday\n",
              "0 2013-01-01   1   0  2497.129  2013      1    1        1\n",
              "1 2013-01-01   2   0  2363.265  2013      1    1        1\n",
              "2 2013-01-01   3   0  2258.505  2013      1    1        1\n",
              "3 2013-01-01   4   0  2243.969  2013      1    1        1\n",
              "4 2013-01-01   5   0  2344.105  2013      1    1        1"
            ]
          },
          "metadata": {},
          "execution_count": 91
        }
      ]
    },
    {
      "cell_type": "code",
      "metadata": {
        "colab": {
          "base_uri": "https://localhost:8080/",
          "height": 408
        },
        "id": "iMBCzkCqc0fh",
        "outputId": "4814b345-b854-4dbe-b379-fb184ad6163f"
      },
      "source": [
        "# total_drop = total.drop('last_gas',axis=1)\n",
        "# total_drop"
      ],
      "execution_count": null,
      "outputs": [
        {
          "output_type": "execute_result",
          "data": {
            "text/html": [
              "<div>\n",
              "<style scoped>\n",
              "    .dataframe tbody tr th:only-of-type {\n",
              "        vertical-align: middle;\n",
              "    }\n",
              "\n",
              "    .dataframe tbody tr th {\n",
              "        vertical-align: top;\n",
              "    }\n",
              "\n",
              "    .dataframe thead th {\n",
              "        text-align: right;\n",
              "    }\n",
              "</style>\n",
              "<table border=\"1\" class=\"dataframe\">\n",
              "  <thead>\n",
              "    <tr style=\"text-align: right;\">\n",
              "      <th></th>\n",
              "      <th>연월일</th>\n",
              "      <th>시간</th>\n",
              "      <th>구분</th>\n",
              "      <th>공급량</th>\n",
              "      <th>year</th>\n",
              "      <th>month</th>\n",
              "      <th>day</th>\n",
              "      <th>weekday</th>\n",
              "    </tr>\n",
              "  </thead>\n",
              "  <tbody>\n",
              "    <tr>\n",
              "      <th>0</th>\n",
              "      <td>2013-01-01</td>\n",
              "      <td>1</td>\n",
              "      <td>0</td>\n",
              "      <td>2497.129</td>\n",
              "      <td>2013</td>\n",
              "      <td>1</td>\n",
              "      <td>1</td>\n",
              "      <td>1</td>\n",
              "    </tr>\n",
              "    <tr>\n",
              "      <th>1</th>\n",
              "      <td>2013-01-01</td>\n",
              "      <td>2</td>\n",
              "      <td>0</td>\n",
              "      <td>2363.265</td>\n",
              "      <td>2013</td>\n",
              "      <td>1</td>\n",
              "      <td>1</td>\n",
              "      <td>1</td>\n",
              "    </tr>\n",
              "    <tr>\n",
              "      <th>2</th>\n",
              "      <td>2013-01-01</td>\n",
              "      <td>3</td>\n",
              "      <td>0</td>\n",
              "      <td>2258.505</td>\n",
              "      <td>2013</td>\n",
              "      <td>1</td>\n",
              "      <td>1</td>\n",
              "      <td>1</td>\n",
              "    </tr>\n",
              "    <tr>\n",
              "      <th>3</th>\n",
              "      <td>2013-01-01</td>\n",
              "      <td>4</td>\n",
              "      <td>0</td>\n",
              "      <td>2243.969</td>\n",
              "      <td>2013</td>\n",
              "      <td>1</td>\n",
              "      <td>1</td>\n",
              "      <td>1</td>\n",
              "    </tr>\n",
              "    <tr>\n",
              "      <th>4</th>\n",
              "      <td>2013-01-01</td>\n",
              "      <td>5</td>\n",
              "      <td>0</td>\n",
              "      <td>2344.105</td>\n",
              "      <td>2013</td>\n",
              "      <td>1</td>\n",
              "      <td>1</td>\n",
              "      <td>1</td>\n",
              "    </tr>\n",
              "    <tr>\n",
              "      <th>...</th>\n",
              "      <td>...</td>\n",
              "      <td>...</td>\n",
              "      <td>...</td>\n",
              "      <td>...</td>\n",
              "      <td>...</td>\n",
              "      <td>...</td>\n",
              "      <td>...</td>\n",
              "      <td>...</td>\n",
              "    </tr>\n",
              "    <tr>\n",
              "      <th>368083</th>\n",
              "      <td>2018-12-31</td>\n",
              "      <td>20</td>\n",
              "      <td>6</td>\n",
              "      <td>681.033</td>\n",
              "      <td>2018</td>\n",
              "      <td>12</td>\n",
              "      <td>31</td>\n",
              "      <td>0</td>\n",
              "    </tr>\n",
              "    <tr>\n",
              "      <th>368084</th>\n",
              "      <td>2018-12-31</td>\n",
              "      <td>21</td>\n",
              "      <td>6</td>\n",
              "      <td>669.961</td>\n",
              "      <td>2018</td>\n",
              "      <td>12</td>\n",
              "      <td>31</td>\n",
              "      <td>0</td>\n",
              "    </tr>\n",
              "    <tr>\n",
              "      <th>368085</th>\n",
              "      <td>2018-12-31</td>\n",
              "      <td>22</td>\n",
              "      <td>6</td>\n",
              "      <td>657.941</td>\n",
              "      <td>2018</td>\n",
              "      <td>12</td>\n",
              "      <td>31</td>\n",
              "      <td>0</td>\n",
              "    </tr>\n",
              "    <tr>\n",
              "      <th>368086</th>\n",
              "      <td>2018-12-31</td>\n",
              "      <td>23</td>\n",
              "      <td>6</td>\n",
              "      <td>610.953</td>\n",
              "      <td>2018</td>\n",
              "      <td>12</td>\n",
              "      <td>31</td>\n",
              "      <td>0</td>\n",
              "    </tr>\n",
              "    <tr>\n",
              "      <th>368087</th>\n",
              "      <td>2018-12-31</td>\n",
              "      <td>24</td>\n",
              "      <td>6</td>\n",
              "      <td>560.896</td>\n",
              "      <td>2018</td>\n",
              "      <td>12</td>\n",
              "      <td>31</td>\n",
              "      <td>0</td>\n",
              "    </tr>\n",
              "  </tbody>\n",
              "</table>\n",
              "<p>368088 rows × 8 columns</p>\n",
              "</div>"
            ],
            "text/plain": [
              "              연월일  시간  구분       공급량  year  month  day  weekday\n",
              "0      2013-01-01   1   0  2497.129  2013      1    1        1\n",
              "1      2013-01-01   2   0  2363.265  2013      1    1        1\n",
              "2      2013-01-01   3   0  2258.505  2013      1    1        1\n",
              "3      2013-01-01   4   0  2243.969  2013      1    1        1\n",
              "4      2013-01-01   5   0  2344.105  2013      1    1        1\n",
              "...           ...  ..  ..       ...   ...    ...  ...      ...\n",
              "368083 2018-12-31  20   6   681.033  2018     12   31        0\n",
              "368084 2018-12-31  21   6   669.961  2018     12   31        0\n",
              "368085 2018-12-31  22   6   657.941  2018     12   31        0\n",
              "368086 2018-12-31  23   6   610.953  2018     12   31        0\n",
              "368087 2018-12-31  24   6   560.896  2018     12   31        0\n",
              "\n",
              "[368088 rows x 8 columns]"
            ]
          },
          "metadata": {},
          "execution_count": 23
        }
      ]
    },
    {
      "cell_type": "code",
      "metadata": {
        "id": "ju2YkS9UnKZp"
      },
      "source": [
        "total['공급량_x'] = total['공급량']\n",
        "total = total.drop('공급량',axis=1)\n",
        "total.rename(columns = {'공급량_x' : '공급량'}, inplace = True)"
      ],
      "execution_count": 27,
      "outputs": []
    },
    {
      "cell_type": "code",
      "metadata": {
        "colab": {
          "base_uri": "https://localhost:8080/",
          "height": 204
        },
        "id": "CERiOE1cgjcl",
        "outputId": "af41efa6-e70f-4ff1-c4fb-7a208599f0da"
      },
      "source": [
        "total.head()"
      ],
      "execution_count": 95,
      "outputs": [
        {
          "output_type": "execute_result",
          "data": {
            "text/html": [
              "<div>\n",
              "<style scoped>\n",
              "    .dataframe tbody tr th:only-of-type {\n",
              "        vertical-align: middle;\n",
              "    }\n",
              "\n",
              "    .dataframe tbody tr th {\n",
              "        vertical-align: top;\n",
              "    }\n",
              "\n",
              "    .dataframe thead th {\n",
              "        text-align: right;\n",
              "    }\n",
              "</style>\n",
              "<table border=\"1\" class=\"dataframe\">\n",
              "  <thead>\n",
              "    <tr style=\"text-align: right;\">\n",
              "      <th></th>\n",
              "      <th>연월일</th>\n",
              "      <th>시간</th>\n",
              "      <th>구분</th>\n",
              "      <th>year</th>\n",
              "      <th>month</th>\n",
              "      <th>day</th>\n",
              "      <th>weekday</th>\n",
              "      <th>공급량</th>\n",
              "    </tr>\n",
              "  </thead>\n",
              "  <tbody>\n",
              "    <tr>\n",
              "      <th>0</th>\n",
              "      <td>2013-01-01</td>\n",
              "      <td>1</td>\n",
              "      <td>0</td>\n",
              "      <td>2013</td>\n",
              "      <td>1</td>\n",
              "      <td>1</td>\n",
              "      <td>1</td>\n",
              "      <td>2497.129</td>\n",
              "    </tr>\n",
              "    <tr>\n",
              "      <th>1</th>\n",
              "      <td>2013-01-01</td>\n",
              "      <td>2</td>\n",
              "      <td>0</td>\n",
              "      <td>2013</td>\n",
              "      <td>1</td>\n",
              "      <td>1</td>\n",
              "      <td>1</td>\n",
              "      <td>2363.265</td>\n",
              "    </tr>\n",
              "    <tr>\n",
              "      <th>2</th>\n",
              "      <td>2013-01-01</td>\n",
              "      <td>3</td>\n",
              "      <td>0</td>\n",
              "      <td>2013</td>\n",
              "      <td>1</td>\n",
              "      <td>1</td>\n",
              "      <td>1</td>\n",
              "      <td>2258.505</td>\n",
              "    </tr>\n",
              "    <tr>\n",
              "      <th>3</th>\n",
              "      <td>2013-01-01</td>\n",
              "      <td>4</td>\n",
              "      <td>0</td>\n",
              "      <td>2013</td>\n",
              "      <td>1</td>\n",
              "      <td>1</td>\n",
              "      <td>1</td>\n",
              "      <td>2243.969</td>\n",
              "    </tr>\n",
              "    <tr>\n",
              "      <th>4</th>\n",
              "      <td>2013-01-01</td>\n",
              "      <td>5</td>\n",
              "      <td>0</td>\n",
              "      <td>2013</td>\n",
              "      <td>1</td>\n",
              "      <td>1</td>\n",
              "      <td>1</td>\n",
              "      <td>2344.105</td>\n",
              "    </tr>\n",
              "  </tbody>\n",
              "</table>\n",
              "</div>"
            ],
            "text/plain": [
              "         연월일  시간  구분  year  month  day  weekday       공급량\n",
              "0 2013-01-01   1   0  2013      1    1        1  2497.129\n",
              "1 2013-01-01   2   0  2013      1    1        1  2363.265\n",
              "2 2013-01-01   3   0  2013      1    1        1  2258.505\n",
              "3 2013-01-01   4   0  2013      1    1        1  2243.969\n",
              "4 2013-01-01   5   0  2013      1    1        1  2344.105"
            ]
          },
          "metadata": {},
          "execution_count": 95
        }
      ]
    },
    {
      "cell_type": "code",
      "metadata": {
        "id": "sdA67d6vngAU"
      },
      "source": [
        "# pd.set_option('display.max_rows', 10)"
      ],
      "execution_count": 97,
      "outputs": []
    },
    {
      "cell_type": "code",
      "metadata": {
        "colab": {
          "base_uri": "https://localhost:8080/",
          "height": 419
        },
        "id": "uqHXJ-mdbc2w",
        "outputId": "83f2e9c5-2e0f-437b-e327-2c2420c5c0c7"
      },
      "source": [
        "test_1 = test.drop('일자|시간|구분', axis=1)\n",
        "test_1.rename(columns = {'일자' : '연월일'}, inplace = True)\n",
        "test_1['공급량'] = 0\n",
        "\n",
        "test_1"
      ],
      "execution_count": 28,
      "outputs": [
        {
          "output_type": "execute_result",
          "data": {
            "text/html": [
              "<div>\n",
              "<style scoped>\n",
              "    .dataframe tbody tr th:only-of-type {\n",
              "        vertical-align: middle;\n",
              "    }\n",
              "\n",
              "    .dataframe tbody tr th {\n",
              "        vertical-align: top;\n",
              "    }\n",
              "\n",
              "    .dataframe thead th {\n",
              "        text-align: right;\n",
              "    }\n",
              "</style>\n",
              "<table border=\"1\" class=\"dataframe\">\n",
              "  <thead>\n",
              "    <tr style=\"text-align: right;\">\n",
              "      <th></th>\n",
              "      <th>연월일</th>\n",
              "      <th>시간</th>\n",
              "      <th>구분</th>\n",
              "      <th>year</th>\n",
              "      <th>month</th>\n",
              "      <th>day</th>\n",
              "      <th>weekday</th>\n",
              "      <th>공급량</th>\n",
              "    </tr>\n",
              "  </thead>\n",
              "  <tbody>\n",
              "    <tr>\n",
              "      <th>0</th>\n",
              "      <td>2019-01-01</td>\n",
              "      <td>1</td>\n",
              "      <td>0</td>\n",
              "      <td>2019</td>\n",
              "      <td>1</td>\n",
              "      <td>1</td>\n",
              "      <td>1</td>\n",
              "      <td>0</td>\n",
              "    </tr>\n",
              "    <tr>\n",
              "      <th>1</th>\n",
              "      <td>2019-01-01</td>\n",
              "      <td>2</td>\n",
              "      <td>0</td>\n",
              "      <td>2019</td>\n",
              "      <td>1</td>\n",
              "      <td>1</td>\n",
              "      <td>1</td>\n",
              "      <td>0</td>\n",
              "    </tr>\n",
              "    <tr>\n",
              "      <th>2</th>\n",
              "      <td>2019-01-01</td>\n",
              "      <td>3</td>\n",
              "      <td>0</td>\n",
              "      <td>2019</td>\n",
              "      <td>1</td>\n",
              "      <td>1</td>\n",
              "      <td>1</td>\n",
              "      <td>0</td>\n",
              "    </tr>\n",
              "    <tr>\n",
              "      <th>3</th>\n",
              "      <td>2019-01-01</td>\n",
              "      <td>4</td>\n",
              "      <td>0</td>\n",
              "      <td>2019</td>\n",
              "      <td>1</td>\n",
              "      <td>1</td>\n",
              "      <td>1</td>\n",
              "      <td>0</td>\n",
              "    </tr>\n",
              "    <tr>\n",
              "      <th>4</th>\n",
              "      <td>2019-01-01</td>\n",
              "      <td>5</td>\n",
              "      <td>0</td>\n",
              "      <td>2019</td>\n",
              "      <td>1</td>\n",
              "      <td>1</td>\n",
              "      <td>1</td>\n",
              "      <td>0</td>\n",
              "    </tr>\n",
              "    <tr>\n",
              "      <th>...</th>\n",
              "      <td>...</td>\n",
              "      <td>...</td>\n",
              "      <td>...</td>\n",
              "      <td>...</td>\n",
              "      <td>...</td>\n",
              "      <td>...</td>\n",
              "      <td>...</td>\n",
              "      <td>...</td>\n",
              "    </tr>\n",
              "    <tr>\n",
              "      <th>15115</th>\n",
              "      <td>2019-03-31</td>\n",
              "      <td>20</td>\n",
              "      <td>6</td>\n",
              "      <td>2019</td>\n",
              "      <td>3</td>\n",
              "      <td>31</td>\n",
              "      <td>6</td>\n",
              "      <td>0</td>\n",
              "    </tr>\n",
              "    <tr>\n",
              "      <th>15116</th>\n",
              "      <td>2019-03-31</td>\n",
              "      <td>21</td>\n",
              "      <td>6</td>\n",
              "      <td>2019</td>\n",
              "      <td>3</td>\n",
              "      <td>31</td>\n",
              "      <td>6</td>\n",
              "      <td>0</td>\n",
              "    </tr>\n",
              "    <tr>\n",
              "      <th>15117</th>\n",
              "      <td>2019-03-31</td>\n",
              "      <td>22</td>\n",
              "      <td>6</td>\n",
              "      <td>2019</td>\n",
              "      <td>3</td>\n",
              "      <td>31</td>\n",
              "      <td>6</td>\n",
              "      <td>0</td>\n",
              "    </tr>\n",
              "    <tr>\n",
              "      <th>15118</th>\n",
              "      <td>2019-03-31</td>\n",
              "      <td>23</td>\n",
              "      <td>6</td>\n",
              "      <td>2019</td>\n",
              "      <td>3</td>\n",
              "      <td>31</td>\n",
              "      <td>6</td>\n",
              "      <td>0</td>\n",
              "    </tr>\n",
              "    <tr>\n",
              "      <th>15119</th>\n",
              "      <td>2019-03-31</td>\n",
              "      <td>24</td>\n",
              "      <td>6</td>\n",
              "      <td>2019</td>\n",
              "      <td>3</td>\n",
              "      <td>31</td>\n",
              "      <td>6</td>\n",
              "      <td>0</td>\n",
              "    </tr>\n",
              "  </tbody>\n",
              "</table>\n",
              "<p>15120 rows × 8 columns</p>\n",
              "</div>"
            ],
            "text/plain": [
              "             연월일  시간  구분  year  month  day  weekday  공급량\n",
              "0     2019-01-01   1   0  2019      1    1        1    0\n",
              "1     2019-01-01   2   0  2019      1    1        1    0\n",
              "2     2019-01-01   3   0  2019      1    1        1    0\n",
              "3     2019-01-01   4   0  2019      1    1        1    0\n",
              "4     2019-01-01   5   0  2019      1    1        1    0\n",
              "...          ...  ..  ..   ...    ...  ...      ...  ...\n",
              "15115 2019-03-31  20   6  2019      3   31        6    0\n",
              "15116 2019-03-31  21   6  2019      3   31        6    0\n",
              "15117 2019-03-31  22   6  2019      3   31        6    0\n",
              "15118 2019-03-31  23   6  2019      3   31        6    0\n",
              "15119 2019-03-31  24   6  2019      3   31        6    0\n",
              "\n",
              "[15120 rows x 8 columns]"
            ]
          },
          "metadata": {},
          "execution_count": 28
        }
      ]
    },
    {
      "cell_type": "code",
      "metadata": {
        "id": "9Vt0dSqQgEG9"
      },
      "source": [
        "test_2 = pd.concat([total_origin, test_1], axis=0)"
      ],
      "execution_count": 31,
      "outputs": []
    },
    {
      "cell_type": "code",
      "metadata": {
        "id": "wh2jqbRAqef6"
      },
      "source": [
        ""
      ],
      "execution_count": 111,
      "outputs": []
    },
    {
      "cell_type": "code",
      "metadata": {
        "colab": {
          "base_uri": "https://localhost:8080/",
          "height": 266
        },
        "id": "wkGBSdwFodqm",
        "outputId": "96e79b22-6d92-4b97-ecf2-c1ed9760af3a"
      },
      "source": [
        "test_2[(test_2['시간']==2) & (test_2['구분']== 0) & (test_2['month']==2) & (test_2['day']==1)]"
      ],
      "execution_count": 32,
      "outputs": [
        {
          "output_type": "execute_result",
          "data": {
            "text/html": [
              "<div>\n",
              "<style scoped>\n",
              "    .dataframe tbody tr th:only-of-type {\n",
              "        vertical-align: middle;\n",
              "    }\n",
              "\n",
              "    .dataframe tbody tr th {\n",
              "        vertical-align: top;\n",
              "    }\n",
              "\n",
              "    .dataframe thead th {\n",
              "        text-align: right;\n",
              "    }\n",
              "</style>\n",
              "<table border=\"1\" class=\"dataframe\">\n",
              "  <thead>\n",
              "    <tr style=\"text-align: right;\">\n",
              "      <th></th>\n",
              "      <th>연월일</th>\n",
              "      <th>시간</th>\n",
              "      <th>구분</th>\n",
              "      <th>공급량</th>\n",
              "      <th>year</th>\n",
              "      <th>month</th>\n",
              "      <th>day</th>\n",
              "      <th>weekday</th>\n",
              "    </tr>\n",
              "  </thead>\n",
              "  <tbody>\n",
              "    <tr>\n",
              "      <th>745</th>\n",
              "      <td>2013-02-01</td>\n",
              "      <td>2</td>\n",
              "      <td>0</td>\n",
              "      <td>1377.905</td>\n",
              "      <td>2013</td>\n",
              "      <td>2</td>\n",
              "      <td>1</td>\n",
              "      <td>4</td>\n",
              "    </tr>\n",
              "    <tr>\n",
              "      <th>62065</th>\n",
              "      <td>2014-02-01</td>\n",
              "      <td>2</td>\n",
              "      <td>0</td>\n",
              "      <td>1315.257</td>\n",
              "      <td>2014</td>\n",
              "      <td>2</td>\n",
              "      <td>1</td>\n",
              "      <td>5</td>\n",
              "    </tr>\n",
              "    <tr>\n",
              "      <th>123385</th>\n",
              "      <td>2015-02-01</td>\n",
              "      <td>2</td>\n",
              "      <td>0</td>\n",
              "      <td>1729.313</td>\n",
              "      <td>2015</td>\n",
              "      <td>2</td>\n",
              "      <td>1</td>\n",
              "      <td>6</td>\n",
              "    </tr>\n",
              "    <tr>\n",
              "      <th>184705</th>\n",
              "      <td>2016-02-01</td>\n",
              "      <td>2</td>\n",
              "      <td>0</td>\n",
              "      <td>1719.409</td>\n",
              "      <td>2016</td>\n",
              "      <td>2</td>\n",
              "      <td>1</td>\n",
              "      <td>0</td>\n",
              "    </tr>\n",
              "    <tr>\n",
              "      <th>246193</th>\n",
              "      <td>2017-02-01</td>\n",
              "      <td>2</td>\n",
              "      <td>0</td>\n",
              "      <td>1936.561</td>\n",
              "      <td>2017</td>\n",
              "      <td>2</td>\n",
              "      <td>1</td>\n",
              "      <td>2</td>\n",
              "    </tr>\n",
              "    <tr>\n",
              "      <th>307513</th>\n",
              "      <td>2018-02-01</td>\n",
              "      <td>2</td>\n",
              "      <td>0</td>\n",
              "      <td>2119.548</td>\n",
              "      <td>2018</td>\n",
              "      <td>2</td>\n",
              "      <td>1</td>\n",
              "      <td>3</td>\n",
              "    </tr>\n",
              "    <tr>\n",
              "      <th>745</th>\n",
              "      <td>2019-02-01</td>\n",
              "      <td>2</td>\n",
              "      <td>0</td>\n",
              "      <td>0.000</td>\n",
              "      <td>2019</td>\n",
              "      <td>2</td>\n",
              "      <td>1</td>\n",
              "      <td>4</td>\n",
              "    </tr>\n",
              "  </tbody>\n",
              "</table>\n",
              "</div>"
            ],
            "text/plain": [
              "              연월일  시간  구분       공급량  year  month  day  weekday\n",
              "745    2013-02-01   2   0  1377.905  2013      2    1        4\n",
              "62065  2014-02-01   2   0  1315.257  2014      2    1        5\n",
              "123385 2015-02-01   2   0  1729.313  2015      2    1        6\n",
              "184705 2016-02-01   2   0  1719.409  2016      2    1        0\n",
              "246193 2017-02-01   2   0  1936.561  2017      2    1        2\n",
              "307513 2018-02-01   2   0  2119.548  2018      2    1        3\n",
              "745    2019-02-01   2   0     0.000  2019      2    1        4"
            ]
          },
          "metadata": {},
          "execution_count": 32
        }
      ]
    },
    {
      "cell_type": "code",
      "metadata": {
        "id": "Br51TQqugEDy"
      },
      "source": [
        "test_2['last_gas'] = test_2.groupby(['구분','month','day','시간'])['공급량'].transform(lambda x: x.shift(1))\n",
        "test_2['gas_cumsum'] = test_2.groupby(['구분','month','day','시간'])['공급량'].transform(lambda x: x.cumsum().shift(1))\n",
        "test_2['gas_cumcnt'] = test_2.groupby(['구분','month','day','시간'])['공급량'].cumcount()\n",
        "\n",
        "def cum_mean(x) :\n",
        "    if x['gas_cumcnt'] == 0 :\n",
        "        return x['gas_cumsum']\n",
        "    else :\n",
        "        mean = x['gas_cumsum']/x['gas_cumcnt']\n",
        "        return round(mean,3)\n",
        "test_2['gas_cummean'] = test_2.apply(cum_mean, axis=1)"
      ],
      "execution_count": 33,
      "outputs": []
    },
    {
      "cell_type": "code",
      "metadata": {
        "id": "0NhqdsougEA0"
      },
      "source": [
        "test_3 = test_2[len(total_origin):]"
      ],
      "execution_count": 34,
      "outputs": []
    },
    {
      "cell_type": "code",
      "metadata": {
        "colab": {
          "base_uri": "https://localhost:8080/"
        },
        "id": "WcmuHE-7gD9x",
        "outputId": "8d88c821-12d3-4377-eb52-f9c987b55a50"
      },
      "source": [
        "test_3.info()"
      ],
      "execution_count": 35,
      "outputs": [
        {
          "output_type": "stream",
          "name": "stdout",
          "text": [
            "<class 'pandas.core.frame.DataFrame'>\n",
            "Int64Index: 15120 entries, 0 to 15119\n",
            "Data columns (total 12 columns):\n",
            " #   Column       Non-Null Count  Dtype         \n",
            "---  ------       --------------  -----         \n",
            " 0   연월일          15120 non-null  datetime64[ns]\n",
            " 1   시간           15120 non-null  int64         \n",
            " 2   구분           15120 non-null  int64         \n",
            " 3   공급량          15120 non-null  float64       \n",
            " 4   year         15120 non-null  int64         \n",
            " 5   month        15120 non-null  int64         \n",
            " 6   day          15120 non-null  int64         \n",
            " 7   weekday      15120 non-null  int64         \n",
            " 8   last_gas     15120 non-null  float64       \n",
            " 9   gas_cumsum   15120 non-null  float64       \n",
            " 10  gas_cumcnt   15120 non-null  int64         \n",
            " 11  gas_cummean  15120 non-null  float64       \n",
            "dtypes: datetime64[ns](1), float64(4), int64(7)\n",
            "memory usage: 1.5 MB\n"
          ]
        }
      ]
    },
    {
      "cell_type": "code",
      "metadata": {
        "colab": {
          "base_uri": "https://localhost:8080/"
        },
        "id": "Ut71JlgdbfHS",
        "outputId": "9991deae-8ea1-4f45-a6fb-47085edf40cf"
      },
      "source": [
        "# test_3['last_gas'] = test_3['last_gas'].astype(float)"
      ],
      "execution_count": null,
      "outputs": [
        {
          "output_type": "stream",
          "name": "stderr",
          "text": [
            "/usr/local/lib/python3.7/dist-packages/ipykernel_launcher.py:1: SettingWithCopyWarning: \n",
            "A value is trying to be set on a copy of a slice from a DataFrame.\n",
            "Try using .loc[row_indexer,col_indexer] = value instead\n",
            "\n",
            "See the caveats in the documentation: https://pandas.pydata.org/pandas-docs/stable/user_guide/indexing.html#returning-a-view-versus-a-copy\n",
            "  \"\"\"Entry point for launching an IPython kernel.\n"
          ]
        }
      ]
    },
    {
      "cell_type": "code",
      "metadata": {
        "id": "wnKY5LUakveY"
      },
      "source": [
        "test_x = test_3[features]"
      ],
      "execution_count": 36,
      "outputs": []
    },
    {
      "cell_type": "code",
      "metadata": {
        "colab": {
          "base_uri": "https://localhost:8080/",
          "height": 419
        },
        "id": "PWHe8v8zkveZ",
        "outputId": "2d191eea-70a5-4f10-8238-efca13f4c86f"
      },
      "source": [
        "test_x"
      ],
      "execution_count": 37,
      "outputs": [
        {
          "output_type": "execute_result",
          "data": {
            "text/html": [
              "<div>\n",
              "<style scoped>\n",
              "    .dataframe tbody tr th:only-of-type {\n",
              "        vertical-align: middle;\n",
              "    }\n",
              "\n",
              "    .dataframe tbody tr th {\n",
              "        vertical-align: top;\n",
              "    }\n",
              "\n",
              "    .dataframe thead th {\n",
              "        text-align: right;\n",
              "    }\n",
              "</style>\n",
              "<table border=\"1\" class=\"dataframe\">\n",
              "  <thead>\n",
              "    <tr style=\"text-align: right;\">\n",
              "      <th></th>\n",
              "      <th>구분</th>\n",
              "      <th>month</th>\n",
              "      <th>day</th>\n",
              "      <th>weekday</th>\n",
              "      <th>시간</th>\n",
              "      <th>last_gas</th>\n",
              "      <th>gas_cummean</th>\n",
              "    </tr>\n",
              "  </thead>\n",
              "  <tbody>\n",
              "    <tr>\n",
              "      <th>0</th>\n",
              "      <td>0</td>\n",
              "      <td>1</td>\n",
              "      <td>1</td>\n",
              "      <td>1</td>\n",
              "      <td>1</td>\n",
              "      <td>1765.008</td>\n",
              "      <td>1913.798</td>\n",
              "    </tr>\n",
              "    <tr>\n",
              "      <th>1</th>\n",
              "      <td>0</td>\n",
              "      <td>1</td>\n",
              "      <td>1</td>\n",
              "      <td>1</td>\n",
              "      <td>2</td>\n",
              "      <td>1679.186</td>\n",
              "      <td>1801.092</td>\n",
              "    </tr>\n",
              "    <tr>\n",
              "      <th>2</th>\n",
              "      <td>0</td>\n",
              "      <td>1</td>\n",
              "      <td>1</td>\n",
              "      <td>1</td>\n",
              "      <td>3</td>\n",
              "      <td>1610.885</td>\n",
              "      <td>1696.859</td>\n",
              "    </tr>\n",
              "    <tr>\n",
              "      <th>3</th>\n",
              "      <td>0</td>\n",
              "      <td>1</td>\n",
              "      <td>1</td>\n",
              "      <td>1</td>\n",
              "      <td>4</td>\n",
              "      <td>1604.123</td>\n",
              "      <td>1689.183</td>\n",
              "    </tr>\n",
              "    <tr>\n",
              "      <th>4</th>\n",
              "      <td>0</td>\n",
              "      <td>1</td>\n",
              "      <td>1</td>\n",
              "      <td>1</td>\n",
              "      <td>5</td>\n",
              "      <td>1711.506</td>\n",
              "      <td>1796.721</td>\n",
              "    </tr>\n",
              "    <tr>\n",
              "      <th>...</th>\n",
              "      <td>...</td>\n",
              "      <td>...</td>\n",
              "      <td>...</td>\n",
              "      <td>...</td>\n",
              "      <td>...</td>\n",
              "      <td>...</td>\n",
              "      <td>...</td>\n",
              "    </tr>\n",
              "    <tr>\n",
              "      <th>15115</th>\n",
              "      <td>6</td>\n",
              "      <td>3</td>\n",
              "      <td>31</td>\n",
              "      <td>6</td>\n",
              "      <td>20</td>\n",
              "      <td>244.162</td>\n",
              "      <td>316.634</td>\n",
              "    </tr>\n",
              "    <tr>\n",
              "      <th>15116</th>\n",
              "      <td>6</td>\n",
              "      <td>3</td>\n",
              "      <td>31</td>\n",
              "      <td>6</td>\n",
              "      <td>21</td>\n",
              "      <td>248.059</td>\n",
              "      <td>327.583</td>\n",
              "    </tr>\n",
              "    <tr>\n",
              "      <th>15117</th>\n",
              "      <td>6</td>\n",
              "      <td>3</td>\n",
              "      <td>31</td>\n",
              "      <td>6</td>\n",
              "      <td>22</td>\n",
              "      <td>231.181</td>\n",
              "      <td>311.250</td>\n",
              "    </tr>\n",
              "    <tr>\n",
              "      <th>15118</th>\n",
              "      <td>6</td>\n",
              "      <td>3</td>\n",
              "      <td>31</td>\n",
              "      <td>6</td>\n",
              "      <td>23</td>\n",
              "      <td>199.022</td>\n",
              "      <td>277.962</td>\n",
              "    </tr>\n",
              "    <tr>\n",
              "      <th>15119</th>\n",
              "      <td>6</td>\n",
              "      <td>3</td>\n",
              "      <td>31</td>\n",
              "      <td>6</td>\n",
              "      <td>24</td>\n",
              "      <td>190.212</td>\n",
              "      <td>258.336</td>\n",
              "    </tr>\n",
              "  </tbody>\n",
              "</table>\n",
              "<p>15120 rows × 7 columns</p>\n",
              "</div>"
            ],
            "text/plain": [
              "       구분  month  day  weekday  시간  last_gas  gas_cummean\n",
              "0       0      1    1        1   1  1765.008     1913.798\n",
              "1       0      1    1        1   2  1679.186     1801.092\n",
              "2       0      1    1        1   3  1610.885     1696.859\n",
              "3       0      1    1        1   4  1604.123     1689.183\n",
              "4       0      1    1        1   5  1711.506     1796.721\n",
              "...    ..    ...  ...      ...  ..       ...          ...\n",
              "15115   6      3   31        6  20   244.162      316.634\n",
              "15116   6      3   31        6  21   248.059      327.583\n",
              "15117   6      3   31        6  22   231.181      311.250\n",
              "15118   6      3   31        6  23   199.022      277.962\n",
              "15119   6      3   31        6  24   190.212      258.336\n",
              "\n",
              "[15120 rows x 7 columns]"
            ]
          },
          "metadata": {},
          "execution_count": 37
        }
      ]
    },
    {
      "cell_type": "code",
      "metadata": {
        "id": "t_2QpMwd4pIj"
      },
      "source": [
        "#xgboost 실행을 위한 코드\n",
        "test_x = xgb.DMatrix(test_x)"
      ],
      "execution_count": 38,
      "outputs": []
    },
    {
      "cell_type": "code",
      "metadata": {
        "id": "CoMgv9h5kveZ"
      },
      "source": [
        "preds = model.predict(test_x)"
      ],
      "execution_count": 39,
      "outputs": []
    },
    {
      "cell_type": "code",
      "metadata": {
        "id": "e9BCmPx2kvea"
      },
      "source": [
        "submission['공급량'] = preds"
      ],
      "execution_count": 40,
      "outputs": []
    },
    {
      "cell_type": "code",
      "metadata": {
        "colab": {
          "base_uri": "https://localhost:8080/",
          "height": 419
        },
        "id": "sgvTHo_AijYl",
        "outputId": "b3396fe0-1161-43ee-f5f1-323beb19be7a"
      },
      "source": [
        "submission"
      ],
      "execution_count": 41,
      "outputs": [
        {
          "output_type": "execute_result",
          "data": {
            "text/html": [
              "<div>\n",
              "<style scoped>\n",
              "    .dataframe tbody tr th:only-of-type {\n",
              "        vertical-align: middle;\n",
              "    }\n",
              "\n",
              "    .dataframe tbody tr th {\n",
              "        vertical-align: top;\n",
              "    }\n",
              "\n",
              "    .dataframe thead th {\n",
              "        text-align: right;\n",
              "    }\n",
              "</style>\n",
              "<table border=\"1\" class=\"dataframe\">\n",
              "  <thead>\n",
              "    <tr style=\"text-align: right;\">\n",
              "      <th></th>\n",
              "      <th>일자|시간|구분</th>\n",
              "      <th>공급량</th>\n",
              "    </tr>\n",
              "  </thead>\n",
              "  <tbody>\n",
              "    <tr>\n",
              "      <th>0</th>\n",
              "      <td>2019-01-01 01 A</td>\n",
              "      <td>1721.539429</td>\n",
              "    </tr>\n",
              "    <tr>\n",
              "      <th>1</th>\n",
              "      <td>2019-01-01 02 A</td>\n",
              "      <td>1523.760132</td>\n",
              "    </tr>\n",
              "    <tr>\n",
              "      <th>2</th>\n",
              "      <td>2019-01-01 03 A</td>\n",
              "      <td>1422.074951</td>\n",
              "    </tr>\n",
              "    <tr>\n",
              "      <th>3</th>\n",
              "      <td>2019-01-01 04 A</td>\n",
              "      <td>1414.206421</td>\n",
              "    </tr>\n",
              "    <tr>\n",
              "      <th>4</th>\n",
              "      <td>2019-01-01 05 A</td>\n",
              "      <td>1527.060913</td>\n",
              "    </tr>\n",
              "    <tr>\n",
              "      <th>...</th>\n",
              "      <td>...</td>\n",
              "      <td>...</td>\n",
              "    </tr>\n",
              "    <tr>\n",
              "      <th>15115</th>\n",
              "      <td>2019-03-31 20 H</td>\n",
              "      <td>286.525177</td>\n",
              "    </tr>\n",
              "    <tr>\n",
              "      <th>15116</th>\n",
              "      <td>2019-03-31 21 H</td>\n",
              "      <td>301.571869</td>\n",
              "    </tr>\n",
              "    <tr>\n",
              "      <th>15117</th>\n",
              "      <td>2019-03-31 22 H</td>\n",
              "      <td>279.252869</td>\n",
              "    </tr>\n",
              "    <tr>\n",
              "      <th>15118</th>\n",
              "      <td>2019-03-31 23 H</td>\n",
              "      <td>244.142807</td>\n",
              "    </tr>\n",
              "    <tr>\n",
              "      <th>15119</th>\n",
              "      <td>2019-03-31 24 H</td>\n",
              "      <td>214.026443</td>\n",
              "    </tr>\n",
              "  </tbody>\n",
              "</table>\n",
              "<p>15120 rows × 2 columns</p>\n",
              "</div>"
            ],
            "text/plain": [
              "              일자|시간|구분          공급량\n",
              "0      2019-01-01 01 A  1721.539429\n",
              "1      2019-01-01 02 A  1523.760132\n",
              "2      2019-01-01 03 A  1422.074951\n",
              "3      2019-01-01 04 A  1414.206421\n",
              "4      2019-01-01 05 A  1527.060913\n",
              "...                ...          ...\n",
              "15115  2019-03-31 20 H   286.525177\n",
              "15116  2019-03-31 21 H   301.571869\n",
              "15117  2019-03-31 22 H   279.252869\n",
              "15118  2019-03-31 23 H   244.142807\n",
              "15119  2019-03-31 24 H   214.026443\n",
              "\n",
              "[15120 rows x 2 columns]"
            ]
          },
          "metadata": {},
          "execution_count": 41
        }
      ]
    },
    {
      "cell_type": "code",
      "metadata": {
        "id": "vgIpiLxlkvea"
      },
      "source": [
        "submission.to_csv('submission6.csv', index=False)"
      ],
      "execution_count": 42,
      "outputs": []
    },
    {
      "cell_type": "code",
      "metadata": {
        "id": "dfXsqwrQoqCH"
      },
      "source": [
        ""
      ],
      "execution_count": null,
      "outputs": []
    }
  ]
}